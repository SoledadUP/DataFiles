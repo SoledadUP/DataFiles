{
  "nbformat": 4,
  "nbformat_minor": 0,
  "metadata": {
    "colab": {
      "provenance": [],
      "include_colab_link": true
    },
    "kernelspec": {
      "name": "python3",
      "display_name": "Python 3"
    },
    "language_info": {
      "name": "python"
    }
  },
  "cells": [
    {
      "cell_type": "markdown",
      "metadata": {
        "id": "view-in-github",
        "colab_type": "text"
      },
      "source": [
        "<a href=\"https://colab.research.google.com/github/SoledadUP/DataFiles/blob/main/ensemble.ipynb\" target=\"_parent\"><img src=\"https://colab.research.google.com/assets/colab-badge.svg\" alt=\"Open In Colab\"/></a>"
      ]
    },
    {
      "cell_type": "markdown",
      "metadata": {
        "id": "biTLS2SfA810"
      },
      "source": [
        "# Ejercicio en clase: Modelos de Ensamble\n",
        "\n",
        "Este ejercicio tiene como objetivos:\n",
        "\n",
        "* Aprender a entrenar modelos de ensamble por Votación y Random Forests\n",
        "* Consolidar el conocimiento del proceso de preparación, ajuste y evaluación de modelos predictivos\n",
        "* Practicar la optimización de hiperparámetros usando búsqueda aleatoria y búsqueda en grilla\n",
        "* Visualizar las características más importantes identificadas por Random Forests"
      ]
    },
    {
      "cell_type": "markdown",
      "metadata": {
        "id": "XusXYYPxA813"
      },
      "source": [
        "# Ensamble por votación manual\n",
        "\n",
        "## Ejemplo de `scikit-learn`\n",
        "\n",
        "Como inicio de este ejercicio tomemos una ilustración de la documentación de `scikit-learn`: [Plot the decision boundaries of a VotingClassifier](http://scikit-learn.org/stable/auto_examples/ensemble/plot_voting_decision_regions.html). En ella se diagrama las fronteras de decisión de un modelo de ensamble por votación, usando dos de las cuatro características del [Iris Flower Data Set](https://en.wikipedia.org/wiki/Iris_flower_data_set): largo del sépalo y largo del pétalo.\n",
        "\n",
        "El conjunto de datos Iris contiene 50 muestras de cada una de tres posibles especies de Iris: *Iris setosa, Iris virginica* e *Iris versicolor*. Para cada muestra se tiene la medida en centímetros de cuatro características: largo y ancho de los pétalos y de los sépalos.\n",
        "\n",
        "Este modelo por ensamble combina por votación las probabilidades de clase asignadas por tres clasificadores de base: un árbol de decisión (`DecisionTreeClassifier`), un modelo k-NN (`KNeighborsClassifier`), y una máquina de soporte vectorial con kernel gaussiano (`SVC`).\n",
        "\n",
        "Se ha asignado manualmente a los modelos los pesos `[2, 1, 2]`, lo que significa que, al promediar las probabilidades obtenidas de los modelos, las probabilidades del árbol de decisión y de la máquina de soporte vectorial cuentan el doble que las del modelo k-NN."
      ]
    },
    {
      "cell_type": "code",
      "metadata": {
        "id": "9GmjHYkHCf-0"
      },
      "source": [
        "# Adaptado de http://scikit-learn.org/stable/auto_examples/ensemble/plot_voting_decision_regions.html"
      ],
      "execution_count": null,
      "outputs": []
    },
    {
      "cell_type": "code",
      "metadata": {
        "id": "l6q9X986CiYP"
      },
      "source": [
        "from itertools import product\n",
        "\n",
        "import numpy as np\n",
        "import matplotlib.pyplot as plt\n",
        "import seaborn as sns\n",
        "import pandas as pd\n",
        "\n",
        "from sklearn import datasets\n",
        "from sklearn.tree import DecisionTreeClassifier\n",
        "from sklearn.neighbors import KNeighborsClassifier\n",
        "from sklearn.svm import SVC\n",
        "from sklearn.ensemble import VotingClassifier\n",
        "\n",
        "%matplotlib inline"
      ],
      "execution_count": null,
      "outputs": []
    },
    {
      "cell_type": "code",
      "metadata": {
        "id": "56BhVsUtDt9y"
      },
      "source": [
        "# Cargar el dataset iris\n",
        "iris = datasets.load_iris()"
      ],
      "execution_count": null,
      "outputs": []
    },
    {
      "cell_type": "code",
      "metadata": {
        "colab": {
          "base_uri": "https://localhost:8080/"
        },
        "id": "bZrFuS0NEAkM",
        "outputId": "52d15883-ab45-4683-eed8-49f241102887"
      },
      "source": [
        "iris.data.shape, iris.target.shape"
      ],
      "execution_count": null,
      "outputs": [
        {
          "output_type": "execute_result",
          "data": {
            "text/plain": [
              "((150, 4), (150,))"
            ]
          },
          "metadata": {},
          "execution_count": 11
        }
      ]
    },
    {
      "cell_type": "code",
      "metadata": {
        "id": "4g7UkFtpD2v4"
      },
      "source": [
        "# Usar 2 de los 4 features del dataset iris\n",
        "X = iris.data[:, [0, 2]]\n",
        "y = iris.target"
      ],
      "execution_count": null,
      "outputs": []
    },
    {
      "cell_type": "code",
      "metadata": {
        "colab": {
          "base_uri": "https://localhost:8080/"
        },
        "id": "800xJAWyEICX",
        "outputId": "e19601d0-30fa-4281-ca5d-65378c3efda4"
      },
      "source": [
        "X.shape, y.shape"
      ],
      "execution_count": null,
      "outputs": [
        {
          "output_type": "execute_result",
          "data": {
            "text/plain": [
              "((150, 2), (150,))"
            ]
          },
          "metadata": {},
          "execution_count": 13
        }
      ]
    },
    {
      "cell_type": "code",
      "metadata": {
        "id": "HDni6KNjENI9"
      },
      "source": [
        "# Definir modelos de clasificación\n",
        "model_1 = DecisionTreeClassifier(max_depth=4)\n",
        "model_2 = KNeighborsClassifier(n_neighbors=7)\n",
        "model_3 = SVC(gamma=0.1, kernel=\"rbf\", probability=True)"
      ],
      "execution_count": null,
      "outputs": []
    },
    {
      "cell_type": "code",
      "metadata": {
        "id": "nhhg2l4ZEWFH"
      },
      "source": [
        "# Definir el Voting Classifier\n",
        "ensemble = VotingClassifier(estimators=[(\"dt\", model_1), (\"knn\", model_2), (\"svc\", model_3)],\n",
        "                            voting=\"soft\", weights=[2, 1, 2], n_jobs=-1)"
      ],
      "execution_count": null,
      "outputs": []
    },
    {
      "cell_type": "code",
      "metadata": {
        "colab": {
          "base_uri": "https://localhost:8080/"
        },
        "id": "lpNUKxcTE05-",
        "outputId": "cb246c10-d80b-402a-e412-cb1dc407be25"
      },
      "source": [
        "# Entrenar los modelos\n",
        "model_1.fit(X, y)\n",
        "model_2.fit(X, y)\n",
        "model_3.fit(X, y)\n",
        "ensemble.fit(X, y)"
      ],
      "execution_count": null,
      "outputs": [
        {
          "output_type": "execute_result",
          "data": {
            "text/plain": [
              "VotingClassifier(estimators=[('dt',\n",
              "                              DecisionTreeClassifier(ccp_alpha=0.0,\n",
              "                                                     class_weight=None,\n",
              "                                                     criterion='gini',\n",
              "                                                     max_depth=4,\n",
              "                                                     max_features=None,\n",
              "                                                     max_leaf_nodes=None,\n",
              "                                                     min_impurity_decrease=0.0,\n",
              "                                                     min_impurity_split=None,\n",
              "                                                     min_samples_leaf=1,\n",
              "                                                     min_samples_split=2,\n",
              "                                                     min_weight_fraction_leaf=0.0,\n",
              "                                                     presort='deprecated',\n",
              "                                                     random_state=None,\n",
              "                                                     splitter='best')),\n",
              "                             ('knn',\n",
              "                              KNeighborsC...\n",
              "                                                   metric_params=None,\n",
              "                                                   n_jobs=None, n_neighbors=7,\n",
              "                                                   p=2, weights='uniform')),\n",
              "                             ('svc',\n",
              "                              SVC(C=1.0, break_ties=False, cache_size=200,\n",
              "                                  class_weight=None, coef0=0.0,\n",
              "                                  decision_function_shape='ovr', degree=3,\n",
              "                                  gamma=0.1, kernel='rbf', max_iter=-1,\n",
              "                                  probability=True, random_state=None,\n",
              "                                  shrinking=True, tol=0.001, verbose=False))],\n",
              "                 flatten_transform=True, n_jobs=-1, voting='soft',\n",
              "                 weights=[2, 1, 2])"
            ]
          },
          "metadata": {},
          "execution_count": 16
        }
      ]
    },
    {
      "cell_type": "code",
      "metadata": {
        "id": "pEkowAZsFAUK"
      },
      "source": [
        "# Construir una matriz en la que graficar\n",
        "min_X_value_of_first_feature, max_X_value_of_first_feature = X[:, 0].min(), X[:, 0].max()\n",
        "min_X_value_of_second_feature, max_X_value_of_second_feature = X[:, 1].min(), X[:, 1].max()\n",
        "\n",
        "x_min, x_max = min_X_value_of_first_feature-1, max_X_value_of_first_feature+1\n",
        "y_min, y_max = min_X_value_of_second_feature-1, max_X_value_of_second_feature+1\n",
        "\n",
        "xx, yy = np.meshgrid(np.arange(x_min, x_max, 0.1), np.arange(y_min, y_max, 0.1))\n",
        "\n",
        "flattened_xx = xx.ravel()\n",
        "flattened_yy = yy.ravel()\n",
        "\n",
        "flattened_xx_and_yy_union = np.stack((flattened_xx, flattened_yy), axis=-1)"
      ],
      "execution_count": null,
      "outputs": []
    },
    {
      "cell_type": "code",
      "metadata": {
        "colab": {
          "base_uri": "https://localhost:8080/",
          "height": 499
        },
        "id": "dv3i2YTLGGJk",
        "outputId": "2bb71276-5c42-460b-8919-9b0f4eda7b32"
      },
      "source": [
        "# Crear el gráfico\n",
        "fig, axes = plt.subplots(2, 2, sharex=\"col\", sharey=\"row\", figsize=(10, 8))\n",
        "\n",
        "for idx, model, tt in zip(product([0, 1], [0, 1]),\n",
        "                          [model_1, model_2, model_3, ensemble],\n",
        "                          [\"Decision Tree (depth=4)\", \"KNN (k=7)\", \"Kernel SVM\", \"Soft Voting\"]):\n",
        "\n",
        "    Z = model.predict(flattened_xx_and_yy_union)\n",
        "    Z = Z.reshape(xx.shape)\n",
        "\n",
        "    axes[idx[0], idx[1]].contourf(xx, yy, Z, alpha=0.4)\n",
        "    axes[idx[0], idx[1]].scatter(X[:, 0], X[:, 1], c=y, alpha=0.8)\n",
        "    axes[idx[0], idx[1]].set_title(tt)\n",
        "\n",
        "plt.show()"
      ],
      "execution_count": null,
      "outputs": [
        {
          "output_type": "display_data",
          "data": {
            "image/png": "[encoded data removed]",
            "text/plain": [
              "<Figure size 720x576 with 4 Axes>"
            ]
          },
          "metadata": {
            "needs_background": "light"
          }
        }
      ]
    },
    {
      "cell_type": "code",
      "metadata": {
        "colab": {
          "base_uri": "https://localhost:8080/"
        },
        "id": "cD6m8We_IpXV",
        "outputId": "64881b5e-3811-4a7d-9e2a-c8f23e3e2586"
      },
      "source": [
        "# Ver las predicciones asignadas por KNN (k=7) a cada clase en cada uno de los últimos 5 ejemplos del conjunto de entrenamiento\n",
        "last_5_examples = X[-5:]\n",
        "\n",
        "model_2.predict(last_5_examples)"
      ],
      "execution_count": null,
      "outputs": [
        {
          "output_type": "execute_result",
          "data": {
            "text/plain": [
              "array([2, 2, 2, 2, 2])"
            ]
          },
          "metadata": {},
          "execution_count": 19
        }
      ]
    },
    {
      "cell_type": "code",
      "metadata": {
        "id": "9Ge1CDyfA9w_",
        "colab": {
          "base_uri": "https://localhost:8080/"
        },
        "outputId": "204b7e8b-1bc7-4fe7-984f-bfae070a7853"
      },
      "source": [
        "# Ver las probabilidades de las predicciones asignadas por KNN (k=7) a cada clase en cada uno de los últimos 5 ejemplos del conjunto de entrenamiento\n",
        "last_5_examples = X[-5:]\n",
        "\n",
        "model_2.predict_proba(last_5_examples)"
      ],
      "execution_count": null,
      "outputs": [
        {
          "output_type": "execute_result",
          "data": {
            "text/plain": [
              "array([[0.        , 0.14285714, 0.85714286],\n",
              "       [0.        , 0.14285714, 0.85714286],\n",
              "       [0.        , 0.14285714, 0.85714286],\n",
              "       [0.        , 0.        , 1.        ],\n",
              "       [0.        , 0.14285714, 0.85714286]])"
            ]
          },
          "metadata": {},
          "execution_count": 20
        }
      ]
    },
    {
      "cell_type": "markdown",
      "metadata": {
        "id": "MEaSOE7mA82A"
      },
      "source": [
        "## Evaluación del modelo de ensamble por votación manual\n",
        "\n",
        "Observemos la exactitud *(accuracy)* de cada uno los modelos:"
      ]
    },
    {
      "cell_type": "code",
      "metadata": {
        "id": "FXWkDWnIA82B",
        "colab": {
          "base_uri": "https://localhost:8080/"
        },
        "outputId": "ca32516b-14d6-45e6-933d-9b61f9396c61"
      },
      "source": [
        "print(\"Exactitud del modelo de árbol de decisión     :\", model_1.score(X, y))\n",
        "print(\"Exactitud del modelo de k-NN                  :\", model_2.score(X, y))\n",
        "print(\"Exactitud del modelo SVM de kernel gaussiano  :\", model_3.score(X, y))\n",
        "print(\"Exactitud del modelo de ensamble por votación :\", ensemble.score(X, y))\n"
      ],
      "execution_count": null,
      "outputs": [
        {
          "output_type": "stream",
          "name": "stdout",
          "text": [
            "Exactitud del modelo de árbol de decisión     : 0.98\n",
            "Exactitud del modelo de k-NN                  : 0.9666666666666667\n",
            "Exactitud del modelo SVM de kernel gaussiano  : 0.9533333333333334\n",
            "Exactitud del modelo de ensamble por votación : 0.98\n"
          ]
        }
      ]
    },
    {
      "cell_type": "markdown",
      "metadata": {
        "id": "J6uOIkTNA82F"
      },
      "source": [
        "**Pregunta 1:** ¿A qué crees que se debe que en este caso no se haya llegado a un 100% de exactitud? (sesgo, varianza, error irreducible)\n",
        "\n",
        "**Pregunta 2:** Dado que los modelos anteriores han sido entrenados en la totalidad de instancias del conjunto de datos Iris, ¿se puede decir que los valores anteriores son buenos indicadores del rendimiento que se tendrá fuera de la muestra (p.ej. en un conjunto de pruebas)?, ¿por qué?"
      ]
    },
    {
      "cell_type": "markdown",
      "metadata": {
        "id": "g1GKU3OPJN7_"
      },
      "source": [
        "**Pregunta 1:** ...\n",
        "\n",
        "**Pregunta 2:** ..."
      ]
    },
    {
      "cell_type": "markdown",
      "metadata": {
        "id": "3tWHxqyPA83A"
      },
      "source": [
        "# Ensamble por Bagging con Random Forests\n",
        "\n",
        "En esta parte del ejercicio usaremos el conjunto de datos [Titanic: Machine Learning from Disaster](https://www.kaggle.com/c/titanic). A partir de un conjunto de características sobre cada pasajero se requiere predecir si sobrevivió o no a la tragedia. Ver la [descripción de los datos](https://www.kaggle.com/c/titanic/data)\n",
        "\n",
        "En los siguientes pasos tenemos un ejemplo básico del proceso típico de aprendizaje de modelos predictivos."
      ]
    },
    {
      "cell_type": "markdown",
      "metadata": {
        "id": "R6p1IH7HJdZE"
      },
      "source": [
        "## Obtención y carga de datos"
      ]
    },
    {
      "cell_type": "code",
      "metadata": {
        "id": "abqlfJLZI6Bj",
        "colab": {
          "base_uri": "https://localhost:8080/",
          "height": 34
        },
        "cellView": "form",
        "outputId": "7e7be36a-f492-4bf8-e2f9-d3a4a29f3c2a"
      },
      "source": [
        "#@title Titanic Dataset: train.csv\n",
        "%%writefile train.csv\n",
        "PassengerId,Survived,Pclass,Name,Sex,Age,SibSp,Parch,Ticket,Fare,Cabin,Embarked\n",
        "1,0,3,\"Braund, Mr. Owen Harris\",male,22,1,0,A/5 21171,7.25,,S\n",
        "2,1,1,\"Cumings, Mrs. John Bradley (Florence Briggs Thayer)\",female,38,1,0,PC 17599,71.2833,C85,C\n",
        "3,1,3,\"Heikkinen, Miss. Laina\",female,26,0,0,STON/O2. 3101282,7.925,,S\n",
        "4,1,1,\"Futrelle, Mrs. Jacques Heath (Lily May Peel)\",female,35,1,0,113803,53.1,C123,S\n",
        "5,0,3,\"Allen, Mr. William Henry\",male,35,0,0,373450,8.05,,S\n",
        "6,0,3,\"Moran, Mr. James\",male,,0,0,330877,8.4583,,Q\n",
        "7,0,1,\"McCarthy, Mr. Timothy J\",male,54,0,0,17463,51.8625,E46,S\n",
        "8,0,3,\"Palsson, Master. Gosta Leonard\",male,2,3,1,349909,21.075,,S\n",
        "9,1,3,\"Johnson, Mrs. Oscar W (Elisabeth Vilhelmina Berg)\",female,27,0,2,347742,11.1333,,S\n",
        "10,1,2,\"Nasser, Mrs. Nicholas (Adele Achem)\",female,14,1,0,237736,30.0708,,C\n",
        "11,1,3,\"Sandstrom, Miss. Marguerite Rut\",female,4,1,1,PP 9549,16.7,G6,S\n",
        "12,1,1,\"Bonnell, Miss. Elizabeth\",female,58,0,0,113783,26.55,C103,S\n",
        "13,0,3,\"Saundercock, Mr. William Henry\",male,20,0,0,A/5. 2151,8.05,,S\n",
        "14,0,3,\"Andersson, Mr. Anders Johan\",male,39,1,5,347082,31.275,,S\n",
        "15,0,3,\"Vestrom, Miss. Hulda Amanda Adolfina\",female,14,0,0,350406,7.8542,,S\n",
        "16,1,2,\"Hewlett, Mrs. (Mary D Kingcome) \",female,55,0,0,248706,16,,S\n",
        "17,0,3,\"Rice, Master. Eugene\",male,2,4,1,382652,29.125,,Q\n",
        "18,1,2,\"Williams, Mr. Charles Eugene\",male,,0,0,244373,13,,S\n",
        "19,0,3,\"Vander Planke, Mrs. Julius (Emelia Maria Vandemoortele)\",female,31,1,0,345763,18,,S\n",
        "20,1,3,\"Masselmani, Mrs. Fatima\",female,,0,0,2649,7.225,,C\n",
        "21,0,2,\"Fynney, Mr. Joseph J\",male,35,0,0,239865,26,,S\n",
        "22,1,2,\"Beesley, Mr. Lawrence\",male,34,0,0,248698,13,D56,S\n",
        "23,1,3,\"McGowan, Miss. Anna \"\"Annie\"\"\",female,15,0,0,330923,8.0292,,Q\n",
        "24,1,1,\"Sloper, Mr. William Thompson\",male,28,0,0,113788,35.5,A6,S\n",
        "25,0,3,\"Palsson, Miss. Torborg Danira\",female,8,3,1,349909,21.075,,S\n",
        "26,1,3,\"Asplund, Mrs. Carl Oscar (Selma Augusta Emilia Johansson)\",female,38,1,5,347077,31.3875,,S\n",
        "27,0,3,\"Emir, Mr. Farred Chehab\",male,,0,0,2631,7.225,,C\n",
        "28,0,1,\"Fortune, Mr. Charles Alexander\",male,19,3,2,19950,263,C23 C25 C27,S\n",
        "29,1,3,\"O'Dwyer, Miss. Ellen \"\"Nellie\"\"\",female,,0,0,330959,7.8792,,Q\n",
        "30,0,3,\"Todoroff, Mr. Lalio\",male,,0,0,349216,7.8958,,S\n",
        "31,0,1,\"Uruchurtu, Don. Manuel E\",male,40,0,0,PC 17601,27.7208,,C\n",
        "32,1,1,\"Spencer, Mrs. William Augustus (Marie Eugenie)\",female,,1,0,PC 17569,146.5208,B78,C\n",
        "33,1,3,\"Glynn, Miss. Mary Agatha\",female,,0,0,335677,7.75,,Q\n",
        "34,0,2,\"Wheadon, Mr. Edward H\",male,66,0,0,C.A. 24579,10.5,,S\n",
        "35,0,1,\"Meyer, Mr. Edgar Joseph\",male,28,1,0,PC 17604,82.1708,,C\n",
        "36,0,1,\"Holverson, Mr. Alexander Oskar\",male,42,1,0,113789,52,,S\n",
        "37,1,3,\"Mamee, Mr. Hanna\",male,,0,0,2677,7.2292,,C\n",
        "38,0,3,\"Cann, Mr. Ernest Charles\",male,21,0,0,A./5. 2152,8.05,,S\n",
        "39,0,3,\"Vander Planke, Miss. Augusta Maria\",female,18,2,0,345764,18,,S\n",
        "40,1,3,\"Nicola-Yarred, Miss. Jamila\",female,14,1,0,2651,11.2417,,C\n",
        "41,0,3,\"Ahlin, Mrs. Johan (Johanna Persdotter Larsson)\",female,40,1,0,7546,9.475,,S\n",
        "42,0,2,\"Turpin, Mrs. William John Robert (Dorothy Ann Wonnacott)\",female,27,1,0,11668,21,,S\n",
        "43,0,3,\"Kraeff, Mr. Theodor\",male,,0,0,349253,7.8958,,C\n",
        "44,1,2,\"Laroche, Miss. Simonne Marie Anne Andree\",female,3,1,2,SC/Paris 2123,41.5792,,C\n",
        "45,1,3,\"Devaney, Miss. Margaret Delia\",female,19,0,0,330958,7.8792,,Q\n",
        "46,0,3,\"Rogers, Mr. William John\",male,,0,0,S.C./A.4. 23567,8.05,,S\n",
        "47,0,3,\"Lennon, Mr. Denis\",male,,1,0,370371,15.5,,Q\n",
        "48,1,3,\"O'Driscoll, Miss. Bridget\",female,,0,0,14311,7.75,,Q\n",
        "49,0,3,\"Samaan, Mr. Youssef\",male,,2,0,2662,21.6792,,C\n",
        "50,0,3,\"Arnold-Franchi, Mrs. Josef (Josefine Franchi)\",female,18,1,0,349237,17.8,,S\n",
        "51,0,3,\"Panula, Master. Juha Niilo\",male,7,4,1,3101295,39.6875,,S\n",
        "52,0,3,\"Nosworthy, Mr. Richard Cater\",male,21,0,0,A/4. 39886,7.8,,S\n",
        "53,1,1,\"Harper, Mrs. Henry Sleeper (Myna Haxtun)\",female,49,1,0,PC 17572,76.7292,D33,C\n",
        "54,1,2,\"Faunthorpe, Mrs. Lizzie (Elizabeth Anne Wilkinson)\",female,29,1,0,2926,26,,S\n",
        "55,0,1,\"Ostby, Mr. Engelhart Cornelius\",male,65,0,1,113509,61.9792,B30,C\n",
        "56,1,1,\"Woolner, Mr. Hugh\",male,,0,0,19947,35.5,C52,S\n",
        "57,1,2,\"Rugg, Miss. Emily\",female,21,0,0,C.A. 31026,10.5,,S\n",
        "58,0,3,\"Novel, Mr. Mansouer\",male,28.5,0,0,2697,7.2292,,C\n",
        "59,1,2,\"West, Miss. Constance Mirium\",female,5,1,2,C.A. 34651,27.75,,S\n",
        "60,0,3,\"Goodwin, Master. William Frederick\",male,11,5,2,CA 2144,46.9,,S\n",
        "61,0,3,\"Sirayanian, Mr. Orsen\",male,22,0,0,2669,7.2292,,C\n",
        "62,1,1,\"Icard, Miss. Amelie\",female,38,0,0,113572,80,B28,\n",
        "63,0,1,\"Harris, Mr. Henry Birkhardt\",male,45,1,0,36973,83.475,C83,S\n",
        "64,0,3,\"Skoog, Master. Harald\",male,4,3,2,347088,27.9,,S\n",
        "65,0,1,\"Stewart, Mr. Albert A\",male,,0,0,PC 17605,27.7208,,C\n",
        "66,1,3,\"Moubarek, Master. Gerios\",male,,1,1,2661,15.2458,,C\n",
        "67,1,2,\"Nye, Mrs. (Elizabeth Ramell)\",female,29,0,0,C.A. 29395,10.5,F33,S\n",
        "68,0,3,\"Crease, Mr. Ernest James\",male,19,0,0,S.P. 3464,8.1583,,S\n",
        "69,1,3,\"Andersson, Miss. Erna Alexandra\",female,17,4,2,3101281,7.925,,S\n",
        "70,0,3,\"Kink, Mr. Vincenz\",male,26,2,0,315151,8.6625,,S\n",
        "71,0,2,\"Jenkin, Mr. Stephen Curnow\",male,32,0,0,C.A. 33111,10.5,,S\n",
        "72,0,3,\"Goodwin, Miss. Lillian Amy\",female,16,5,2,CA 2144,46.9,,S\n",
        "73,0,2,\"Hood, Mr. Ambrose Jr\",male,21,0,0,S.O.C. 14879,73.5,,S\n",
        "74,0,3,\"Chronopoulos, Mr. Apostolos\",male,26,1,0,2680,14.4542,,C\n",
        "75,1,3,\"Bing, Mr. Lee\",male,32,0,0,1601,56.4958,,S\n",
        "76,0,3,\"Moen, Mr. Sigurd Hansen\",male,25,0,0,348123,7.65,F G73,S\n",
        "77,0,3,\"Staneff, Mr. Ivan\",male,,0,0,349208,7.8958,,S\n",
        "78,0,3,\"Moutal, Mr. Rahamin Haim\",male,,0,0,374746,8.05,,S\n",
        "79,1,2,\"Caldwell, Master. Alden Gates\",male,0.83,0,2,248738,29,,S\n",
        "80,1,3,\"Dowdell, Miss. Elizabeth\",female,30,0,0,364516,12.475,,S\n",
        "81,0,3,\"Waelens, Mr. Achille\",male,22,0,0,345767,9,,S\n",
        "82,1,3,\"Sheerlinck, Mr. Jan Baptist\",male,29,0,0,345779,9.5,,S\n",
        "83,1,3,\"McDermott, Miss. Brigdet Delia\",female,,0,0,330932,7.7875,,Q\n",
        "84,0,1,\"Carrau, Mr. Francisco M\",male,28,0,0,113059,47.1,,S\n",
        "85,1,2,\"Ilett, Miss. Bertha\",female,17,0,0,SO/C 14885,10.5,,S\n",
        "86,1,3,\"Backstrom, Mrs. Karl Alfred (Maria Mathilda Gustafsson)\",female,33,3,0,3101278,15.85,,S\n",
        "87,0,3,\"Ford, Mr. William Neal\",male,16,1,3,W./C. 6608,34.375,,S\n",
        "88,0,3,\"Slocovski, Mr. Selman Francis\",male,,0,0,SOTON/OQ 392086,8.05,,S\n",
        "89,1,1,\"Fortune, Miss. Mabel Helen\",female,23,3,2,19950,263,C23 C25 C27,S\n",
        "90,0,3,\"Celotti, Mr. Francesco\",male,24,0,0,343275,8.05,,S\n",
        "91,0,3,\"Christmann, Mr. Emil\",male,29,0,0,343276,8.05,,S\n",
        "92,0,3,\"Andreasson, Mr. Paul Edvin\",male,20,0,0,347466,7.8542,,S\n",
        "93,0,1,\"Chaffee, Mr. Herbert Fuller\",male,46,1,0,W.E.P. 5734,61.175,E31,S\n",
        "94,0,3,\"Dean, Mr. Bertram Frank\",male,26,1,2,C.A. 2315,20.575,,S\n",
        "95,0,3,\"Coxon, Mr. Daniel\",male,59,0,0,364500,7.25,,S\n",
        "96,0,3,\"Shorney, Mr. Charles Joseph\",male,,0,0,374910,8.05,,S\n",
        "97,0,1,\"Goldschmidt, Mr. George B\",male,71,0,0,PC 17754,34.6542,A5,C\n",
        "98,1,1,\"Greenfield, Mr. William Bertram\",male,23,0,1,PC 17759,63.3583,D10 D12,C\n",
        "99,1,2,\"Doling, Mrs. John T (Ada Julia Bone)\",female,34,0,1,231919,23,,S\n",
        "100,0,2,\"Kantor, Mr. Sinai\",male,34,1,0,244367,26,,S\n",
        "101,0,3,\"Petranec, Miss. Matilda\",female,28,0,0,349245,7.8958,,S\n",
        "102,0,3,\"Petroff, Mr. Pastcho (\"\"Pentcho\"\")\",male,,0,0,349215,7.8958,,S\n",
        "103,0,1,\"White, Mr. Richard Frasar\",male,21,0,1,35281,77.2875,D26,S\n",
        "104,0,3,\"Johansson, Mr. Gustaf Joel\",male,33,0,0,7540,8.6542,,S\n",
        "105,0,3,\"Gustafsson, Mr. Anders Vilhelm\",male,37,2,0,3101276,7.925,,S\n",
        "106,0,3,\"Mionoff, Mr. Stoytcho\",male,28,0,0,349207,7.8958,,S\n",
        "107,1,3,\"Salkjelsvik, Miss. Anna Kristine\",female,21,0,0,343120,7.65,,S\n",
        "108,1,3,\"Moss, Mr. Albert Johan\",male,,0,0,312991,7.775,,S\n",
        "109,0,3,\"Rekic, Mr. Tido\",male,38,0,0,349249,7.8958,,S\n",
        "110,1,3,\"Moran, Miss. Bertha\",female,,1,0,371110,24.15,,Q\n",
        "111,0,1,\"Porter, Mr. Walter Chamberlain\",male,47,0,0,110465,52,C110,S\n",
        "112,0,3,\"Zabour, Miss. Hileni\",female,14.5,1,0,2665,14.4542,,C\n",
        "113,0,3,\"Barton, Mr. David John\",male,22,0,0,324669,8.05,,S\n",
        "114,0,3,\"Jussila, Miss. Katriina\",female,20,1,0,4136,9.825,,S\n",
        "115,0,3,\"Attalah, Miss. Malake\",female,17,0,0,2627,14.4583,,C\n",
        "116,0,3,\"Pekoniemi, Mr. Edvard\",male,21,0,0,STON/O 2. 3101294,7.925,,S\n",
        "117,0,3,\"Connors, Mr. Patrick\",male,70.5,0,0,370369,7.75,,Q\n",
        "118,0,2,\"Turpin, Mr. William John Robert\",male,29,1,0,11668,21,,S\n",
        "119,0,1,\"Baxter, Mr. Quigg Edmond\",male,24,0,1,PC 17558,247.5208,B58 B60,C\n",
        "120,0,3,\"Andersson, Miss. Ellis Anna Maria\",female,2,4,2,347082,31.275,,S\n",
        "121,0,2,\"Hickman, Mr. Stanley George\",male,21,2,0,S.O.C. 14879,73.5,,S\n",
        "122,0,3,\"Moore, Mr. Leonard Charles\",male,,0,0,A4. 54510,8.05,,S\n",
        "123,0,2,\"Nasser, Mr. Nicholas\",male,32.5,1,0,237736,30.0708,,C\n",
        "124,1,2,\"Webber, Miss. Susan\",female,32.5,0,0,27267,13,E101,S\n",
        "125,0,1,\"White, Mr. Percival Wayland\",male,54,0,1,35281,77.2875,D26,S\n",
        "126,1,3,\"Nicola-Yarred, Master. Elias\",male,12,1,0,2651,11.2417,,C\n",
        "127,0,3,\"McMahon, Mr. Martin\",male,,0,0,370372,7.75,,Q\n",
        "128,1,3,\"Madsen, Mr. Fridtjof Arne\",male,24,0,0,C 17369,7.1417,,S\n",
        "129,1,3,\"Peter, Miss. Anna\",female,,1,1,2668,22.3583,F E69,C\n",
        "130,0,3,\"Ekstrom, Mr. Johan\",male,45,0,0,347061,6.975,,S\n",
        "131,0,3,\"Drazenoic, Mr. Jozef\",male,33,0,0,349241,7.8958,,C\n",
        "132,0,3,\"Coelho, Mr. Domingos Fernandeo\",male,20,0,0,SOTON/O.Q. 3101307,7.05,,S\n",
        "133,0,3,\"Robins, Mrs. Alexander A (Grace Charity Laury)\",female,47,1,0,A/5. 3337,14.5,,S\n",
        "134,1,2,\"Weisz, Mrs. Leopold (Mathilde Francoise Pede)\",female,29,1,0,228414,26,,S\n",
        "135,0,2,\"Sobey, Mr. Samuel James Hayden\",male,25,0,0,C.A. 29178,13,,S\n",
        "136,0,2,\"Richard, Mr. Emile\",male,23,0,0,SC/PARIS 2133,15.0458,,C\n",
        "137,1,1,\"Newsom, Miss. Helen Monypeny\",female,19,0,2,11752,26.2833,D47,S\n",
        "138,0,1,\"Futrelle, Mr. Jacques Heath\",male,37,1,0,113803,53.1,C123,S\n",
        "139,0,3,\"Osen, Mr. Olaf Elon\",male,16,0,0,7534,9.2167,,S\n",
        "140,0,1,\"Giglio, Mr. Victor\",male,24,0,0,PC 17593,79.2,B86,C\n",
        "141,0,3,\"Boulos, Mrs. Joseph (Sultana)\",female,,0,2,2678,15.2458,,C\n",
        "142,1,3,\"Nysten, Miss. Anna Sofia\",female,22,0,0,347081,7.75,,S\n",
        "143,1,3,\"Hakkarainen, Mrs. Pekka Pietari (Elin Matilda Dolck)\",female,24,1,0,STON/O2. 3101279,15.85,,S\n",
        "144,0,3,\"Burke, Mr. Jeremiah\",male,19,0,0,365222,6.75,,Q\n",
        "145,0,2,\"Andrew, Mr. Edgardo Samuel\",male,18,0,0,231945,11.5,,S\n",
        "146,0,2,\"Nicholls, Mr. Joseph Charles\",male,19,1,1,C.A. 33112,36.75,,S\n",
        "147,1,3,\"Andersson, Mr. August Edvard (\"\"Wennerstrom\"\")\",male,27,0,0,350043,7.7958,,S\n",
        "148,0,3,\"Ford, Miss. Robina Maggie \"\"Ruby\"\"\",female,9,2,2,W./C. 6608,34.375,,S\n",
        "149,0,2,\"Navratil, Mr. Michel (\"\"Louis M Hoffman\"\")\",male,36.5,0,2,230080,26,F2,S\n",
        "150,0,2,\"Byles, Rev. Thomas Roussel Davids\",male,42,0,0,244310,13,,S\n",
        "151,0,2,\"Bateman, Rev. Robert James\",male,51,0,0,S.O.P. 1166,12.525,,S\n",
        "152,1,1,\"Pears, Mrs. Thomas (Edith Wearne)\",female,22,1,0,113776,66.6,C2,S\n",
        "153,0,3,\"Meo, Mr. Alfonzo\",male,55.5,0,0,A.5. 11206,8.05,,S\n",
        "154,0,3,\"van Billiard, Mr. Austin Blyler\",male,40.5,0,2,A/5. 851,14.5,,S\n",
        "155,0,3,\"Olsen, Mr. Ole Martin\",male,,0,0,Fa 265302,7.3125,,S\n",
        "156,0,1,\"Williams, Mr. Charles Duane\",male,51,0,1,PC 17597,61.3792,,C\n",
        "157,1,3,\"Gilnagh, Miss. Katherine \"\"Katie\"\"\",female,16,0,0,35851,7.7333,,Q\n",
        "158,0,3,\"Corn, Mr. Harry\",male,30,0,0,SOTON/OQ 392090,8.05,,S\n",
        "159,0,3,\"Smiljanic, Mr. Mile\",male,,0,0,315037,8.6625,,S\n",
        "160,0,3,\"Sage, Master. Thomas Henry\",male,,8,2,CA. 2343,69.55,,S\n",
        "161,0,3,\"Cribb, Mr. John Hatfield\",male,44,0,1,371362,16.1,,S\n",
        "162,1,2,\"Watt, Mrs. James (Elizabeth \"\"Bessie\"\" Inglis Milne)\",female,40,0,0,C.A. 33595,15.75,,S\n",
        "163,0,3,\"Bengtsson, Mr. John Viktor\",male,26,0,0,347068,7.775,,S\n",
        "164,0,3,\"Calic, Mr. Jovo\",male,17,0,0,315093,8.6625,,S\n",
        "165,0,3,\"Panula, Master. Eino Viljami\",male,1,4,1,3101295,39.6875,,S\n",
        "166,1,3,\"Goldsmith, Master. Frank John William \"\"Frankie\"\"\",male,9,0,2,363291,20.525,,S\n",
        "167,1,1,\"Chibnall, Mrs. (Edith Martha Bowerman)\",female,,0,1,113505,55,E33,S\n",
        "168,0,3,\"Skoog, Mrs. William (Anna Bernhardina Karlsson)\",female,45,1,4,347088,27.9,,S\n",
        "169,0,1,\"Baumann, Mr. John D\",male,,0,0,PC 17318,25.925,,S\n",
        "170,0,3,\"Ling, Mr. Lee\",male,28,0,0,1601,56.4958,,S\n",
        "171,0,1,\"Van der hoef, Mr. Wyckoff\",male,61,0,0,111240,33.5,B19,S\n",
        "172,0,3,\"Rice, Master. Arthur\",male,4,4,1,382652,29.125,,Q\n",
        "173,1,3,\"Johnson, Miss. Eleanor Ileen\",female,1,1,1,347742,11.1333,,S\n",
        "174,0,3,\"Sivola, Mr. Antti Wilhelm\",male,21,0,0,STON/O 2. 3101280,7.925,,S\n",
        "175,0,1,\"Smith, Mr. James Clinch\",male,56,0,0,17764,30.6958,A7,C\n",
        "176,0,3,\"Klasen, Mr. Klas Albin\",male,18,1,1,350404,7.8542,,S\n",
        "177,0,3,\"Lefebre, Master. Henry Forbes\",male,,3,1,4133,25.4667,,S\n",
        "178,0,1,\"Isham, Miss. Ann Elizabeth\",female,50,0,0,PC 17595,28.7125,C49,C\n",
        "179,0,2,\"Hale, Mr. Reginald\",male,30,0,0,250653,13,,S\n",
        "180,0,3,\"Leonard, Mr. Lionel\",male,36,0,0,LINE,0,,S\n",
        "181,0,3,\"Sage, Miss. Constance Gladys\",female,,8,2,CA. 2343,69.55,,S\n",
        "182,0,2,\"Pernot, Mr. Rene\",male,,0,0,SC/PARIS 2131,15.05,,C\n",
        "183,0,3,\"Asplund, Master. Clarence Gustaf Hugo\",male,9,4,2,347077,31.3875,,S\n",
        "184,1,2,\"Becker, Master. Richard F\",male,1,2,1,230136,39,F4,S\n",
        "185,1,3,\"Kink-Heilmann, Miss. Luise Gretchen\",female,4,0,2,315153,22.025,,S\n",
        "186,0,1,\"Rood, Mr. Hugh Roscoe\",male,,0,0,113767,50,A32,S\n",
        "187,1,3,\"O'Brien, Mrs. Thomas (Johanna \"\"Hannah\"\" Godfrey)\",female,,1,0,370365,15.5,,Q\n",
        "188,1,1,\"Romaine, Mr. Charles Hallace (\"\"Mr C Rolmane\"\")\",male,45,0,0,111428,26.55,,S\n",
        "189,0,3,\"Bourke, Mr. John\",male,40,1,1,364849,15.5,,Q\n",
        "190,0,3,\"Turcin, Mr. Stjepan\",male,36,0,0,349247,7.8958,,S\n",
        "191,1,2,\"Pinsky, Mrs. (Rosa)\",female,32,0,0,234604,13,,S\n",
        "192,0,2,\"Carbines, Mr. William\",male,19,0,0,28424,13,,S\n",
        "193,1,3,\"Andersen-Jensen, Miss. Carla Christine Nielsine\",female,19,1,0,350046,7.8542,,S\n",
        "194,1,2,\"Navratil, Master. Michel M\",male,3,1,1,230080,26,F2,S\n",
        "195,1,1,\"Brown, Mrs. James Joseph (Margaret Tobin)\",female,44,0,0,PC 17610,27.7208,B4,C\n",
        "196,1,1,\"Lurette, Miss. Elise\",female,58,0,0,PC 17569,146.5208,B80,C\n",
        "197,0,3,\"Mernagh, Mr. Robert\",male,,0,0,368703,7.75,,Q\n",
        "198,0,3,\"Olsen, Mr. Karl Siegwart Andreas\",male,42,0,1,4579,8.4042,,S\n",
        "199,1,3,\"Madigan, Miss. Margaret \"\"Maggie\"\"\",female,,0,0,370370,7.75,,Q\n",
        "200,0,2,\"Yrois, Miss. Henriette (\"\"Mrs Harbeck\"\")\",female,24,0,0,248747,13,,S\n",
        "201,0,3,\"Vande Walle, Mr. Nestor Cyriel\",male,28,0,0,345770,9.5,,S\n",
        "202,0,3,\"Sage, Mr. Frederick\",male,,8,2,CA. 2343,69.55,,S\n",
        "203,0,3,\"Johanson, Mr. Jakob Alfred\",male,34,0,0,3101264,6.4958,,S\n",
        "204,0,3,\"Youseff, Mr. Gerious\",male,45.5,0,0,2628,7.225,,C\n",
        "205,1,3,\"Cohen, Mr. Gurshon \"\"Gus\"\"\",male,18,0,0,A/5 3540,8.05,,S\n",
        "206,0,3,\"Strom, Miss. Telma Matilda\",female,2,0,1,347054,10.4625,G6,S\n",
        "207,0,3,\"Backstrom, Mr. Karl Alfred\",male,32,1,0,3101278,15.85,,S\n",
        "208,1,3,\"Albimona, Mr. Nassef Cassem\",male,26,0,0,2699,18.7875,,C\n",
        "209,1,3,\"Carr, Miss. Helen \"\"Ellen\"\"\",female,16,0,0,367231,7.75,,Q\n",
        "210,1,1,\"Blank, Mr. Henry\",male,40,0,0,112277,31,A31,C\n",
        "211,0,3,\"Ali, Mr. Ahmed\",male,24,0,0,SOTON/O.Q. 3101311,7.05,,S\n",
        "212,1,2,\"Cameron, Miss. Clear Annie\",female,35,0,0,F.C.C. 13528,21,,S\n",
        "213,0,3,\"Perkin, Mr. John Henry\",male,22,0,0,A/5 21174,7.25,,S\n",
        "214,0,2,\"Givard, Mr. Hans Kristensen\",male,30,0,0,250646,13,,S\n",
        "215,0,3,\"Kiernan, Mr. Philip\",male,,1,0,367229,7.75,,Q\n",
        "216,1,1,\"Newell, Miss. Madeleine\",female,31,1,0,35273,113.275,D36,C\n",
        "217,1,3,\"Honkanen, Miss. Eliina\",female,27,0,0,STON/O2. 3101283,7.925,,S\n",
        "218,0,2,\"Jacobsohn, Mr. Sidney Samuel\",male,42,1,0,243847,27,,S\n",
        "219,1,1,\"Bazzani, Miss. Albina\",female,32,0,0,11813,76.2917,D15,C\n",
        "220,0,2,\"Harris, Mr. Walter\",male,30,0,0,W/C 14208,10.5,,S\n",
        "221,1,3,\"Sunderland, Mr. Victor Francis\",male,16,0,0,SOTON/OQ 392089,8.05,,S\n",
        "222,0,2,\"Bracken, Mr. James H\",male,27,0,0,220367,13,,S\n",
        "223,0,3,\"Green, Mr. George Henry\",male,51,0,0,21440,8.05,,S\n",
        "224,0,3,\"Nenkoff, Mr. Christo\",male,,0,0,349234,7.8958,,S\n",
        "225,1,1,\"Hoyt, Mr. Frederick Maxfield\",male,38,1,0,19943,90,C93,S\n",
        "226,0,3,\"Berglund, Mr. Karl Ivar Sven\",male,22,0,0,PP 4348,9.35,,S\n",
        "227,1,2,\"Mellors, Mr. William John\",male,19,0,0,SW/PP 751,10.5,,S\n",
        "228,0,3,\"Lovell, Mr. John Hall (\"\"Henry\"\")\",male,20.5,0,0,A/5 21173,7.25,,S\n",
        "229,0,2,\"Fahlstrom, Mr. Arne Jonas\",male,18,0,0,236171,13,,S\n",
        "230,0,3,\"Lefebre, Miss. Mathilde\",female,,3,1,4133,25.4667,,S\n",
        "231,1,1,\"Harris, Mrs. Henry Birkhardt (Irene Wallach)\",female,35,1,0,36973,83.475,C83,S\n",
        "232,0,3,\"Larsson, Mr. Bengt Edvin\",male,29,0,0,347067,7.775,,S\n",
        "233,0,2,\"Sjostedt, Mr. Ernst Adolf\",male,59,0,0,237442,13.5,,S\n",
        "234,1,3,\"Asplund, Miss. Lillian Gertrud\",female,5,4,2,347077,31.3875,,S\n",
        "235,0,2,\"Leyson, Mr. Robert William Norman\",male,24,0,0,C.A. 29566,10.5,,S\n",
        "236,0,3,\"Harknett, Miss. Alice Phoebe\",female,,0,0,W./C. 6609,7.55,,S\n",
        "237,0,2,\"Hold, Mr. Stephen\",male,44,1,0,26707,26,,S\n",
        "238,1,2,\"Collyer, Miss. Marjorie \"\"Lottie\"\"\",female,8,0,2,C.A. 31921,26.25,,S\n",
        "239,0,2,\"Pengelly, Mr. Frederick William\",male,19,0,0,28665,10.5,,S\n",
        "240,0,2,\"Hunt, Mr. George Henry\",male,33,0,0,SCO/W 1585,12.275,,S\n",
        "241,0,3,\"Zabour, Miss. Thamine\",female,,1,0,2665,14.4542,,C\n",
        "242,1,3,\"Murphy, Miss. Katherine \"\"Kate\"\"\",female,,1,0,367230,15.5,,Q\n",
        "243,0,2,\"Coleridge, Mr. Reginald Charles\",male,29,0,0,W./C. 14263,10.5,,S\n",
        "244,0,3,\"Maenpaa, Mr. Matti Alexanteri\",male,22,0,0,STON/O 2. 3101275,7.125,,S\n",
        "245,0,3,\"Attalah, Mr. Sleiman\",male,30,0,0,2694,7.225,,C\n",
        "246,0,1,\"Minahan, Dr. William Edward\",male,44,2,0,19928,90,C78,Q\n",
        "247,0,3,\"Lindahl, Miss. Agda Thorilda Viktoria\",female,25,0,0,347071,7.775,,S\n",
        "248,1,2,\"Hamalainen, Mrs. William (Anna)\",female,24,0,2,250649,14.5,,S\n",
        "249,1,1,\"Beckwith, Mr. Richard Leonard\",male,37,1,1,11751,52.5542,D35,S\n",
        "250,0,2,\"Carter, Rev. Ernest Courtenay\",male,54,1,0,244252,26,,S\n",
        "251,0,3,\"Reed, Mr. James George\",male,,0,0,362316,7.25,,S\n",
        "252,0,3,\"Strom, Mrs. Wilhelm (Elna Matilda Persson)\",female,29,1,1,347054,10.4625,G6,S\n",
        "253,0,1,\"Stead, Mr. William Thomas\",male,62,0,0,113514,26.55,C87,S\n",
        "254,0,3,\"Lobb, Mr. William Arthur\",male,30,1,0,A/5. 3336,16.1,,S\n",
        "255,0,3,\"Rosblom, Mrs. Viktor (Helena Wilhelmina)\",female,41,0,2,370129,20.2125,,S\n",
        "256,1,3,\"Touma, Mrs. Darwis (Hanne Youssef Razi)\",female,29,0,2,2650,15.2458,,C\n",
        "257,1,1,\"Thorne, Mrs. Gertrude Maybelle\",female,,0,0,PC 17585,79.2,,C\n",
        "258,1,1,\"Cherry, Miss. Gladys\",female,30,0,0,110152,86.5,B77,S\n",
        "259,1,1,\"Ward, Miss. Anna\",female,35,0,0,PC 17755,512.3292,,C\n",
        "260,1,2,\"Parrish, Mrs. (Lutie Davis)\",female,50,0,1,230433,26,,S\n",
        "261,0,3,\"Smith, Mr. Thomas\",male,,0,0,384461,7.75,,Q\n",
        "262,1,3,\"Asplund, Master. Edvin Rojj Felix\",male,3,4,2,347077,31.3875,,S\n",
        "263,0,1,\"Taussig, Mr. Emil\",male,52,1,1,110413,79.65,E67,S\n",
        "264,0,1,\"Harrison, Mr. William\",male,40,0,0,112059,0,B94,S\n",
        "265,0,3,\"Henry, Miss. Delia\",female,,0,0,382649,7.75,,Q\n",
        "266,0,2,\"Reeves, Mr. David\",male,36,0,0,C.A. 17248,10.5,,S\n",
        "267,0,3,\"Panula, Mr. Ernesti Arvid\",male,16,4,1,3101295,39.6875,,S\n",
        "268,1,3,\"Persson, Mr. Ernst Ulrik\",male,25,1,0,347083,7.775,,S\n",
        "269,1,1,\"Graham, Mrs. William Thompson (Edith Junkins)\",female,58,0,1,PC 17582,153.4625,C125,S\n",
        "270,1,1,\"Bissette, Miss. Amelia\",female,35,0,0,PC 17760,135.6333,C99,S\n",
        "271,0,1,\"Cairns, Mr. Alexander\",male,,0,0,113798,31,,S\n",
        "272,1,3,\"Tornquist, Mr. William Henry\",male,25,0,0,LINE,0,,S\n",
        "273,1,2,\"Mellinger, Mrs. (Elizabeth Anne Maidment)\",female,41,0,1,250644,19.5,,S\n",
        "274,0,1,\"Natsch, Mr. Charles H\",male,37,0,1,PC 17596,29.7,C118,C\n",
        "275,1,3,\"Healy, Miss. Hanora \"\"Nora\"\"\",female,,0,0,370375,7.75,,Q\n",
        "276,1,1,\"Andrews, Miss. Kornelia Theodosia\",female,63,1,0,13502,77.9583,D7,S\n",
        "277,0,3,\"Lindblom, Miss. Augusta Charlotta\",female,45,0,0,347073,7.75,,S\n",
        "278,0,2,\"Parkes, Mr. Francis \"\"Frank\"\"\",male,,0,0,239853,0,,S\n",
        "279,0,3,\"Rice, Master. Eric\",male,7,4,1,382652,29.125,,Q\n",
        "280,1,3,\"Abbott, Mrs. Stanton (Rosa Hunt)\",female,35,1,1,C.A. 2673,20.25,,S\n",
        "281,0,3,\"Duane, Mr. Frank\",male,65,0,0,336439,7.75,,Q\n",
        "282,0,3,\"Olsson, Mr. Nils Johan Goransson\",male,28,0,0,347464,7.8542,,S\n",
        "283,0,3,\"de Pelsmaeker, Mr. Alfons\",male,16,0,0,345778,9.5,,S\n",
        "284,1,3,\"Dorking, Mr. Edward Arthur\",male,19,0,0,A/5. 10482,8.05,,S\n",
        "285,0,1,\"Smith, Mr. Richard William\",male,,0,0,113056,26,A19,S\n",
        "286,0,3,\"Stankovic, Mr. Ivan\",male,33,0,0,349239,8.6625,,C\n",
        "287,1,3,\"de Mulder, Mr. Theodore\",male,30,0,0,345774,9.5,,S\n",
        "288,0,3,\"Naidenoff, Mr. Penko\",male,22,0,0,349206,7.8958,,S\n",
        "289,1,2,\"Hosono, Mr. Masabumi\",male,42,0,0,237798,13,,S\n",
        "290,1,3,\"Connolly, Miss. Kate\",female,22,0,0,370373,7.75,,Q\n",
        "291,1,1,\"Barber, Miss. Ellen \"\"Nellie\"\"\",female,26,0,0,19877,78.85,,S\n",
        "292,1,1,\"Bishop, Mrs. Dickinson H (Helen Walton)\",female,19,1,0,11967,91.0792,B49,C\n",
        "293,0,2,\"Levy, Mr. Rene Jacques\",male,36,0,0,SC/Paris 2163,12.875,D,C\n",
        "294,0,3,\"Haas, Miss. Aloisia\",female,24,0,0,349236,8.85,,S\n",
        "295,0,3,\"Mineff, Mr. Ivan\",male,24,0,0,349233,7.8958,,S\n",
        "296,0,1,\"Lewy, Mr. Ervin G\",male,,0,0,PC 17612,27.7208,,C\n",
        "297,0,3,\"Hanna, Mr. Mansour\",male,23.5,0,0,2693,7.2292,,C\n",
        "298,0,1,\"Allison, Miss. Helen Loraine\",female,2,1,2,113781,151.55,C22 C26,S\n",
        "299,1,1,\"Saalfeld, Mr. Adolphe\",male,,0,0,19988,30.5,C106,S\n",
        "300,1,1,\"Baxter, Mrs. James (Helene DeLaudeniere Chaput)\",female,50,0,1,PC 17558,247.5208,B58 B60,C\n",
        "301,1,3,\"Kelly, Miss. Anna Katherine \"\"Annie Kate\"\"\",female,,0,0,9234,7.75,,Q\n",
        "302,1,3,\"McCoy, Mr. Bernard\",male,,2,0,367226,23.25,,Q\n",
        "303,0,3,\"Johnson, Mr. William Cahoone Jr\",male,19,0,0,LINE,0,,S\n",
        "304,1,2,\"Keane, Miss. Nora A\",female,,0,0,226593,12.35,E101,Q\n",
        "305,0,3,\"Williams, Mr. Howard Hugh \"\"Harry\"\"\",male,,0,0,A/5 2466,8.05,,S\n",
        "306,1,1,\"Allison, Master. Hudson Trevor\",male,0.92,1,2,113781,151.55,C22 C26,S\n",
        "307,1,1,\"Fleming, Miss. Margaret\",female,,0,0,17421,110.8833,,C\n",
        "308,1,1,\"Penasco y Castellana, Mrs. Victor de Satode (Maria Josefa Perez de Soto y Vallejo)\",female,17,1,0,PC 17758,108.9,C65,C\n",
        "309,0,2,\"Abelson, Mr. Samuel\",male,30,1,0,P/PP 3381,24,,C\n",
        "310,1,1,\"Francatelli, Miss. Laura Mabel\",female,30,0,0,PC 17485,56.9292,E36,C\n",
        "311,1,1,\"Hays, Miss. Margaret Bechstein\",female,24,0,0,11767,83.1583,C54,C\n",
        "312,1,1,\"Ryerson, Miss. Emily Borie\",female,18,2,2,PC 17608,262.375,B57 B59 B63 B66,C\n",
        "313,0,2,\"Lahtinen, Mrs. William (Anna Sylfven)\",female,26,1,1,250651,26,,S\n",
        "314,0,3,\"Hendekovic, Mr. Ignjac\",male,28,0,0,349243,7.8958,,S\n",
        "315,0,2,\"Hart, Mr. Benjamin\",male,43,1,1,F.C.C. 13529,26.25,,S\n",
        "316,1,3,\"Nilsson, Miss. Helmina Josefina\",female,26,0,0,347470,7.8542,,S\n",
        "317,1,2,\"Kantor, Mrs. Sinai (Miriam Sternin)\",female,24,1,0,244367,26,,S\n",
        "318,0,2,\"Moraweck, Dr. Ernest\",male,54,0,0,29011,14,,S\n",
        "319,1,1,\"Wick, Miss. Mary Natalie\",female,31,0,2,36928,164.8667,C7,S\n",
        "320,1,1,\"Spedden, Mrs. Frederic Oakley (Margaretta Corning Stone)\",female,40,1,1,16966,134.5,E34,C\n",
        "321,0,3,\"Dennis, Mr. Samuel\",male,22,0,0,A/5 21172,7.25,,S\n",
        "322,0,3,\"Danoff, Mr. Yoto\",male,27,0,0,349219,7.8958,,S\n",
        "323,1,2,\"Slayter, Miss. Hilda Mary\",female,30,0,0,234818,12.35,,Q\n",
        "324,1,2,\"Caldwell, Mrs. Albert Francis (Sylvia Mae Harbaugh)\",female,22,1,1,248738,29,,S\n",
        "325,0,3,\"Sage, Mr. George John Jr\",male,,8,2,CA. 2343,69.55,,S\n",
        "326,1,1,\"Young, Miss. Marie Grice\",female,36,0,0,PC 17760,135.6333,C32,C\n",
        "327,0,3,\"Nysveen, Mr. Johan Hansen\",male,61,0,0,345364,6.2375,,S\n",
        "328,1,2,\"Ball, Mrs. (Ada E Hall)\",female,36,0,0,28551,13,D,S\n",
        "329,1,3,\"Goldsmith, Mrs. Frank John (Emily Alice Brown)\",female,31,1,1,363291,20.525,,S\n",
        "330,1,1,\"Hippach, Miss. Jean Gertrude\",female,16,0,1,111361,57.9792,B18,C\n",
        "331,1,3,\"McCoy, Miss. Agnes\",female,,2,0,367226,23.25,,Q\n",
        "332,0,1,\"Partner, Mr. Austen\",male,45.5,0,0,113043,28.5,C124,S\n",
        "333,0,1,\"Graham, Mr. George Edward\",male,38,0,1,PC 17582,153.4625,C91,S\n",
        "334,0,3,\"Vander Planke, Mr. Leo Edmondus\",male,16,2,0,345764,18,,S\n",
        "335,1,1,\"Frauenthal, Mrs. Henry William (Clara Heinsheimer)\",female,,1,0,PC 17611,133.65,,S\n",
        "336,0,3,\"Denkoff, Mr. Mitto\",male,,0,0,349225,7.8958,,S\n",
        "337,0,1,\"Pears, Mr. Thomas Clinton\",male,29,1,0,113776,66.6,C2,S\n",
        "338,1,1,\"Burns, Miss. Elizabeth Margaret\",female,41,0,0,16966,134.5,E40,C\n",
        "339,1,3,\"Dahl, Mr. Karl Edwart\",male,45,0,0,7598,8.05,,S\n",
        "340,0,1,\"Blackwell, Mr. Stephen Weart\",male,45,0,0,113784,35.5,T,S\n",
        "341,1,2,\"Navratil, Master. Edmond Roger\",male,2,1,1,230080,26,F2,S\n",
        "342,1,1,\"Fortune, Miss. Alice Elizabeth\",female,24,3,2,19950,263,C23 C25 C27,S\n",
        "343,0,2,\"Collander, Mr. Erik Gustaf\",male,28,0,0,248740,13,,S\n",
        "344,0,2,\"Sedgwick, Mr. Charles Frederick Waddington\",male,25,0,0,244361,13,,S\n",
        "345,0,2,\"Fox, Mr. Stanley Hubert\",male,36,0,0,229236,13,,S\n",
        "346,1,2,\"Brown, Miss. Amelia \"\"Mildred\"\"\",female,24,0,0,248733,13,F33,S\n",
        "347,1,2,\"Smith, Miss. Marion Elsie\",female,40,0,0,31418,13,,S\n",
        "348,1,3,\"Davison, Mrs. Thomas Henry (Mary E Finck)\",female,,1,0,386525,16.1,,S\n",
        "349,1,3,\"Coutts, Master. William Loch \"\"William\"\"\",male,3,1,1,C.A. 37671,15.9,,S\n",
        "350,0,3,\"Dimic, Mr. Jovan\",male,42,0,0,315088,8.6625,,S\n",
        "351,0,3,\"Odahl, Mr. Nils Martin\",male,23,0,0,7267,9.225,,S\n",
        "352,0,1,\"Williams-Lambert, Mr. Fletcher Fellows\",male,,0,0,113510,35,C128,S\n",
        "353,0,3,\"Elias, Mr. Tannous\",male,15,1,1,2695,7.2292,,C\n",
        "354,0,3,\"Arnold-Franchi, Mr. Josef\",male,25,1,0,349237,17.8,,S\n",
        "355,0,3,\"Yousif, Mr. Wazli\",male,,0,0,2647,7.225,,C\n",
        "356,0,3,\"Vanden Steen, Mr. Leo Peter\",male,28,0,0,345783,9.5,,S\n",
        "357,1,1,\"Bowerman, Miss. Elsie Edith\",female,22,0,1,113505,55,E33,S\n",
        "358,0,2,\"Funk, Miss. Annie Clemmer\",female,38,0,0,237671,13,,S\n",
        "359,1,3,\"McGovern, Miss. Mary\",female,,0,0,330931,7.8792,,Q\n",
        "360,1,3,\"Mockler, Miss. Helen Mary \"\"Ellie\"\"\",female,,0,0,330980,7.8792,,Q\n",
        "361,0,3,\"Skoog, Mr. Wilhelm\",male,40,1,4,347088,27.9,,S\n",
        "362,0,2,\"del Carlo, Mr. Sebastiano\",male,29,1,0,SC/PARIS 2167,27.7208,,C\n",
        "363,0,3,\"Barbara, Mrs. (Catherine David)\",female,45,0,1,2691,14.4542,,C\n",
        "364,0,3,\"Asim, Mr. Adola\",male,35,0,0,SOTON/O.Q. 3101310,7.05,,S\n",
        "365,0,3,\"O'Brien, Mr. Thomas\",male,,1,0,370365,15.5,,Q\n",
        "366,0,3,\"Adahl, Mr. Mauritz Nils Martin\",male,30,0,0,C 7076,7.25,,S\n",
        "367,1,1,\"Warren, Mrs. Frank Manley (Anna Sophia Atkinson)\",female,60,1,0,110813,75.25,D37,C\n",
        "368,1,3,\"Moussa, Mrs. (Mantoura Boulos)\",female,,0,0,2626,7.2292,,C\n",
        "369,1,3,\"Jermyn, Miss. Annie\",female,,0,0,14313,7.75,,Q\n",
        "370,1,1,\"Aubart, Mme. Leontine Pauline\",female,24,0,0,PC 17477,69.3,B35,C\n",
        "371,1,1,\"Harder, Mr. George Achilles\",male,25,1,0,11765,55.4417,E50,C\n",
        "372,0,3,\"Wiklund, Mr. Jakob Alfred\",male,18,1,0,3101267,6.4958,,S\n",
        "373,0,3,\"Beavan, Mr. William Thomas\",male,19,0,0,323951,8.05,,S\n",
        "374,0,1,\"Ringhini, Mr. Sante\",male,22,0,0,PC 17760,135.6333,,C\n",
        "375,0,3,\"Palsson, Miss. Stina Viola\",female,3,3,1,349909,21.075,,S\n",
        "376,1,1,\"Meyer, Mrs. Edgar Joseph (Leila Saks)\",female,,1,0,PC 17604,82.1708,,C\n",
        "377,1,3,\"Landergren, Miss. Aurora Adelia\",female,22,0,0,C 7077,7.25,,S\n",
        "378,0,1,\"Widener, Mr. Harry Elkins\",male,27,0,2,113503,211.5,C82,C\n",
        "379,0,3,\"Betros, Mr. Tannous\",male,20,0,0,2648,4.0125,,C\n",
        "380,0,3,\"Gustafsson, Mr. Karl Gideon\",male,19,0,0,347069,7.775,,S\n",
        "381,1,1,\"Bidois, Miss. Rosalie\",female,42,0,0,PC 17757,227.525,,C\n",
        "382,1,3,\"Nakid, Miss. Maria (\"\"Mary\"\")\",female,1,0,2,2653,15.7417,,C\n",
        "383,0,3,\"Tikkanen, Mr. Juho\",male,32,0,0,STON/O 2. 3101293,7.925,,S\n",
        "384,1,1,\"Holverson, Mrs. Alexander Oskar (Mary Aline Towner)\",female,35,1,0,113789,52,,S\n",
        "385,0,3,\"Plotcharsky, Mr. Vasil\",male,,0,0,349227,7.8958,,S\n",
        "386,0,2,\"Davies, Mr. Charles Henry\",male,18,0,0,S.O.C. 14879,73.5,,S\n",
        "387,0,3,\"Goodwin, Master. Sidney Leonard\",male,1,5,2,CA 2144,46.9,,S\n",
        "388,1,2,\"Buss, Miss. Kate\",female,36,0,0,27849,13,,S\n",
        "389,0,3,\"Sadlier, Mr. Matthew\",male,,0,0,367655,7.7292,,Q\n",
        "390,1,2,\"Lehmann, Miss. Bertha\",female,17,0,0,SC 1748,12,,C\n",
        "391,1,1,\"Carter, Mr. William Ernest\",male,36,1,2,113760,120,B96 B98,S\n",
        "392,1,3,\"Jansson, Mr. Carl Olof\",male,21,0,0,350034,7.7958,,S\n",
        "393,0,3,\"Gustafsson, Mr. Johan Birger\",male,28,2,0,3101277,7.925,,S\n",
        "394,1,1,\"Newell, Miss. Marjorie\",female,23,1,0,35273,113.275,D36,C\n",
        "395,1,3,\"Sandstrom, Mrs. Hjalmar (Agnes Charlotta Bengtsson)\",female,24,0,2,PP 9549,16.7,G6,S\n",
        "396,0,3,\"Johansson, Mr. Erik\",male,22,0,0,350052,7.7958,,S\n",
        "397,0,3,\"Olsson, Miss. Elina\",female,31,0,0,350407,7.8542,,S\n",
        "398,0,2,\"McKane, Mr. Peter David\",male,46,0,0,28403,26,,S\n",
        "399,0,2,\"Pain, Dr. Alfred\",male,23,0,0,244278,10.5,,S\n",
        "400,1,2,\"Trout, Mrs. William H (Jessie L)\",female,28,0,0,240929,12.65,,S\n",
        "401,1,3,\"Niskanen, Mr. Juha\",male,39,0,0,STON/O 2. 3101289,7.925,,S\n",
        "402,0,3,\"Adams, Mr. John\",male,26,0,0,341826,8.05,,S\n",
        "403,0,3,\"Jussila, Miss. Mari Aina\",female,21,1,0,4137,9.825,,S\n",
        "404,0,3,\"Hakkarainen, Mr. Pekka Pietari\",male,28,1,0,STON/O2. 3101279,15.85,,S\n",
        "405,0,3,\"Oreskovic, Miss. Marija\",female,20,0,0,315096,8.6625,,S\n",
        "406,0,2,\"Gale, Mr. Shadrach\",male,34,1,0,28664,21,,S\n",
        "407,0,3,\"Widegren, Mr. Carl/Charles Peter\",male,51,0,0,347064,7.75,,S\n",
        "408,1,2,\"Richards, Master. William Rowe\",male,3,1,1,29106,18.75,,S\n",
        "409,0,3,\"Birkeland, Mr. Hans Martin Monsen\",male,21,0,0,312992,7.775,,S\n",
        "410,0,3,\"Lefebre, Miss. Ida\",female,,3,1,4133,25.4667,,S\n",
        "411,0,3,\"Sdycoff, Mr. Todor\",male,,0,0,349222,7.8958,,S\n",
        "412,0,3,\"Hart, Mr. Henry\",male,,0,0,394140,6.8583,,Q\n",
        "413,1,1,\"Minahan, Miss. Daisy E\",female,33,1,0,19928,90,C78,Q\n",
        "414,0,2,\"Cunningham, Mr. Alfred Fleming\",male,,0,0,239853,0,,S\n",
        "415,1,3,\"Sundman, Mr. Johan Julian\",male,44,0,0,STON/O 2. 3101269,7.925,,S\n",
        "416,0,3,\"Meek, Mrs. Thomas (Annie Louise Rowley)\",female,,0,0,343095,8.05,,S\n",
        "417,1,2,\"Drew, Mrs. James Vivian (Lulu Thorne Christian)\",female,34,1,1,28220,32.5,,S\n",
        "418,1,2,\"Silven, Miss. Lyyli Karoliina\",female,18,0,2,250652,13,,S\n",
        "419,0,2,\"Matthews, Mr. William John\",male,30,0,0,28228,13,,S\n",
        "420,0,3,\"Van Impe, Miss. Catharina\",female,10,0,2,345773,24.15,,S\n",
        "421,0,3,\"Gheorgheff, Mr. Stanio\",male,,0,0,349254,7.8958,,C\n",
        "422,0,3,\"Charters, Mr. David\",male,21,0,0,A/5. 13032,7.7333,,Q\n",
        "423,0,3,\"Zimmerman, Mr. Leo\",male,29,0,0,315082,7.875,,S\n",
        "424,0,3,\"Danbom, Mrs. Ernst Gilbert (Anna Sigrid Maria Brogren)\",female,28,1,1,347080,14.4,,S\n",
        "425,0,3,\"Rosblom, Mr. Viktor Richard\",male,18,1,1,370129,20.2125,,S\n",
        "426,0,3,\"Wiseman, Mr. Phillippe\",male,,0,0,A/4. 34244,7.25,,S\n",
        "427,1,2,\"Clarke, Mrs. Charles V (Ada Maria Winfield)\",female,28,1,0,2003,26,,S\n",
        "428,1,2,\"Phillips, Miss. Kate Florence (\"\"Mrs Kate Louise Phillips Marshall\"\")\",female,19,0,0,250655,26,,S\n",
        "429,0,3,\"Flynn, Mr. James\",male,,0,0,364851,7.75,,Q\n",
        "430,1,3,\"Pickard, Mr. Berk (Berk Trembisky)\",male,32,0,0,SOTON/O.Q. 392078,8.05,E10,S\n",
        "431,1,1,\"Bjornstrom-Steffansson, Mr. Mauritz Hakan\",male,28,0,0,110564,26.55,C52,S\n",
        "432,1,3,\"Thorneycroft, Mrs. Percival (Florence Kate White)\",female,,1,0,376564,16.1,,S\n",
        "433,1,2,\"Louch, Mrs. Charles Alexander (Alice Adelaide Slow)\",female,42,1,0,SC/AH 3085,26,,S\n",
        "434,0,3,\"Kallio, Mr. Nikolai Erland\",male,17,0,0,STON/O 2. 3101274,7.125,,S\n",
        "435,0,1,\"Silvey, Mr. William Baird\",male,50,1,0,13507,55.9,E44,S\n",
        "436,1,1,\"Carter, Miss. Lucile Polk\",female,14,1,2,113760,120,B96 B98,S\n",
        "437,0,3,\"Ford, Miss. Doolina Margaret \"\"Daisy\"\"\",female,21,2,2,W./C. 6608,34.375,,S\n",
        "438,1,2,\"Richards, Mrs. Sidney (Emily Hocking)\",female,24,2,3,29106,18.75,,S\n",
        "439,0,1,\"Fortune, Mr. Mark\",male,64,1,4,19950,263,C23 C25 C27,S\n",
        "440,0,2,\"Kvillner, Mr. Johan Henrik Johannesson\",male,31,0,0,C.A. 18723,10.5,,S\n",
        "441,1,2,\"Hart, Mrs. Benjamin (Esther Ada Bloomfield)\",female,45,1,1,F.C.C. 13529,26.25,,S\n",
        "442,0,3,\"Hampe, Mr. Leon\",male,20,0,0,345769,9.5,,S\n",
        "443,0,3,\"Petterson, Mr. Johan Emil\",male,25,1,0,347076,7.775,,S\n",
        "444,1,2,\"Reynaldo, Ms. Encarnacion\",female,28,0,0,230434,13,,S\n",
        "445,1,3,\"Johannesen-Bratthammer, Mr. Bernt\",male,,0,0,65306,8.1125,,S\n",
        "446,1,1,\"Dodge, Master. Washington\",male,4,0,2,33638,81.8583,A34,S\n",
        "447,1,2,\"Mellinger, Miss. Madeleine Violet\",female,13,0,1,250644,19.5,,S\n",
        "448,1,1,\"Seward, Mr. Frederic Kimber\",male,34,0,0,113794,26.55,,S\n",
        "449,1,3,\"Baclini, Miss. Marie Catherine\",female,5,2,1,2666,19.2583,,C\n",
        "450,1,1,\"Peuchen, Major. Arthur Godfrey\",male,52,0,0,113786,30.5,C104,S\n",
        "451,0,2,\"West, Mr. Edwy Arthur\",male,36,1,2,C.A. 34651,27.75,,S\n",
        "452,0,3,\"Hagland, Mr. Ingvald Olai Olsen\",male,,1,0,65303,19.9667,,S\n",
        "453,0,1,\"Foreman, Mr. Benjamin Laventall\",male,30,0,0,113051,27.75,C111,C\n",
        "454,1,1,\"Goldenberg, Mr. Samuel L\",male,49,1,0,17453,89.1042,C92,C\n",
        "455,0,3,\"Peduzzi, Mr. Joseph\",male,,0,0,A/5 2817,8.05,,S\n",
        "456,1,3,\"Jalsevac, Mr. Ivan\",male,29,0,0,349240,7.8958,,C\n",
        "457,0,1,\"Millet, Mr. Francis Davis\",male,65,0,0,13509,26.55,E38,S\n",
        "458,1,1,\"Kenyon, Mrs. Frederick R (Marion)\",female,,1,0,17464,51.8625,D21,S\n",
        "459,1,2,\"Toomey, Miss. Ellen\",female,50,0,0,F.C.C. 13531,10.5,,S\n",
        "460,0,3,\"O'Connor, Mr. Maurice\",male,,0,0,371060,7.75,,Q\n",
        "461,1,1,\"Anderson, Mr. Harry\",male,48,0,0,19952,26.55,E12,S\n",
        "462,0,3,\"Morley, Mr. William\",male,34,0,0,364506,8.05,,S\n",
        "463,0,1,\"Gee, Mr. Arthur H\",male,47,0,0,111320,38.5,E63,S\n",
        "464,0,2,\"Milling, Mr. Jacob Christian\",male,48,0,0,234360,13,,S\n",
        "465,0,3,\"Maisner, Mr. Simon\",male,,0,0,A/S 2816,8.05,,S\n",
        "466,0,3,\"Goncalves, Mr. Manuel Estanslas\",male,38,0,0,SOTON/O.Q. 3101306,7.05,,S\n",
        "467,0,2,\"Campbell, Mr. William\",male,,0,0,239853,0,,S\n",
        "468,0,1,\"Smart, Mr. John Montgomery\",male,56,0,0,113792,26.55,,S\n",
        "469,0,3,\"Scanlan, Mr. James\",male,,0,0,36209,7.725,,Q\n",
        "470,1,3,\"Baclini, Miss. Helene Barbara\",female,0.75,2,1,2666,19.2583,,C\n",
        "471,0,3,\"Keefe, Mr. Arthur\",male,,0,0,323592,7.25,,S\n",
        "472,0,3,\"Cacic, Mr. Luka\",male,38,0,0,315089,8.6625,,S\n",
        "473,1,2,\"West, Mrs. Edwy Arthur (Ada Mary Worth)\",female,33,1,2,C.A. 34651,27.75,,S\n",
        "474,1,2,\"Jerwan, Mrs. Amin S (Marie Marthe Thuillard)\",female,23,0,0,SC/AH Basle 541,13.7917,D,C\n",
        "475,0,3,\"Strandberg, Miss. Ida Sofia\",female,22,0,0,7553,9.8375,,S\n",
        "476,0,1,\"Clifford, Mr. George Quincy\",male,,0,0,110465,52,A14,S\n",
        "477,0,2,\"Renouf, Mr. Peter Henry\",male,34,1,0,31027,21,,S\n",
        "478,0,3,\"Braund, Mr. Lewis Richard\",male,29,1,0,3460,7.0458,,S\n",
        "479,0,3,\"Karlsson, Mr. Nils August\",male,22,0,0,350060,7.5208,,S\n",
        "480,1,3,\"Hirvonen, Miss. Hildur E\",female,2,0,1,3101298,12.2875,,S\n",
        "481,0,3,\"Goodwin, Master. Harold Victor\",male,9,5,2,CA 2144,46.9,,S\n",
        "482,0,2,\"Frost, Mr. Anthony Wood \"\"Archie\"\"\",male,,0,0,239854,0,,S\n",
        "483,0,3,\"Rouse, Mr. Richard Henry\",male,50,0,0,A/5 3594,8.05,,S\n",
        "484,1,3,\"Turkula, Mrs. (Hedwig)\",female,63,0,0,4134,9.5875,,S\n",
        "485,1,1,\"Bishop, Mr. Dickinson H\",male,25,1,0,11967,91.0792,B49,C\n",
        "486,0,3,\"Lefebre, Miss. Jeannie\",female,,3,1,4133,25.4667,,S\n",
        "487,1,1,\"Hoyt, Mrs. Frederick Maxfield (Jane Anne Forby)\",female,35,1,0,19943,90,C93,S\n",
        "488,0,1,\"Kent, Mr. Edward Austin\",male,58,0,0,11771,29.7,B37,C\n",
        "489,0,3,\"Somerton, Mr. Francis William\",male,30,0,0,A.5. 18509,8.05,,S\n",
        "490,1,3,\"Coutts, Master. Eden Leslie \"\"Neville\"\"\",male,9,1,1,C.A. 37671,15.9,,S\n",
        "491,0,3,\"Hagland, Mr. Konrad Mathias Reiersen\",male,,1,0,65304,19.9667,,S\n",
        "492,0,3,\"Windelov, Mr. Einar\",male,21,0,0,SOTON/OQ 3101317,7.25,,S\n",
        "493,0,1,\"Molson, Mr. Harry Markland\",male,55,0,0,113787,30.5,C30,S\n",
        "494,0,1,\"Artagaveytia, Mr. Ramon\",male,71,0,0,PC 17609,49.5042,,C\n",
        "495,0,3,\"Stanley, Mr. Edward Roland\",male,21,0,0,A/4 45380,8.05,,S\n",
        "496,0,3,\"Yousseff, Mr. Gerious\",male,,0,0,2627,14.4583,,C\n",
        "497,1,1,\"Eustis, Miss. Elizabeth Mussey\",female,54,1,0,36947,78.2667,D20,C\n",
        "498,0,3,\"Shellard, Mr. Frederick William\",male,,0,0,C.A. 6212,15.1,,S\n",
        "499,0,1,\"Allison, Mrs. Hudson J C (Bessie Waldo Daniels)\",female,25,1,2,113781,151.55,C22 C26,S\n",
        "500,0,3,\"Svensson, Mr. Olof\",male,24,0,0,350035,7.7958,,S\n",
        "501,0,3,\"Calic, Mr. Petar\",male,17,0,0,315086,8.6625,,S\n",
        "502,0,3,\"Canavan, Miss. Mary\",female,21,0,0,364846,7.75,,Q\n",
        "503,0,3,\"O'Sullivan, Miss. Bridget Mary\",female,,0,0,330909,7.6292,,Q\n",
        "504,0,3,\"Laitinen, Miss. Kristina Sofia\",female,37,0,0,4135,9.5875,,S\n",
        "505,1,1,\"Maioni, Miss. Roberta\",female,16,0,0,110152,86.5,B79,S\n",
        "506,0,1,\"Penasco y Castellana, Mr. Victor de Satode\",male,18,1,0,PC 17758,108.9,C65,C\n",
        "507,1,2,\"Quick, Mrs. Frederick Charles (Jane Richards)\",female,33,0,2,26360,26,,S\n",
        "508,1,1,\"Bradley, Mr. George (\"\"George Arthur Brayton\"\")\",male,,0,0,111427,26.55,,S\n",
        "509,0,3,\"Olsen, Mr. Henry Margido\",male,28,0,0,C 4001,22.525,,S\n",
        "510,1,3,\"Lang, Mr. Fang\",male,26,0,0,1601,56.4958,,S\n",
        "511,1,3,\"Daly, Mr. Eugene Patrick\",male,29,0,0,382651,7.75,,Q\n",
        "512,0,3,\"Webber, Mr. James\",male,,0,0,SOTON/OQ 3101316,8.05,,S\n",
        "513,1,1,\"McGough, Mr. James Robert\",male,36,0,0,PC 17473,26.2875,E25,S\n",
        "514,1,1,\"Rothschild, Mrs. Martin (Elizabeth L. Barrett)\",female,54,1,0,PC 17603,59.4,,C\n",
        "515,0,3,\"Coleff, Mr. Satio\",male,24,0,0,349209,7.4958,,S\n",
        "516,0,1,\"Walker, Mr. William Anderson\",male,47,0,0,36967,34.0208,D46,S\n",
        "517,1,2,\"Lemore, Mrs. (Amelia Milley)\",female,34,0,0,C.A. 34260,10.5,F33,S\n",
        "518,0,3,\"Ryan, Mr. Patrick\",male,,0,0,371110,24.15,,Q\n",
        "519,1,2,\"Angle, Mrs. William A (Florence \"\"Mary\"\" Agnes Hughes)\",female,36,1,0,226875,26,,S\n",
        "520,0,3,\"Pavlovic, Mr. Stefo\",male,32,0,0,349242,7.8958,,S\n",
        "521,1,1,\"Perreault, Miss. Anne\",female,30,0,0,12749,93.5,B73,S\n",
        "522,0,3,\"Vovk, Mr. Janko\",male,22,0,0,349252,7.8958,,S\n",
        "523,0,3,\"Lahoud, Mr. Sarkis\",male,,0,0,2624,7.225,,C\n",
        "524,1,1,\"Hippach, Mrs. Louis Albert (Ida Sophia Fischer)\",female,44,0,1,111361,57.9792,B18,C\n",
        "525,0,3,\"Kassem, Mr. Fared\",male,,0,0,2700,7.2292,,C\n",
        "526,0,3,\"Farrell, Mr. James\",male,40.5,0,0,367232,7.75,,Q\n",
        "527,1,2,\"Ridsdale, Miss. Lucy\",female,50,0,0,W./C. 14258,10.5,,S\n",
        "528,0,1,\"Farthing, Mr. John\",male,,0,0,PC 17483,221.7792,C95,S\n",
        "529,0,3,\"Salonen, Mr. Johan Werner\",male,39,0,0,3101296,7.925,,S\n",
        "530,0,2,\"Hocking, Mr. Richard George\",male,23,2,1,29104,11.5,,S\n",
        "531,1,2,\"Quick, Miss. Phyllis May\",female,2,1,1,26360,26,,S\n",
        "532,0,3,\"Toufik, Mr. Nakli\",male,,0,0,2641,7.2292,,C\n",
        "533,0,3,\"Elias, Mr. Joseph Jr\",male,17,1,1,2690,7.2292,,C\n",
        "534,1,3,\"Peter, Mrs. Catherine (Catherine Rizk)\",female,,0,2,2668,22.3583,,C\n",
        "535,0,3,\"Cacic, Miss. Marija\",female,30,0,0,315084,8.6625,,S\n",
        "536,1,2,\"Hart, Miss. Eva Miriam\",female,7,0,2,F.C.C. 13529,26.25,,S\n",
        "537,0,1,\"Butt, Major. Archibald Willingham\",male,45,0,0,113050,26.55,B38,S\n",
        "538,1,1,\"LeRoy, Miss. Bertha\",female,30,0,0,PC 17761,106.425,,C\n",
        "539,0,3,\"Risien, Mr. Samuel Beard\",male,,0,0,364498,14.5,,S\n",
        "540,1,1,\"Frolicher, Miss. Hedwig Margaritha\",female,22,0,2,13568,49.5,B39,C\n",
        "541,1,1,\"Crosby, Miss. Harriet R\",female,36,0,2,WE/P 5735,71,B22,S\n",
        "542,0,3,\"Andersson, Miss. Ingeborg Constanzia\",female,9,4,2,347082,31.275,,S\n",
        "543,0,3,\"Andersson, Miss. Sigrid Elisabeth\",female,11,4,2,347082,31.275,,S\n",
        "544,1,2,\"Beane, Mr. Edward\",male,32,1,0,2908,26,,S\n",
        "545,0,1,\"Douglas, Mr. Walter Donald\",male,50,1,0,PC 17761,106.425,C86,C\n",
        "546,0,1,\"Nicholson, Mr. Arthur Ernest\",male,64,0,0,693,26,,S\n",
        "547,1,2,\"Beane, Mrs. Edward (Ethel Clarke)\",female,19,1,0,2908,26,,S\n",
        "548,1,2,\"Padro y Manent, Mr. Julian\",male,,0,0,SC/PARIS 2146,13.8625,,C\n",
        "549,0,3,\"Goldsmith, Mr. Frank John\",male,33,1,1,363291,20.525,,S\n",
        "550,1,2,\"Davies, Master. John Morgan Jr\",male,8,1,1,C.A. 33112,36.75,,S\n",
        "551,1,1,\"Thayer, Mr. John Borland Jr\",male,17,0,2,17421,110.8833,C70,C\n",
        "552,0,2,\"Sharp, Mr. Percival James R\",male,27,0,0,244358,26,,S\n",
        "553,0,3,\"O'Brien, Mr. Timothy\",male,,0,0,330979,7.8292,,Q\n",
        "554,1,3,\"Leeni, Mr. Fahim (\"\"Philip Zenni\"\")\",male,22,0,0,2620,7.225,,C\n",
        "555,1,3,\"Ohman, Miss. Velin\",female,22,0,0,347085,7.775,,S\n",
        "556,0,1,\"Wright, Mr. George\",male,62,0,0,113807,26.55,,S\n",
        "557,1,1,\"Duff Gordon, Lady. (Lucille Christiana Sutherland) (\"\"Mrs Morgan\"\")\",female,48,1,0,11755,39.6,A16,C\n",
        "558,0,1,\"Robbins, Mr. Victor\",male,,0,0,PC 17757,227.525,,C\n",
        "559,1,1,\"Taussig, Mrs. Emil (Tillie Mandelbaum)\",female,39,1,1,110413,79.65,E67,S\n",
        "560,1,3,\"de Messemaeker, Mrs. Guillaume Joseph (Emma)\",female,36,1,0,345572,17.4,,S\n",
        "561,0,3,\"Morrow, Mr. Thomas Rowan\",male,,0,0,372622,7.75,,Q\n",
        "562,0,3,\"Sivic, Mr. Husein\",male,40,0,0,349251,7.8958,,S\n",
        "563,0,2,\"Norman, Mr. Robert Douglas\",male,28,0,0,218629,13.5,,S\n",
        "564,0,3,\"Simmons, Mr. John\",male,,0,0,SOTON/OQ 392082,8.05,,S\n",
        "565,0,3,\"Meanwell, Miss. (Marion Ogden)\",female,,0,0,SOTON/O.Q. 392087,8.05,,S\n",
        "566,0,3,\"Davies, Mr. Alfred J\",male,24,2,0,A/4 48871,24.15,,S\n",
        "567,0,3,\"Stoytcheff, Mr. Ilia\",male,19,0,0,349205,7.8958,,S\n",
        "568,0,3,\"Palsson, Mrs. Nils (Alma Cornelia Berglund)\",female,29,0,4,349909,21.075,,S\n",
        "569,0,3,\"Doharr, Mr. Tannous\",male,,0,0,2686,7.2292,,C\n",
        "570,1,3,\"Jonsson, Mr. Carl\",male,32,0,0,350417,7.8542,,S\n",
        "571,1,2,\"Harris, Mr. George\",male,62,0,0,S.W./PP 752,10.5,,S\n",
        "572,1,1,\"Appleton, Mrs. Edward Dale (Charlotte Lamson)\",female,53,2,0,11769,51.4792,C101,S\n",
        "573,1,1,\"Flynn, Mr. John Irwin (\"\"Irving\"\")\",male,36,0,0,PC 17474,26.3875,E25,S\n",
        "574,1,3,\"Kelly, Miss. Mary\",female,,0,0,14312,7.75,,Q\n",
        "575,0,3,\"Rush, Mr. Alfred George John\",male,16,0,0,A/4. 20589,8.05,,S\n",
        "576,0,3,\"Patchett, Mr. George\",male,19,0,0,358585,14.5,,S\n",
        "577,1,2,\"Garside, Miss. Ethel\",female,34,0,0,243880,13,,S\n",
        "578,1,1,\"Silvey, Mrs. William Baird (Alice Munger)\",female,39,1,0,13507,55.9,E44,S\n",
        "579,0,3,\"Caram, Mrs. Joseph (Maria Elias)\",female,,1,0,2689,14.4583,,C\n",
        "580,1,3,\"Jussila, Mr. Eiriik\",male,32,0,0,STON/O 2. 3101286,7.925,,S\n",
        "581,1,2,\"Christy, Miss. Julie Rachel\",female,25,1,1,237789,30,,S\n",
        "582,1,1,\"Thayer, Mrs. John Borland (Marian Longstreth Morris)\",female,39,1,1,17421,110.8833,C68,C\n",
        "583,0,2,\"Downton, Mr. William James\",male,54,0,0,28403,26,,S\n",
        "584,0,1,\"Ross, Mr. John Hugo\",male,36,0,0,13049,40.125,A10,C\n",
        "585,0,3,\"Paulner, Mr. Uscher\",male,,0,0,3411,8.7125,,C\n",
        "586,1,1,\"Taussig, Miss. Ruth\",female,18,0,2,110413,79.65,E68,S\n",
        "587,0,2,\"Jarvis, Mr. John Denzil\",male,47,0,0,237565,15,,S\n",
        "588,1,1,\"Frolicher-Stehli, Mr. Maxmillian\",male,60,1,1,13567,79.2,B41,C\n",
        "589,0,3,\"Gilinski, Mr. Eliezer\",male,22,0,0,14973,8.05,,S\n",
        "590,0,3,\"Murdlin, Mr. Joseph\",male,,0,0,A./5. 3235,8.05,,S\n",
        "591,0,3,\"Rintamaki, Mr. Matti\",male,35,0,0,STON/O 2. 3101273,7.125,,S\n",
        "592,1,1,\"Stephenson, Mrs. Walter Bertram (Martha Eustis)\",female,52,1,0,36947,78.2667,D20,C\n",
        "593,0,3,\"Elsbury, Mr. William James\",male,47,0,0,A/5 3902,7.25,,S\n",
        "594,0,3,\"Bourke, Miss. Mary\",female,,0,2,364848,7.75,,Q\n",
        "595,0,2,\"Chapman, Mr. John Henry\",male,37,1,0,SC/AH 29037,26,,S\n",
        "596,0,3,\"Van Impe, Mr. Jean Baptiste\",male,36,1,1,345773,24.15,,S\n",
        "597,1,2,\"Leitch, Miss. Jessie Wills\",female,,0,0,248727,33,,S\n",
        "598,0,3,\"Johnson, Mr. Alfred\",male,49,0,0,LINE,0,,S\n",
        "599,0,3,\"Boulos, Mr. Hanna\",male,,0,0,2664,7.225,,C\n",
        "600,1,1,\"Duff Gordon, Sir. Cosmo Edmund (\"\"Mr Morgan\"\")\",male,49,1,0,PC 17485,56.9292,A20,C\n",
        "601,1,2,\"Jacobsohn, Mrs. Sidney Samuel (Amy Frances Christy)\",female,24,2,1,243847,27,,S\n",
        "602,0,3,\"Slabenoff, Mr. Petco\",male,,0,0,349214,7.8958,,S\n",
        "603,0,1,\"Harrington, Mr. Charles H\",male,,0,0,113796,42.4,,S\n",
        "604,0,3,\"Torber, Mr. Ernst William\",male,44,0,0,364511,8.05,,S\n",
        "605,1,1,\"Homer, Mr. Harry (\"\"Mr E Haven\"\")\",male,35,0,0,111426,26.55,,C\n",
        "606,0,3,\"Lindell, Mr. Edvard Bengtsson\",male,36,1,0,349910,15.55,,S\n",
        "607,0,3,\"Karaic, Mr. Milan\",male,30,0,0,349246,7.8958,,S\n",
        "608,1,1,\"Daniel, Mr. Robert Williams\",male,27,0,0,113804,30.5,,S\n",
        "609,1,2,\"Laroche, Mrs. Joseph (Juliette Marie Louise Lafargue)\",female,22,1,2,SC/Paris 2123,41.5792,,C\n",
        "610,1,1,\"Shutes, Miss. Elizabeth W\",female,40,0,0,PC 17582,153.4625,C125,S\n",
        "611,0,3,\"Andersson, Mrs. Anders Johan (Alfrida Konstantia Brogren)\",female,39,1,5,347082,31.275,,S\n",
        "612,0,3,\"Jardin, Mr. Jose Neto\",male,,0,0,SOTON/O.Q. 3101305,7.05,,S\n",
        "613,1,3,\"Murphy, Miss. Margaret Jane\",female,,1,0,367230,15.5,,Q\n",
        "614,0,3,\"Horgan, Mr. John\",male,,0,0,370377,7.75,,Q\n",
        "615,0,3,\"Brocklebank, Mr. William Alfred\",male,35,0,0,364512,8.05,,S\n",
        "616,1,2,\"Herman, Miss. Alice\",female,24,1,2,220845,65,,S\n",
        "617,0,3,\"Danbom, Mr. Ernst Gilbert\",male,34,1,1,347080,14.4,,S\n",
        "618,0,3,\"Lobb, Mrs. William Arthur (Cordelia K Stanlick)\",female,26,1,0,A/5. 3336,16.1,,S\n",
        "619,1,2,\"Becker, Miss. Marion Louise\",female,4,2,1,230136,39,F4,S\n",
        "620,0,2,\"Gavey, Mr. Lawrence\",male,26,0,0,31028,10.5,,S\n",
        "621,0,3,\"Yasbeck, Mr. Antoni\",male,27,1,0,2659,14.4542,,C\n",
        "622,1,1,\"Kimball, Mr. Edwin Nelson Jr\",male,42,1,0,11753,52.5542,D19,S\n",
        "623,1,3,\"Nakid, Mr. Sahid\",male,20,1,1,2653,15.7417,,C\n",
        "624,0,3,\"Hansen, Mr. Henry Damsgaard\",male,21,0,0,350029,7.8542,,S\n",
        "625,0,3,\"Bowen, Mr. David John \"\"Dai\"\"\",male,21,0,0,54636,16.1,,S\n",
        "626,0,1,\"Sutton, Mr. Frederick\",male,61,0,0,36963,32.3208,D50,S\n",
        "627,0,2,\"Kirkland, Rev. Charles Leonard\",male,57,0,0,219533,12.35,,Q\n",
        "628,1,1,\"Longley, Miss. Gretchen Fiske\",female,21,0,0,13502,77.9583,D9,S\n",
        "629,0,3,\"Bostandyeff, Mr. Guentcho\",male,26,0,0,349224,7.8958,,S\n",
        "630,0,3,\"O'Connell, Mr. Patrick D\",male,,0,0,334912,7.7333,,Q\n",
        "631,1,1,\"Barkworth, Mr. Algernon Henry Wilson\",male,80,0,0,27042,30,A23,S\n",
        "632,0,3,\"Lundahl, Mr. Johan Svensson\",male,51,0,0,347743,7.0542,,S\n",
        "633,1,1,\"Stahelin-Maeglin, Dr. Max\",male,32,0,0,13214,30.5,B50,C\n",
        "634,0,1,\"Parr, Mr. William Henry Marsh\",male,,0,0,112052,0,,S\n",
        "635,0,3,\"Skoog, Miss. Mabel\",female,9,3,2,347088,27.9,,S\n",
        "636,1,2,\"Davis, Miss. Mary\",female,28,0,0,237668,13,,S\n",
        "637,0,3,\"Leinonen, Mr. Antti Gustaf\",male,32,0,0,STON/O 2. 3101292,7.925,,S\n",
        "638,0,2,\"Collyer, Mr. Harvey\",male,31,1,1,C.A. 31921,26.25,,S\n",
        "639,0,3,\"Panula, Mrs. Juha (Maria Emilia Ojala)\",female,41,0,5,3101295,39.6875,,S\n",
        "640,0,3,\"Thorneycroft, Mr. Percival\",male,,1,0,376564,16.1,,S\n",
        "641,0,3,\"Jensen, Mr. Hans Peder\",male,20,0,0,350050,7.8542,,S\n",
        "642,1,1,\"Sagesser, Mlle. Emma\",female,24,0,0,PC 17477,69.3,B35,C\n",
        "643,0,3,\"Skoog, Miss. Margit Elizabeth\",female,2,3,2,347088,27.9,,S\n",
        "644,1,3,\"Foo, Mr. Choong\",male,,0,0,1601,56.4958,,S\n",
        "645,1,3,\"Baclini, Miss. Eugenie\",female,0.75,2,1,2666,19.2583,,C\n",
        "646,1,1,\"Harper, Mr. Henry Sleeper\",male,48,1,0,PC 17572,76.7292,D33,C\n",
        "647,0,3,\"Cor, Mr. Liudevit\",male,19,0,0,349231,7.8958,,S\n",
        "648,1,1,\"Simonius-Blumer, Col. Oberst Alfons\",male,56,0,0,13213,35.5,A26,C\n",
        "649,0,3,\"Willey, Mr. Edward\",male,,0,0,S.O./P.P. 751,7.55,,S\n",
        "650,1,3,\"Stanley, Miss. Amy Zillah Elsie\",female,23,0,0,CA. 2314,7.55,,S\n",
        "651,0,3,\"Mitkoff, Mr. Mito\",male,,0,0,349221,7.8958,,S\n",
        "652,1,2,\"Doling, Miss. Elsie\",female,18,0,1,231919,23,,S\n",
        "653,0,3,\"Kalvik, Mr. Johannes Halvorsen\",male,21,0,0,8475,8.4333,,S\n",
        "654,1,3,\"O'Leary, Miss. Hanora \"\"Norah\"\"\",female,,0,0,330919,7.8292,,Q\n",
        "655,0,3,\"Hegarty, Miss. Hanora \"\"Nora\"\"\",female,18,0,0,365226,6.75,,Q\n",
        "656,0,2,\"Hickman, Mr. Leonard Mark\",male,24,2,0,S.O.C. 14879,73.5,,S\n",
        "657,0,3,\"Radeff, Mr. Alexander\",male,,0,0,349223,7.8958,,S\n",
        "658,0,3,\"Bourke, Mrs. John (Catherine)\",female,32,1,1,364849,15.5,,Q\n",
        "659,0,2,\"Eitemiller, Mr. George Floyd\",male,23,0,0,29751,13,,S\n",
        "660,0,1,\"Newell, Mr. Arthur Webster\",male,58,0,2,35273,113.275,D48,C\n",
        "661,1,1,\"Frauenthal, Dr. Henry William\",male,50,2,0,PC 17611,133.65,,S\n",
        "662,0,3,\"Badt, Mr. Mohamed\",male,40,0,0,2623,7.225,,C\n",
        "663,0,1,\"Colley, Mr. Edward Pomeroy\",male,47,0,0,5727,25.5875,E58,S\n",
        "664,0,3,\"Coleff, Mr. Peju\",male,36,0,0,349210,7.4958,,S\n",
        "665,1,3,\"Lindqvist, Mr. Eino William\",male,20,1,0,STON/O 2. 3101285,7.925,,S\n",
        "666,0,2,\"Hickman, Mr. Lewis\",male,32,2,0,S.O.C. 14879,73.5,,S\n",
        "667,0,2,\"Butler, Mr. Reginald Fenton\",male,25,0,0,234686,13,,S\n",
        "668,0,3,\"Rommetvedt, Mr. Knud Paust\",male,,0,0,312993,7.775,,S\n",
        "669,0,3,\"Cook, Mr. Jacob\",male,43,0,0,A/5 3536,8.05,,S\n",
        "670,1,1,\"Taylor, Mrs. Elmer Zebley (Juliet Cummins Wright)\",female,,1,0,19996,52,C126,S\n",
        "671,1,2,\"Brown, Mrs. Thomas William Solomon (Elizabeth Catherine Ford)\",female,40,1,1,29750,39,,S\n",
        "672,0,1,\"Davidson, Mr. Thornton\",male,31,1,0,F.C. 12750,52,B71,S\n",
        "673,0,2,\"Mitchell, Mr. Henry Michael\",male,70,0,0,C.A. 24580,10.5,,S\n",
        "674,1,2,\"Wilhelms, Mr. Charles\",male,31,0,0,244270,13,,S\n",
        "675,0,2,\"Watson, Mr. Ennis Hastings\",male,,0,0,239856,0,,S\n",
        "676,0,3,\"Edvardsson, Mr. Gustaf Hjalmar\",male,18,0,0,349912,7.775,,S\n",
        "677,0,3,\"Sawyer, Mr. Frederick Charles\",male,24.5,0,0,342826,8.05,,S\n",
        "678,1,3,\"Turja, Miss. Anna Sofia\",female,18,0,0,4138,9.8417,,S\n",
        "679,0,3,\"Goodwin, Mrs. Frederick (Augusta Tyler)\",female,43,1,6,CA 2144,46.9,,S\n",
        "680,1,1,\"Cardeza, Mr. Thomas Drake Martinez\",male,36,0,1,PC 17755,512.3292,B51 B53 B55,C\n",
        "681,0,3,\"Peters, Miss. Katie\",female,,0,0,330935,8.1375,,Q\n",
        "682,1,1,\"Hassab, Mr. Hammad\",male,27,0,0,PC 17572,76.7292,D49,C\n",
        "683,0,3,\"Olsvigen, Mr. Thor Anderson\",male,20,0,0,6563,9.225,,S\n",
        "684,0,3,\"Goodwin, Mr. Charles Edward\",male,14,5,2,CA 2144,46.9,,S\n",
        "685,0,2,\"Brown, Mr. Thomas William Solomon\",male,60,1,1,29750,39,,S\n",
        "686,0,2,\"Laroche, Mr. Joseph Philippe Lemercier\",male,25,1,2,SC/Paris 2123,41.5792,,C\n",
        "687,0,3,\"Panula, Mr. Jaako Arnold\",male,14,4,1,3101295,39.6875,,S\n",
        "688,0,3,\"Dakic, Mr. Branko\",male,19,0,0,349228,10.1708,,S\n",
        "689,0,3,\"Fischer, Mr. Eberhard Thelander\",male,18,0,0,350036,7.7958,,S\n",
        "690,1,1,\"Madill, Miss. Georgette Alexandra\",female,15,0,1,24160,211.3375,B5,S\n",
        "691,1,1,\"Dick, Mr. Albert Adrian\",male,31,1,0,17474,57,B20,S\n",
        "692,1,3,\"Karun, Miss. Manca\",female,4,0,1,349256,13.4167,,C\n",
        "693,1,3,\"Lam, Mr. Ali\",male,,0,0,1601,56.4958,,S\n",
        "694,0,3,\"Saad, Mr. Khalil\",male,25,0,0,2672,7.225,,C\n",
        "695,0,1,\"Weir, Col. John\",male,60,0,0,113800,26.55,,S\n",
        "696,0,2,\"Chapman, Mr. Charles Henry\",male,52,0,0,248731,13.5,,S\n",
        "697,0,3,\"Kelly, Mr. James\",male,44,0,0,363592,8.05,,S\n",
        "698,1,3,\"Mullens, Miss. Katherine \"\"Katie\"\"\",female,,0,0,35852,7.7333,,Q\n",
        "699,0,1,\"Thayer, Mr. John Borland\",male,49,1,1,17421,110.8833,C68,C\n",
        "700,0,3,\"Humblen, Mr. Adolf Mathias Nicolai Olsen\",male,42,0,0,348121,7.65,F G63,S\n",
        "701,1,1,\"Astor, Mrs. John Jacob (Madeleine Talmadge Force)\",female,18,1,0,PC 17757,227.525,C62 C64,C\n",
        "702,1,1,\"Silverthorne, Mr. Spencer Victor\",male,35,0,0,PC 17475,26.2875,E24,S\n",
        "703,0,3,\"Barbara, Miss. Saiide\",female,18,0,1,2691,14.4542,,C\n",
        "704,0,3,\"Gallagher, Mr. Martin\",male,25,0,0,36864,7.7417,,Q\n",
        "705,0,3,\"Hansen, Mr. Henrik Juul\",male,26,1,0,350025,7.8542,,S\n",
        "706,0,2,\"Morley, Mr. Henry Samuel (\"\"Mr Henry Marshall\"\")\",male,39,0,0,250655,26,,S\n",
        "707,1,2,\"Kelly, Mrs. Florence \"\"Fannie\"\"\",female,45,0,0,223596,13.5,,S\n",
        "708,1,1,\"Calderhead, Mr. Edward Pennington\",male,42,0,0,PC 17476,26.2875,E24,S\n",
        "709,1,1,\"Cleaver, Miss. Alice\",female,22,0,0,113781,151.55,,S\n",
        "710,1,3,\"Moubarek, Master. Halim Gonios (\"\"William George\"\")\",male,,1,1,2661,15.2458,,C\n",
        "711,1,1,\"Mayne, Mlle. Berthe Antonine (\"\"Mrs de Villiers\"\")\",female,24,0,0,PC 17482,49.5042,C90,C\n",
        "712,0,1,\"Klaber, Mr. Herman\",male,,0,0,113028,26.55,C124,S\n",
        "713,1,1,\"Taylor, Mr. Elmer Zebley\",male,48,1,0,19996,52,C126,S\n",
        "714,0,3,\"Larsson, Mr. August Viktor\",male,29,0,0,7545,9.4833,,S\n",
        "715,0,2,\"Greenberg, Mr. Samuel\",male,52,0,0,250647,13,,S\n",
        "716,0,3,\"Soholt, Mr. Peter Andreas Lauritz Andersen\",male,19,0,0,348124,7.65,F G73,S\n",
        "717,1,1,\"Endres, Miss. Caroline Louise\",female,38,0,0,PC 17757,227.525,C45,C\n",
        "718,1,2,\"Troutt, Miss. Edwina Celia \"\"Winnie\"\"\",female,27,0,0,34218,10.5,E101,S\n",
        "719,0,3,\"McEvoy, Mr. Michael\",male,,0,0,36568,15.5,,Q\n",
        "720,0,3,\"Johnson, Mr. Malkolm Joackim\",male,33,0,0,347062,7.775,,S\n",
        "721,1,2,\"Harper, Miss. Annie Jessie \"\"Nina\"\"\",female,6,0,1,248727,33,,S\n",
        "722,0,3,\"Jensen, Mr. Svend Lauritz\",male,17,1,0,350048,7.0542,,S\n",
        "723,0,2,\"Gillespie, Mr. William Henry\",male,34,0,0,12233,13,,S\n",
        "724,0,2,\"Hodges, Mr. Henry Price\",male,50,0,0,250643,13,,S\n",
        "725,1,1,\"Chambers, Mr. Norman Campbell\",male,27,1,0,113806,53.1,E8,S\n",
        "726,0,3,\"Oreskovic, Mr. Luka\",male,20,0,0,315094,8.6625,,S\n",
        "727,1,2,\"Renouf, Mrs. Peter Henry (Lillian Jefferys)\",female,30,3,0,31027,21,,S\n",
        "728,1,3,\"Mannion, Miss. Margareth\",female,,0,0,36866,7.7375,,Q\n",
        "729,0,2,\"Bryhl, Mr. Kurt Arnold Gottfrid\",male,25,1,0,236853,26,,S\n",
        "730,0,3,\"Ilmakangas, Miss. Pieta Sofia\",female,25,1,0,STON/O2. 3101271,7.925,,S\n",
        "731,1,1,\"Allen, Miss. Elisabeth Walton\",female,29,0,0,24160,211.3375,B5,S\n",
        "732,0,3,\"Hassan, Mr. Houssein G N\",male,11,0,0,2699,18.7875,,C\n",
        "733,0,2,\"Knight, Mr. Robert J\",male,,0,0,239855,0,,S\n",
        "734,0,2,\"Berriman, Mr. William John\",male,23,0,0,28425,13,,S\n",
        "735,0,2,\"Troupiansky, Mr. Moses Aaron\",male,23,0,0,233639,13,,S\n",
        "736,0,3,\"Williams, Mr. Leslie\",male,28.5,0,0,54636,16.1,,S\n",
        "737,0,3,\"Ford, Mrs. Edward (Margaret Ann Watson)\",female,48,1,3,W./C. 6608,34.375,,S\n",
        "738,1,1,\"Lesurer, Mr. Gustave J\",male,35,0,0,PC 17755,512.3292,B101,C\n",
        "739,0,3,\"Ivanoff, Mr. Kanio\",male,,0,0,349201,7.8958,,S\n",
        "740,0,3,\"Nankoff, Mr. Minko\",male,,0,0,349218,7.8958,,S\n",
        "741,1,1,\"Hawksford, Mr. Walter James\",male,,0,0,16988,30,D45,S\n",
        "742,0,1,\"Cavendish, Mr. Tyrell William\",male,36,1,0,19877,78.85,C46,S\n",
        "743,1,1,\"Ryerson, Miss. Susan Parker \"\"Suzette\"\"\",female,21,2,2,PC 17608,262.375,B57 B59 B63 B66,C\n",
        "744,0,3,\"McNamee, Mr. Neal\",male,24,1,0,376566,16.1,,S\n",
        "745,1,3,\"Stranden, Mr. Juho\",male,31,0,0,STON/O 2. 3101288,7.925,,S\n",
        "746,0,1,\"Crosby, Capt. Edward Gifford\",male,70,1,1,WE/P 5735,71,B22,S\n",
        "747,0,3,\"Abbott, Mr. Rossmore Edward\",male,16,1,1,C.A. 2673,20.25,,S\n",
        "748,1,2,\"Sinkkonen, Miss. Anna\",female,30,0,0,250648,13,,S\n",
        "749,0,1,\"Marvin, Mr. Daniel Warner\",male,19,1,0,113773,53.1,D30,S\n",
        "750,0,3,\"Connaghton, Mr. Michael\",male,31,0,0,335097,7.75,,Q\n",
        "751,1,2,\"Wells, Miss. Joan\",female,4,1,1,29103,23,,S\n",
        "752,1,3,\"Moor, Master. Meier\",male,6,0,1,392096,12.475,E121,S\n",
        "753,0,3,\"Vande Velde, Mr. Johannes Joseph\",male,33,0,0,345780,9.5,,S\n",
        "754,0,3,\"Jonkoff, Mr. Lalio\",male,23,0,0,349204,7.8958,,S\n",
        "755,1,2,\"Herman, Mrs. Samuel (Jane Laver)\",female,48,1,2,220845,65,,S\n",
        "756,1,2,\"Hamalainen, Master. Viljo\",male,0.67,1,1,250649,14.5,,S\n",
        "757,0,3,\"Carlsson, Mr. August Sigfrid\",male,28,0,0,350042,7.7958,,S\n",
        "758,0,2,\"Bailey, Mr. Percy Andrew\",male,18,0,0,29108,11.5,,S\n",
        "759,0,3,\"Theobald, Mr. Thomas Leonard\",male,34,0,0,363294,8.05,,S\n",
        "760,1,1,\"Rothes, the Countess. of (Lucy Noel Martha Dyer-Edwards)\",female,33,0,0,110152,86.5,B77,S\n",
        "761,0,3,\"Garfirth, Mr. John\",male,,0,0,358585,14.5,,S\n",
        "762,0,3,\"Nirva, Mr. Iisakki Antino Aijo\",male,41,0,0,SOTON/O2 3101272,7.125,,S\n",
        "763,1,3,\"Barah, Mr. Hanna Assi\",male,20,0,0,2663,7.2292,,C\n",
        "764,1,1,\"Carter, Mrs. William Ernest (Lucile Polk)\",female,36,1,2,113760,120,B96 B98,S\n",
        "765,0,3,\"Eklund, Mr. Hans Linus\",male,16,0,0,347074,7.775,,S\n",
        "766,1,1,\"Hogeboom, Mrs. John C (Anna Andrews)\",female,51,1,0,13502,77.9583,D11,S\n",
        "767,0,1,\"Brewe, Dr. Arthur Jackson\",male,,0,0,112379,39.6,,C\n",
        "768,0,3,\"Mangan, Miss. Mary\",female,30.5,0,0,364850,7.75,,Q\n",
        "769,0,3,\"Moran, Mr. Daniel J\",male,,1,0,371110,24.15,,Q\n",
        "770,0,3,\"Gronnestad, Mr. Daniel Danielsen\",male,32,0,0,8471,8.3625,,S\n",
        "771,0,3,\"Lievens, Mr. Rene Aime\",male,24,0,0,345781,9.5,,S\n",
        "772,0,3,\"Jensen, Mr. Niels Peder\",male,48,0,0,350047,7.8542,,S\n",
        "773,0,2,\"Mack, Mrs. (Mary)\",female,57,0,0,S.O./P.P. 3,10.5,E77,S\n",
        "774,0,3,\"Elias, Mr. Dibo\",male,,0,0,2674,7.225,,C\n",
        "775,1,2,\"Hocking, Mrs. Elizabeth (Eliza Needs)\",female,54,1,3,29105,23,,S\n",
        "776,0,3,\"Myhrman, Mr. Pehr Fabian Oliver Malkolm\",male,18,0,0,347078,7.75,,S\n",
        "777,0,3,\"Tobin, Mr. Roger\",male,,0,0,383121,7.75,F38,Q\n",
        "778,1,3,\"Emanuel, Miss. Virginia Ethel\",female,5,0,0,364516,12.475,,S\n",
        "779,0,3,\"Kilgannon, Mr. Thomas J\",male,,0,0,36865,7.7375,,Q\n",
        "780,1,1,\"Robert, Mrs. Edward Scott (Elisabeth Walton McMillan)\",female,43,0,1,24160,211.3375,B3,S\n",
        "781,1,3,\"Ayoub, Miss. Banoura\",female,13,0,0,2687,7.2292,,C\n",
        "782,1,1,\"Dick, Mrs. Albert Adrian (Vera Gillespie)\",female,17,1,0,17474,57,B20,S\n",
        "783,0,1,\"Long, Mr. Milton Clyde\",male,29,0,0,113501,30,D6,S\n",
        "784,0,3,\"Johnston, Mr. Andrew G\",male,,1,2,W./C. 6607,23.45,,S\n",
        "785,0,3,\"Ali, Mr. William\",male,25,0,0,SOTON/O.Q. 3101312,7.05,,S\n",
        "786,0,3,\"Harmer, Mr. Abraham (David Lishin)\",male,25,0,0,374887,7.25,,S\n",
        "787,1,3,\"Sjoblom, Miss. Anna Sofia\",female,18,0,0,3101265,7.4958,,S\n",
        "788,0,3,\"Rice, Master. George Hugh\",male,8,4,1,382652,29.125,,Q\n",
        "789,1,3,\"Dean, Master. Bertram Vere\",male,1,1,2,C.A. 2315,20.575,,S\n",
        "790,0,1,\"Guggenheim, Mr. Benjamin\",male,46,0,0,PC 17593,79.2,B82 B84,C\n",
        "791,0,3,\"Keane, Mr. Andrew \"\"Andy\"\"\",male,,0,0,12460,7.75,,Q\n",
        "792,0,2,\"Gaskell, Mr. Alfred\",male,16,0,0,239865,26,,S\n",
        "793,0,3,\"Sage, Miss. Stella Anna\",female,,8,2,CA. 2343,69.55,,S\n",
        "794,0,1,\"Hoyt, Mr. William Fisher\",male,,0,0,PC 17600,30.6958,,C\n",
        "795,0,3,\"Dantcheff, Mr. Ristiu\",male,25,0,0,349203,7.8958,,S\n",
        "796,0,2,\"Otter, Mr. Richard\",male,39,0,0,28213,13,,S\n",
        "797,1,1,\"Leader, Dr. Alice (Farnham)\",female,49,0,0,17465,25.9292,D17,S\n",
        "798,1,3,\"Osman, Mrs. Mara\",female,31,0,0,349244,8.6833,,S\n",
        "799,0,3,\"Ibrahim Shawah, Mr. Yousseff\",male,30,0,0,2685,7.2292,,C\n",
        "800,0,3,\"Van Impe, Mrs. Jean Baptiste (Rosalie Paula Govaert)\",female,30,1,1,345773,24.15,,S\n",
        "801,0,2,\"Ponesell, Mr. Martin\",male,34,0,0,250647,13,,S\n",
        "802,1,2,\"Collyer, Mrs. Harvey (Charlotte Annie Tate)\",female,31,1,1,C.A. 31921,26.25,,S\n",
        "803,1,1,\"Carter, Master. William Thornton II\",male,11,1,2,113760,120,B96 B98,S\n",
        "804,1,3,\"Thomas, Master. Assad Alexander\",male,0.42,0,1,2625,8.5167,,C\n",
        "805,1,3,\"Hedman, Mr. Oskar Arvid\",male,27,0,0,347089,6.975,,S\n",
        "806,0,3,\"Johansson, Mr. Karl Johan\",male,31,0,0,347063,7.775,,S\n",
        "807,0,1,\"Andrews, Mr. Thomas Jr\",male,39,0,0,112050,0,A36,S\n",
        "808,0,3,\"Pettersson, Miss. Ellen Natalia\",female,18,0,0,347087,7.775,,S\n",
        "809,0,2,\"Meyer, Mr. August\",male,39,0,0,248723,13,,S\n",
        "810,1,1,\"Chambers, Mrs. Norman Campbell (Bertha Griggs)\",female,33,1,0,113806,53.1,E8,S\n",
        "811,0,3,\"Alexander, Mr. William\",male,26,0,0,3474,7.8875,,S\n",
        "812,0,3,\"Lester, Mr. James\",male,39,0,0,A/4 48871,24.15,,S\n",
        "813,0,2,\"Slemen, Mr. Richard James\",male,35,0,0,28206,10.5,,S\n",
        "814,0,3,\"Andersson, Miss. Ebba Iris Alfrida\",female,6,4,2,347082,31.275,,S\n",
        "815,0,3,\"Tomlin, Mr. Ernest Portage\",male,30.5,0,0,364499,8.05,,S\n",
        "816,0,1,\"Fry, Mr. Richard\",male,,0,0,112058,0,B102,S\n",
        "817,0,3,\"Heininen, Miss. Wendla Maria\",female,23,0,0,STON/O2. 3101290,7.925,,S\n",
        "818,0,2,\"Mallet, Mr. Albert\",male,31,1,1,S.C./PARIS 2079,37.0042,,C\n",
        "819,0,3,\"Holm, Mr. John Fredrik Alexander\",male,43,0,0,C 7075,6.45,,S\n",
        "820,0,3,\"Skoog, Master. Karl Thorsten\",male,10,3,2,347088,27.9,,S\n",
        "821,1,1,\"Hays, Mrs. Charles Melville (Clara Jennings Gregg)\",female,52,1,1,12749,93.5,B69,S\n",
        "822,1,3,\"Lulic, Mr. Nikola\",male,27,0,0,315098,8.6625,,S\n",
        "823,0,1,\"Reuchlin, Jonkheer. John George\",male,38,0,0,19972,0,,S\n",
        "824,1,3,\"Moor, Mrs. (Beila)\",female,27,0,1,392096,12.475,E121,S\n",
        "825,0,3,\"Panula, Master. Urho Abraham\",male,2,4,1,3101295,39.6875,,S\n",
        "826,0,3,\"Flynn, Mr. John\",male,,0,0,368323,6.95,,Q\n",
        "827,0,3,\"Lam, Mr. Len\",male,,0,0,1601,56.4958,,S\n",
        "828,1,2,\"Mallet, Master. Andre\",male,1,0,2,S.C./PARIS 2079,37.0042,,C\n",
        "829,1,3,\"McCormack, Mr. Thomas Joseph\",male,,0,0,367228,7.75,,Q\n",
        "830,1,1,\"Stone, Mrs. George Nelson (Martha Evelyn)\",female,62,0,0,113572,80,B28,\n",
        "831,1,3,\"Yasbeck, Mrs. Antoni (Selini Alexander)\",female,15,1,0,2659,14.4542,,C\n",
        "832,1,2,\"Richards, Master. George Sibley\",male,0.83,1,1,29106,18.75,,S\n",
        "833,0,3,\"Saad, Mr. Amin\",male,,0,0,2671,7.2292,,C\n",
        "834,0,3,\"Augustsson, Mr. Albert\",male,23,0,0,347468,7.8542,,S\n",
        "835,0,3,\"Allum, Mr. Owen George\",male,18,0,0,2223,8.3,,S\n",
        "836,1,1,\"Compton, Miss. Sara Rebecca\",female,39,1,1,PC 17756,83.1583,E49,C\n",
        "837,0,3,\"Pasic, Mr. Jakob\",male,21,0,0,315097,8.6625,,S\n",
        "838,0,3,\"Sirota, Mr. Maurice\",male,,0,0,392092,8.05,,S\n",
        "839,1,3,\"Chip, Mr. Chang\",male,32,0,0,1601,56.4958,,S\n",
        "840,1,1,\"Marechal, Mr. Pierre\",male,,0,0,11774,29.7,C47,C\n",
        "841,0,3,\"Alhomaki, Mr. Ilmari Rudolf\",male,20,0,0,SOTON/O2 3101287,7.925,,S\n",
        "842,0,2,\"Mudd, Mr. Thomas Charles\",male,16,0,0,S.O./P.P. 3,10.5,,S\n",
        "843,1,1,\"Serepeca, Miss. Augusta\",female,30,0,0,113798,31,,C\n",
        "844,0,3,\"Lemberopolous, Mr. Peter L\",male,34.5,0,0,2683,6.4375,,C\n",
        "845,0,3,\"Culumovic, Mr. Jeso\",male,17,0,0,315090,8.6625,,S\n",
        "846,0,3,\"Abbing, Mr. Anthony\",male,42,0,0,C.A. 5547,7.55,,S\n",
        "847,0,3,\"Sage, Mr. Douglas Bullen\",male,,8,2,CA. 2343,69.55,,S\n",
        "848,0,3,\"Markoff, Mr. Marin\",male,35,0,0,349213,7.8958,,C\n",
        "849,0,2,\"Harper, Rev. John\",male,28,0,1,248727,33,,S\n",
        "850,1,1,\"Goldenberg, Mrs. Samuel L (Edwiga Grabowska)\",female,,1,0,17453,89.1042,C92,C\n",
        "851,0,3,\"Andersson, Master. Sigvard Harald Elias\",male,4,4,2,347082,31.275,,S\n",
        "852,0,3,\"Svensson, Mr. Johan\",male,74,0,0,347060,7.775,,S\n",
        "853,0,3,\"Boulos, Miss. Nourelain\",female,9,1,1,2678,15.2458,,C\n",
        "854,1,1,\"Lines, Miss. Mary Conover\",female,16,0,1,PC 17592,39.4,D28,S\n",
        "855,0,2,\"Carter, Mrs. Ernest Courtenay (Lilian Hughes)\",female,44,1,0,244252,26,,S\n",
        "856,1,3,\"Aks, Mrs. Sam (Leah Rosen)\",female,18,0,1,392091,9.35,,S\n",
        "857,1,1,\"Wick, Mrs. George Dennick (Mary Hitchcock)\",female,45,1,1,36928,164.8667,,S\n",
        "858,1,1,\"Daly, Mr. Peter Denis \",male,51,0,0,113055,26.55,E17,S\n",
        "859,1,3,\"Baclini, Mrs. Solomon (Latifa Qurban)\",female,24,0,3,2666,19.2583,,C\n",
        "860,0,3,\"Razi, Mr. Raihed\",male,,0,0,2629,7.2292,,C\n",
        "861,0,3,\"Hansen, Mr. Claus Peter\",male,41,2,0,350026,14.1083,,S\n",
        "862,0,2,\"Giles, Mr. Frederick Edward\",male,21,1,0,28134,11.5,,S\n",
        "863,1,1,\"Swift, Mrs. Frederick Joel (Margaret Welles Barron)\",female,48,0,0,17466,25.9292,D17,S\n",
        "864,0,3,\"Sage, Miss. Dorothy Edith \"\"Dolly\"\"\",female,,8,2,CA. 2343,69.55,,S\n",
        "865,0,2,\"Gill, Mr. John William\",male,24,0,0,233866,13,,S\n",
        "866,1,2,\"Bystrom, Mrs. (Karolina)\",female,42,0,0,236852,13,,S\n",
        "867,1,2,\"Duran y More, Miss. Asuncion\",female,27,1,0,SC/PARIS 2149,13.8583,,C\n",
        "868,0,1,\"Roebling, Mr. Washington Augustus II\",male,31,0,0,PC 17590,50.4958,A24,S\n",
        "869,0,3,\"van Melkebeke, Mr. Philemon\",male,,0,0,345777,9.5,,S\n",
        "870,1,3,\"Johnson, Master. Harold Theodor\",male,4,1,1,347742,11.1333,,S\n",
        "871,0,3,\"Balkic, Mr. Cerin\",male,26,0,0,349248,7.8958,,S\n",
        "872,1,1,\"Beckwith, Mrs. Richard Leonard (Sallie Monypeny)\",female,47,1,1,11751,52.5542,D35,S\n",
        "873,0,1,\"Carlsson, Mr. Frans Olof\",male,33,0,0,695,5,B51 B53 B55,S\n",
        "874,0,3,\"Vander Cruyssen, Mr. Victor\",male,47,0,0,345765,9,,S\n",
        "875,1,2,\"Abelson, Mrs. Samuel (Hannah Wizosky)\",female,28,1,0,P/PP 3381,24,,C\n",
        "876,1,3,\"Najib, Miss. Adele Kiamie \"\"Jane\"\"\",female,15,0,0,2667,7.225,,C\n",
        "877,0,3,\"Gustafsson, Mr. Alfred Ossian\",male,20,0,0,7534,9.8458,,S\n",
        "878,0,3,\"Petroff, Mr. Nedelio\",male,19,0,0,349212,7.8958,,S\n",
        "879,0,3,\"Laleff, Mr. Kristo\",male,,0,0,349217,7.8958,,S\n",
        "880,1,1,\"Potter, Mrs. Thomas Jr (Lily Alexenia Wilson)\",female,56,0,1,11767,83.1583,C50,C\n",
        "881,1,2,\"Shelley, Mrs. William (Imanita Parrish Hall)\",female,25,0,1,230433,26,,S\n",
        "882,0,3,\"Markun, Mr. Johann\",male,33,0,0,349257,7.8958,,S\n",
        "883,0,3,\"Dahlberg, Miss. Gerda Ulrika\",female,22,0,0,7552,10.5167,,S\n",
        "884,0,2,\"Banfield, Mr. Frederick James\",male,28,0,0,C.A./SOTON 34068,10.5,,S\n",
        "885,0,3,\"Sutehall, Mr. Henry Jr\",male,25,0,0,SOTON/OQ 392076,7.05,,S\n",
        "886,0,3,\"Rice, Mrs. William (Margaret Norton)\",female,39,0,5,382652,29.125,,Q\n",
        "887,0,2,\"Montvila, Rev. Juozas\",male,27,0,0,211536,13,,S\n",
        "888,1,1,\"Graham, Miss. Margaret Edith\",female,19,0,0,112053,30,B42,S\n",
        "889,0,3,\"Johnston, Miss. Catherine Helen \"\"Carrie\"\"\",female,,1,2,W./C. 6607,23.45,,S\n",
        "890,1,1,\"Behr, Mr. Karl Howell\",male,26,0,0,111369,30,C148,C\n",
        "891,0,3,\"Dooley, Mr. Patrick\",male,32,0,0,370376,7.75,,Q"
      ],
      "execution_count": null,
      "outputs": [
        {
          "output_type": "stream",
          "text": [
            "Writing titanic_train.csv\n"
          ],
          "name": "stdout"
        }
      ]
    },
    {
      "cell_type": "code",
      "metadata": {
        "id": "z5Xv_UgDxLas",
        "colab": {
          "base_uri": "https://localhost:8080/",
          "height": 34
        },
        "cellView": "form",
        "outputId": "35a75d06-67f8-48cd-ed1a-83947690bf25"
      },
      "source": [
        "#@title Titanic Dataset: test.csv\n",
        "%%writefile test.csv\n",
        "PassengerId,Pclass,Name,Sex,Age,SibSp,Parch,Ticket,Fare,Cabin,Embarked\n",
        "892,3,\"Kelly, Mr. James\",male,34.5,0,0,330911,7.8292,,Q\n",
        "893,3,\"Wilkes, Mrs. James (Ellen Needs)\",female,47,1,0,363272,7,,S\n",
        "894,2,\"Myles, Mr. Thomas Francis\",male,62,0,0,240276,9.6875,,Q\n",
        "895,3,\"Wirz, Mr. Albert\",male,27,0,0,315154,8.6625,,S\n",
        "896,3,\"Hirvonen, Mrs. Alexander (Helga E Lindqvist)\",female,22,1,1,3101298,12.2875,,S\n",
        "897,3,\"Svensson, Mr. Johan Cervin\",male,14,0,0,7538,9.225,,S\n",
        "898,3,\"Connolly, Miss. Kate\",female,30,0,0,330972,7.6292,,Q\n",
        "899,2,\"Caldwell, Mr. Albert Francis\",male,26,1,1,248738,29,,S\n",
        "900,3,\"Abrahim, Mrs. Joseph (Sophie Halaut Easu)\",female,18,0,0,2657,7.2292,,C\n",
        "901,3,\"Davies, Mr. John Samuel\",male,21,2,0,A/4 48871,24.15,,S\n",
        "902,3,\"Ilieff, Mr. Ylio\",male,,0,0,349220,7.8958,,S\n",
        "903,1,\"Jones, Mr. Charles Cresson\",male,46,0,0,694,26,,S\n",
        "904,1,\"Snyder, Mrs. John Pillsbury (Nelle Stevenson)\",female,23,1,0,21228,82.2667,B45,S\n",
        "905,2,\"Howard, Mr. Benjamin\",male,63,1,0,24065,26,,S\n",
        "906,1,\"Chaffee, Mrs. Herbert Fuller (Carrie Constance Toogood)\",female,47,1,0,W.E.P. 5734,61.175,E31,S\n",
        "907,2,\"del Carlo, Mrs. Sebastiano (Argenia Genovesi)\",female,24,1,0,SC/PARIS 2167,27.7208,,C\n",
        "908,2,\"Keane, Mr. Daniel\",male,35,0,0,233734,12.35,,Q\n",
        "909,3,\"Assaf, Mr. Gerios\",male,21,0,0,2692,7.225,,C\n",
        "910,3,\"Ilmakangas, Miss. Ida Livija\",female,27,1,0,STON/O2. 3101270,7.925,,S\n",
        "911,3,\"Assaf Khalil, Mrs. Mariana (Miriam\"\")\"\"\",female,45,0,0,2696,7.225,,C\n",
        "912,1,\"Rothschild, Mr. Martin\",male,55,1,0,PC 17603,59.4,,C\n",
        "913,3,\"Olsen, Master. Artur Karl\",male,9,0,1,C 17368,3.1708,,S\n",
        "914,1,\"Flegenheim, Mrs. Alfred (Antoinette)\",female,,0,0,PC 17598,31.6833,,S\n",
        "915,1,\"Williams, Mr. Richard Norris II\",male,21,0,1,PC 17597,61.3792,,C\n",
        "916,1,\"Ryerson, Mrs. Arthur Larned (Emily Maria Borie)\",female,48,1,3,PC 17608,262.375,B57 B59 B63 B66,C\n",
        "917,3,\"Robins, Mr. Alexander A\",male,50,1,0,A/5. 3337,14.5,,S\n",
        "918,1,\"Ostby, Miss. Helene Ragnhild\",female,22,0,1,113509,61.9792,B36,C\n",
        "919,3,\"Daher, Mr. Shedid\",male,22.5,0,0,2698,7.225,,C\n",
        "920,1,\"Brady, Mr. John Bertram\",male,41,0,0,113054,30.5,A21,S\n",
        "921,3,\"Samaan, Mr. Elias\",male,,2,0,2662,21.6792,,C\n",
        "922,2,\"Louch, Mr. Charles Alexander\",male,50,1,0,SC/AH 3085,26,,S\n",
        "923,2,\"Jefferys, Mr. Clifford Thomas\",male,24,2,0,C.A. 31029,31.5,,S\n",
        "924,3,\"Dean, Mrs. Bertram (Eva Georgetta Light)\",female,33,1,2,C.A. 2315,20.575,,S\n",
        "925,3,\"Johnston, Mrs. Andrew G (Elizabeth Lily\"\" Watson)\"\"\",female,,1,2,W./C. 6607,23.45,,S\n",
        "926,1,\"Mock, Mr. Philipp Edmund\",male,30,1,0,13236,57.75,C78,C\n",
        "927,3,\"Katavelas, Mr. Vassilios (Catavelas Vassilios\"\")\"\"\",male,18.5,0,0,2682,7.2292,,C\n",
        "928,3,\"Roth, Miss. Sarah A\",female,,0,0,342712,8.05,,S\n",
        "929,3,\"Cacic, Miss. Manda\",female,21,0,0,315087,8.6625,,S\n",
        "930,3,\"Sap, Mr. Julius\",male,25,0,0,345768,9.5,,S\n",
        "931,3,\"Hee, Mr. Ling\",male,,0,0,1601,56.4958,,S\n",
        "932,3,\"Karun, Mr. Franz\",male,39,0,1,349256,13.4167,,C\n",
        "933,1,\"Franklin, Mr. Thomas Parham\",male,,0,0,113778,26.55,D34,S\n",
        "934,3,\"Goldsmith, Mr. Nathan\",male,41,0,0,SOTON/O.Q. 3101263,7.85,,S\n",
        "935,2,\"Corbett, Mrs. Walter H (Irene Colvin)\",female,30,0,0,237249,13,,S\n",
        "936,1,\"Kimball, Mrs. Edwin Nelson Jr (Gertrude Parsons)\",female,45,1,0,11753,52.5542,D19,S\n",
        "937,3,\"Peltomaki, Mr. Nikolai Johannes\",male,25,0,0,STON/O 2. 3101291,7.925,,S\n",
        "938,1,\"Chevre, Mr. Paul Romaine\",male,45,0,0,PC 17594,29.7,A9,C\n",
        "939,3,\"Shaughnessy, Mr. Patrick\",male,,0,0,370374,7.75,,Q\n",
        "940,1,\"Bucknell, Mrs. William Robert (Emma Eliza Ward)\",female,60,0,0,11813,76.2917,D15,C\n",
        "941,3,\"Coutts, Mrs. William (Winnie Minnie\"\" Treanor)\"\"\",female,36,0,2,C.A. 37671,15.9,,S\n",
        "942,1,\"Smith, Mr. Lucien Philip\",male,24,1,0,13695,60,C31,S\n",
        "943,2,\"Pulbaum, Mr. Franz\",male,27,0,0,SC/PARIS 2168,15.0333,,C\n",
        "944,2,\"Hocking, Miss. Ellen Nellie\"\"\"\"\",female,20,2,1,29105,23,,S\n",
        "945,1,\"Fortune, Miss. Ethel Flora\",female,28,3,2,19950,263,C23 C25 C27,S\n",
        "946,2,\"Mangiavacchi, Mr. Serafino Emilio\",male,,0,0,SC/A.3 2861,15.5792,,C\n",
        "947,3,\"Rice, Master. Albert\",male,10,4,1,382652,29.125,,Q\n",
        "948,3,\"Cor, Mr. Bartol\",male,35,0,0,349230,7.8958,,S\n",
        "949,3,\"Abelseth, Mr. Olaus Jorgensen\",male,25,0,0,348122,7.65,F G63,S\n",
        "950,3,\"Davison, Mr. Thomas Henry\",male,,1,0,386525,16.1,,S\n",
        "951,1,\"Chaudanson, Miss. Victorine\",female,36,0,0,PC 17608,262.375,B61,C\n",
        "952,3,\"Dika, Mr. Mirko\",male,17,0,0,349232,7.8958,,S\n",
        "953,2,\"McCrae, Mr. Arthur Gordon\",male,32,0,0,237216,13.5,,S\n",
        "954,3,\"Bjorklund, Mr. Ernst Herbert\",male,18,0,0,347090,7.75,,S\n",
        "955,3,\"Bradley, Miss. Bridget Delia\",female,22,0,0,334914,7.725,,Q\n",
        "956,1,\"Ryerson, Master. John Borie\",male,13,2,2,PC 17608,262.375,B57 B59 B63 B66,C\n",
        "957,2,\"Corey, Mrs. Percy C (Mary Phyllis Elizabeth Miller)\",female,,0,0,F.C.C. 13534,21,,S\n",
        "958,3,\"Burns, Miss. Mary Delia\",female,18,0,0,330963,7.8792,,Q\n",
        "959,1,\"Moore, Mr. Clarence Bloomfield\",male,47,0,0,113796,42.4,,S\n",
        "960,1,\"Tucker, Mr. Gilbert Milligan Jr\",male,31,0,0,2543,28.5375,C53,C\n",
        "961,1,\"Fortune, Mrs. Mark (Mary McDougald)\",female,60,1,4,19950,263,C23 C25 C27,S\n",
        "962,3,\"Mulvihill, Miss. Bertha E\",female,24,0,0,382653,7.75,,Q\n",
        "963,3,\"Minkoff, Mr. Lazar\",male,21,0,0,349211,7.8958,,S\n",
        "964,3,\"Nieminen, Miss. Manta Josefina\",female,29,0,0,3101297,7.925,,S\n",
        "965,1,\"Ovies y Rodriguez, Mr. Servando\",male,28.5,0,0,PC 17562,27.7208,D43,C\n",
        "966,1,\"Geiger, Miss. Amalie\",female,35,0,0,113503,211.5,C130,C\n",
        "967,1,\"Keeping, Mr. Edwin\",male,32.5,0,0,113503,211.5,C132,C\n",
        "968,3,\"Miles, Mr. Frank\",male,,0,0,359306,8.05,,S\n",
        "969,1,\"Cornell, Mrs. Robert Clifford (Malvina Helen Lamson)\",female,55,2,0,11770,25.7,C101,S\n",
        "970,2,\"Aldworth, Mr. Charles Augustus\",male,30,0,0,248744,13,,S\n",
        "971,3,\"Doyle, Miss. Elizabeth\",female,24,0,0,368702,7.75,,Q\n",
        "972,3,\"Boulos, Master. Akar\",male,6,1,1,2678,15.2458,,C\n",
        "973,1,\"Straus, Mr. Isidor\",male,67,1,0,PC 17483,221.7792,C55 C57,S\n",
        "974,1,\"Case, Mr. Howard Brown\",male,49,0,0,19924,26,,S\n",
        "975,3,\"Demetri, Mr. Marinko\",male,,0,0,349238,7.8958,,S\n",
        "976,2,\"Lamb, Mr. John Joseph\",male,,0,0,240261,10.7083,,Q\n",
        "977,3,\"Khalil, Mr. Betros\",male,,1,0,2660,14.4542,,C\n",
        "978,3,\"Barry, Miss. Julia\",female,27,0,0,330844,7.8792,,Q\n",
        "979,3,\"Badman, Miss. Emily Louisa\",female,18,0,0,A/4 31416,8.05,,S\n",
        "980,3,\"O'Donoghue, Ms. Bridget\",female,,0,0,364856,7.75,,Q\n",
        "981,2,\"Wells, Master. Ralph Lester\",male,2,1,1,29103,23,,S\n",
        "982,3,\"Dyker, Mrs. Adolf Fredrik (Anna Elisabeth Judith Andersson)\",female,22,1,0,347072,13.9,,S\n",
        "983,3,\"Pedersen, Mr. Olaf\",male,,0,0,345498,7.775,,S\n",
        "984,1,\"Davidson, Mrs. Thornton (Orian Hays)\",female,27,1,2,F.C. 12750,52,B71,S\n",
        "985,3,\"Guest, Mr. Robert\",male,,0,0,376563,8.05,,S\n",
        "986,1,\"Birnbaum, Mr. Jakob\",male,25,0,0,13905,26,,C\n",
        "987,3,\"Tenglin, Mr. Gunnar Isidor\",male,25,0,0,350033,7.7958,,S\n",
        "988,1,\"Cavendish, Mrs. Tyrell William (Julia Florence Siegel)\",female,76,1,0,19877,78.85,C46,S\n",
        "989,3,\"Makinen, Mr. Kalle Edvard\",male,29,0,0,STON/O 2. 3101268,7.925,,S\n",
        "990,3,\"Braf, Miss. Elin Ester Maria\",female,20,0,0,347471,7.8542,,S\n",
        "991,3,\"Nancarrow, Mr. William Henry\",male,33,0,0,A./5. 3338,8.05,,S\n",
        "992,1,\"Stengel, Mrs. Charles Emil Henry (Annie May Morris)\",female,43,1,0,11778,55.4417,C116,C\n",
        "993,2,\"Weisz, Mr. Leopold\",male,27,1,0,228414,26,,S\n",
        "994,3,\"Foley, Mr. William\",male,,0,0,365235,7.75,,Q\n",
        "995,3,\"Johansson Palmquist, Mr. Oskar Leander\",male,26,0,0,347070,7.775,,S\n",
        "996,3,\"Thomas, Mrs. Alexander (Thamine Thelma\"\")\"\"\",female,16,1,1,2625,8.5167,,C\n",
        "997,3,\"Holthen, Mr. Johan Martin\",male,28,0,0,C 4001,22.525,,S\n",
        "998,3,\"Buckley, Mr. Daniel\",male,21,0,0,330920,7.8208,,Q\n",
        "999,3,\"Ryan, Mr. Edward\",male,,0,0,383162,7.75,,Q\n",
        "1000,3,\"Willer, Mr. Aaron (Abi Weller\"\")\"\"\",male,,0,0,3410,8.7125,,S\n",
        "1001,2,\"Swane, Mr. George\",male,18.5,0,0,248734,13,F,S\n",
        "1002,2,\"Stanton, Mr. Samuel Ward\",male,41,0,0,237734,15.0458,,C\n",
        "1003,3,\"Shine, Miss. Ellen Natalia\",female,,0,0,330968,7.7792,,Q\n",
        "1004,1,\"Evans, Miss. Edith Corse\",female,36,0,0,PC 17531,31.6792,A29,C\n",
        "1005,3,\"Buckley, Miss. Katherine\",female,18.5,0,0,329944,7.2833,,Q\n",
        "1006,1,\"Straus, Mrs. Isidor (Rosalie Ida Blun)\",female,63,1,0,PC 17483,221.7792,C55 C57,S\n",
        "1007,3,\"Chronopoulos, Mr. Demetrios\",male,18,1,0,2680,14.4542,,C\n",
        "1008,3,\"Thomas, Mr. John\",male,,0,0,2681,6.4375,,C\n",
        "1009,3,\"Sandstrom, Miss. Beatrice Irene\",female,1,1,1,PP 9549,16.7,G6,S\n",
        "1010,1,\"Beattie, Mr. Thomson\",male,36,0,0,13050,75.2417,C6,C\n",
        "1011,2,\"Chapman, Mrs. John Henry (Sara Elizabeth Lawry)\",female,29,1,0,SC/AH 29037,26,,S\n",
        "1012,2,\"Watt, Miss. Bertha J\",female,12,0,0,C.A. 33595,15.75,,S\n",
        "1013,3,\"Kiernan, Mr. John\",male,,1,0,367227,7.75,,Q\n",
        "1014,1,\"Schabert, Mrs. Paul (Emma Mock)\",female,35,1,0,13236,57.75,C28,C\n",
        "1015,3,\"Carver, Mr. Alfred John\",male,28,0,0,392095,7.25,,S\n",
        "1016,3,\"Kennedy, Mr. John\",male,,0,0,368783,7.75,,Q\n",
        "1017,3,\"Cribb, Miss. Laura Alice\",female,17,0,1,371362,16.1,,S\n",
        "1018,3,\"Brobeck, Mr. Karl Rudolf\",male,22,0,0,350045,7.7958,,S\n",
        "1019,3,\"McCoy, Miss. Alicia\",female,,2,0,367226,23.25,,Q\n",
        "1020,2,\"Bowenur, Mr. Solomon\",male,42,0,0,211535,13,,S\n",
        "1021,3,\"Petersen, Mr. Marius\",male,24,0,0,342441,8.05,,S\n",
        "1022,3,\"Spinner, Mr. Henry John\",male,32,0,0,STON/OQ. 369943,8.05,,S\n",
        "1023,1,\"Gracie, Col. Archibald IV\",male,53,0,0,113780,28.5,C51,C\n",
        "1024,3,\"Lefebre, Mrs. Frank (Frances)\",female,,0,4,4133,25.4667,,S\n",
        "1025,3,\"Thomas, Mr. Charles P\",male,,1,0,2621,6.4375,,C\n",
        "1026,3,\"Dintcheff, Mr. Valtcho\",male,43,0,0,349226,7.8958,,S\n",
        "1027,3,\"Carlsson, Mr. Carl Robert\",male,24,0,0,350409,7.8542,,S\n",
        "1028,3,\"Zakarian, Mr. Mapriededer\",male,26.5,0,0,2656,7.225,,C\n",
        "1029,2,\"Schmidt, Mr. August\",male,26,0,0,248659,13,,S\n",
        "1030,3,\"Drapkin, Miss. Jennie\",female,23,0,0,SOTON/OQ 392083,8.05,,S\n",
        "1031,3,\"Goodwin, Mr. Charles Frederick\",male,40,1,6,CA 2144,46.9,,S\n",
        "1032,3,\"Goodwin, Miss. Jessie Allis\",female,10,5,2,CA 2144,46.9,,S\n",
        "1033,1,\"Daniels, Miss. Sarah\",female,33,0,0,113781,151.55,,S\n",
        "1034,1,\"Ryerson, Mr. Arthur Larned\",male,61,1,3,PC 17608,262.375,B57 B59 B63 B66,C\n",
        "1035,2,\"Beauchamp, Mr. Henry James\",male,28,0,0,244358,26,,S\n",
        "1036,1,\"Lindeberg-Lind, Mr. Erik Gustaf (Mr Edward Lingrey\"\")\"\"\",male,42,0,0,17475,26.55,,S\n",
        "1037,3,\"Vander Planke, Mr. Julius\",male,31,3,0,345763,18,,S\n",
        "1038,1,\"Hilliard, Mr. Herbert Henry\",male,,0,0,17463,51.8625,E46,S\n",
        "1039,3,\"Davies, Mr. Evan\",male,22,0,0,SC/A4 23568,8.05,,S\n",
        "1040,1,\"Crafton, Mr. John Bertram\",male,,0,0,113791,26.55,,S\n",
        "1041,2,\"Lahtinen, Rev. William\",male,30,1,1,250651,26,,S\n",
        "1042,1,\"Earnshaw, Mrs. Boulton (Olive Potter)\",female,23,0,1,11767,83.1583,C54,C\n",
        "1043,3,\"Matinoff, Mr. Nicola\",male,,0,0,349255,7.8958,,C\n",
        "1044,3,\"Storey, Mr. Thomas\",male,60.5,0,0,3701,,,S\n",
        "1045,3,\"Klasen, Mrs. (Hulda Kristina Eugenia Lofqvist)\",female,36,0,2,350405,12.1833,,S\n",
        "1046,3,\"Asplund, Master. Filip Oscar\",male,13,4,2,347077,31.3875,,S\n",
        "1047,3,\"Duquemin, Mr. Joseph\",male,24,0,0,S.O./P.P. 752,7.55,,S\n",
        "1048,1,\"Bird, Miss. Ellen\",female,29,0,0,PC 17483,221.7792,C97,S\n",
        "1049,3,\"Lundin, Miss. Olga Elida\",female,23,0,0,347469,7.8542,,S\n",
        "1050,1,\"Borebank, Mr. John James\",male,42,0,0,110489,26.55,D22,S\n",
        "1051,3,\"Peacock, Mrs. Benjamin (Edith Nile)\",female,26,0,2,SOTON/O.Q. 3101315,13.775,,S\n",
        "1052,3,\"Smyth, Miss. Julia\",female,,0,0,335432,7.7333,,Q\n",
        "1053,3,\"Touma, Master. Georges Youssef\",male,7,1,1,2650,15.2458,,C\n",
        "1054,2,\"Wright, Miss. Marion\",female,26,0,0,220844,13.5,,S\n",
        "1055,3,\"Pearce, Mr. Ernest\",male,,0,0,343271,7,,S\n",
        "1056,2,\"Peruschitz, Rev. Joseph Maria\",male,41,0,0,237393,13,,S\n",
        "1057,3,\"Kink-Heilmann, Mrs. Anton (Luise Heilmann)\",female,26,1,1,315153,22.025,,S\n",
        "1058,1,\"Brandeis, Mr. Emil\",male,48,0,0,PC 17591,50.4958,B10,C\n",
        "1059,3,\"Ford, Mr. Edward Watson\",male,18,2,2,W./C. 6608,34.375,,S\n",
        "1060,1,\"Cassebeer, Mrs. Henry Arthur Jr (Eleanor Genevieve Fosdick)\",female,,0,0,17770,27.7208,,C\n",
        "1061,3,\"Hellstrom, Miss. Hilda Maria\",female,22,0,0,7548,8.9625,,S\n",
        "1062,3,\"Lithman, Mr. Simon\",male,,0,0,S.O./P.P. 251,7.55,,S\n",
        "1063,3,\"Zakarian, Mr. Ortin\",male,27,0,0,2670,7.225,,C\n",
        "1064,3,\"Dyker, Mr. Adolf Fredrik\",male,23,1,0,347072,13.9,,S\n",
        "1065,3,\"Torfa, Mr. Assad\",male,,0,0,2673,7.2292,,C\n",
        "1066,3,\"Asplund, Mr. Carl Oscar Vilhelm Gustafsson\",male,40,1,5,347077,31.3875,,S\n",
        "1067,2,\"Brown, Miss. Edith Eileen\",female,15,0,2,29750,39,,S\n",
        "1068,2,\"Sincock, Miss. Maude\",female,20,0,0,C.A. 33112,36.75,,S\n",
        "1069,1,\"Stengel, Mr. Charles Emil Henry\",male,54,1,0,11778,55.4417,C116,C\n",
        "1070,2,\"Becker, Mrs. Allen Oliver (Nellie E Baumgardner)\",female,36,0,3,230136,39,F4,S\n",
        "1071,1,\"Compton, Mrs. Alexander Taylor (Mary Eliza Ingersoll)\",female,64,0,2,PC 17756,83.1583,E45,C\n",
        "1072,2,\"McCrie, Mr. James Matthew\",male,30,0,0,233478,13,,S\n",
        "1073,1,\"Compton, Mr. Alexander Taylor Jr\",male,37,1,1,PC 17756,83.1583,E52,C\n",
        "1074,1,\"Marvin, Mrs. Daniel Warner (Mary Graham Carmichael Farquarson)\",female,18,1,0,113773,53.1,D30,S\n",
        "1075,3,\"Lane, Mr. Patrick\",male,,0,0,7935,7.75,,Q\n",
        "1076,1,\"Douglas, Mrs. Frederick Charles (Mary Helene Baxter)\",female,27,1,1,PC 17558,247.5208,B58 B60,C\n",
        "1077,2,\"Maybery, Mr. Frank Hubert\",male,40,0,0,239059,16,,S\n",
        "1078,2,\"Phillips, Miss. Alice Frances Louisa\",female,21,0,1,S.O./P.P. 2,21,,S\n",
        "1079,3,\"Davies, Mr. Joseph\",male,17,2,0,A/4 48873,8.05,,S\n",
        "1080,3,\"Sage, Miss. Ada\",female,,8,2,CA. 2343,69.55,,S\n",
        "1081,2,\"Veal, Mr. James\",male,40,0,0,28221,13,,S\n",
        "1082,2,\"Angle, Mr. William A\",male,34,1,0,226875,26,,S\n",
        "1083,1,\"Salomon, Mr. Abraham L\",male,,0,0,111163,26,,S\n",
        "1084,3,\"van Billiard, Master. Walter John\",male,11.5,1,1,A/5. 851,14.5,,S\n",
        "1085,2,\"Lingane, Mr. John\",male,61,0,0,235509,12.35,,Q\n",
        "1086,2,\"Drew, Master. Marshall Brines\",male,8,0,2,28220,32.5,,S\n",
        "1087,3,\"Karlsson, Mr. Julius Konrad Eugen\",male,33,0,0,347465,7.8542,,S\n",
        "1088,1,\"Spedden, Master. Robert Douglas\",male,6,0,2,16966,134.5,E34,C\n",
        "1089,3,\"Nilsson, Miss. Berta Olivia\",female,18,0,0,347066,7.775,,S\n",
        "1090,2,\"Baimbrigge, Mr. Charles Robert\",male,23,0,0,C.A. 31030,10.5,,S\n",
        "1091,3,\"Rasmussen, Mrs. (Lena Jacobsen Solvang)\",female,,0,0,65305,8.1125,,S\n",
        "1092,3,\"Murphy, Miss. Nora\",female,,0,0,36568,15.5,,Q\n",
        "1093,3,\"Danbom, Master. Gilbert Sigvard Emanuel\",male,0.33,0,2,347080,14.4,,S\n",
        "1094,1,\"Astor, Col. John Jacob\",male,47,1,0,PC 17757,227.525,C62 C64,C\n",
        "1095,2,\"Quick, Miss. Winifred Vera\",female,8,1,1,26360,26,,S\n",
        "1096,2,\"Andrew, Mr. Frank Thomas\",male,25,0,0,C.A. 34050,10.5,,S\n",
        "1097,1,\"Omont, Mr. Alfred Fernand\",male,,0,0,F.C. 12998,25.7417,,C\n",
        "1098,3,\"McGowan, Miss. Katherine\",female,35,0,0,9232,7.75,,Q\n",
        "1099,2,\"Collett, Mr. Sidney C Stuart\",male,24,0,0,28034,10.5,,S\n",
        "1100,1,\"Rosenbaum, Miss. Edith Louise\",female,33,0,0,PC 17613,27.7208,A11,C\n",
        "1101,3,\"Delalic, Mr. Redjo\",male,25,0,0,349250,7.8958,,S\n",
        "1102,3,\"Andersen, Mr. Albert Karvin\",male,32,0,0,C 4001,22.525,,S\n",
        "1103,3,\"Finoli, Mr. Luigi\",male,,0,0,SOTON/O.Q. 3101308,7.05,,S\n",
        "1104,2,\"Deacon, Mr. Percy William\",male,17,0,0,S.O.C. 14879,73.5,,S\n",
        "1105,2,\"Howard, Mrs. Benjamin (Ellen Truelove Arman)\",female,60,1,0,24065,26,,S\n",
        "1106,3,\"Andersson, Miss. Ida Augusta Margareta\",female,38,4,2,347091,7.775,,S\n",
        "1107,1,\"Head, Mr. Christopher\",male,42,0,0,113038,42.5,B11,S\n",
        "1108,3,\"Mahon, Miss. Bridget Delia\",female,,0,0,330924,7.8792,,Q\n",
        "1109,1,\"Wick, Mr. George Dennick\",male,57,1,1,36928,164.8667,,S\n",
        "1110,1,\"Widener, Mrs. George Dunton (Eleanor Elkins)\",female,50,1,1,113503,211.5,C80,C\n",
        "1111,3,\"Thomson, Mr. Alexander Morrison\",male,,0,0,32302,8.05,,S\n",
        "1112,2,\"Duran y More, Miss. Florentina\",female,30,1,0,SC/PARIS 2148,13.8583,,C\n",
        "1113,3,\"Reynolds, Mr. Harold J\",male,21,0,0,342684,8.05,,S\n",
        "1114,2,\"Cook, Mrs. (Selena Rogers)\",female,22,0,0,W./C. 14266,10.5,F33,S\n",
        "1115,3,\"Karlsson, Mr. Einar Gervasius\",male,21,0,0,350053,7.7958,,S\n",
        "1116,1,\"Candee, Mrs. Edward (Helen Churchill Hungerford)\",female,53,0,0,PC 17606,27.4458,,C\n",
        "1117,3,\"Moubarek, Mrs. George (Omine Amenia\"\" Alexander)\"\"\",female,,0,2,2661,15.2458,,C\n",
        "1118,3,\"Asplund, Mr. Johan Charles\",male,23,0,0,350054,7.7958,,S\n",
        "1119,3,\"McNeill, Miss. Bridget\",female,,0,0,370368,7.75,,Q\n",
        "1120,3,\"Everett, Mr. Thomas James\",male,40.5,0,0,C.A. 6212,15.1,,S\n",
        "1121,2,\"Hocking, Mr. Samuel James Metcalfe\",male,36,0,0,242963,13,,S\n",
        "1122,2,\"Sweet, Mr. George Frederick\",male,14,0,0,220845,65,,S\n",
        "1123,1,\"Willard, Miss. Constance\",female,21,0,0,113795,26.55,,S\n",
        "1124,3,\"Wiklund, Mr. Karl Johan\",male,21,1,0,3101266,6.4958,,S\n",
        "1125,3,\"Linehan, Mr. Michael\",male,,0,0,330971,7.8792,,Q\n",
        "1126,1,\"Cumings, Mr. John Bradley\",male,39,1,0,PC 17599,71.2833,C85,C\n",
        "1127,3,\"Vendel, Mr. Olof Edvin\",male,20,0,0,350416,7.8542,,S\n",
        "1128,1,\"Warren, Mr. Frank Manley\",male,64,1,0,110813,75.25,D37,C\n",
        "1129,3,\"Baccos, Mr. Raffull\",male,20,0,0,2679,7.225,,C\n",
        "1130,2,\"Hiltunen, Miss. Marta\",female,18,1,1,250650,13,,S\n",
        "1131,1,\"Douglas, Mrs. Walter Donald (Mahala Dutton)\",female,48,1,0,PC 17761,106.425,C86,C\n",
        "1132,1,\"Lindstrom, Mrs. Carl Johan (Sigrid Posse)\",female,55,0,0,112377,27.7208,,C\n",
        "1133,2,\"Christy, Mrs. (Alice Frances)\",female,45,0,2,237789,30,,S\n",
        "1134,1,\"Spedden, Mr. Frederic Oakley\",male,45,1,1,16966,134.5,E34,C\n",
        "1135,3,\"Hyman, Mr. Abraham\",male,,0,0,3470,7.8875,,S\n",
        "1136,3,\"Johnston, Master. William Arthur Willie\"\"\"\"\",male,,1,2,W./C. 6607,23.45,,S\n",
        "1137,1,\"Kenyon, Mr. Frederick R\",male,41,1,0,17464,51.8625,D21,S\n",
        "1138,2,\"Karnes, Mrs. J Frank (Claire Bennett)\",female,22,0,0,F.C.C. 13534,21,,S\n",
        "1139,2,\"Drew, Mr. James Vivian\",male,42,1,1,28220,32.5,,S\n",
        "1140,2,\"Hold, Mrs. Stephen (Annie Margaret Hill)\",female,29,1,0,26707,26,,S\n",
        "1141,3,\"Khalil, Mrs. Betros (Zahie Maria\"\" Elias)\"\"\",female,,1,0,2660,14.4542,,C\n",
        "1142,2,\"West, Miss. Barbara J\",female,0.92,1,2,C.A. 34651,27.75,,S\n",
        "1143,3,\"Abrahamsson, Mr. Abraham August Johannes\",male,20,0,0,SOTON/O2 3101284,7.925,,S\n",
        "1144,1,\"Clark, Mr. Walter Miller\",male,27,1,0,13508,136.7792,C89,C\n",
        "1145,3,\"Salander, Mr. Karl Johan\",male,24,0,0,7266,9.325,,S\n",
        "1146,3,\"Wenzel, Mr. Linhart\",male,32.5,0,0,345775,9.5,,S\n",
        "1147,3,\"MacKay, Mr. George William\",male,,0,0,C.A. 42795,7.55,,S\n",
        "1148,3,\"Mahon, Mr. John\",male,,0,0,AQ/4 3130,7.75,,Q\n",
        "1149,3,\"Niklasson, Mr. Samuel\",male,28,0,0,363611,8.05,,S\n",
        "1150,2,\"Bentham, Miss. Lilian W\",female,19,0,0,28404,13,,S\n",
        "1151,3,\"Midtsjo, Mr. Karl Albert\",male,21,0,0,345501,7.775,,S\n",
        "1152,3,\"de Messemaeker, Mr. Guillaume Joseph\",male,36.5,1,0,345572,17.4,,S\n",
        "1153,3,\"Nilsson, Mr. August Ferdinand\",male,21,0,0,350410,7.8542,,S\n",
        "1154,2,\"Wells, Mrs. Arthur Henry (Addie\"\" Dart Trevaskis)\"\"\",female,29,0,2,29103,23,,S\n",
        "1155,3,\"Klasen, Miss. Gertrud Emilia\",female,1,1,1,350405,12.1833,,S\n",
        "1156,2,\"Portaluppi, Mr. Emilio Ilario Giuseppe\",male,30,0,0,C.A. 34644,12.7375,,C\n",
        "1157,3,\"Lyntakoff, Mr. Stanko\",male,,0,0,349235,7.8958,,S\n",
        "1158,1,\"Chisholm, Mr. Roderick Robert Crispin\",male,,0,0,112051,0,,S\n",
        "1159,3,\"Warren, Mr. Charles William\",male,,0,0,C.A. 49867,7.55,,S\n",
        "1160,3,\"Howard, Miss. May Elizabeth\",female,,0,0,A. 2. 39186,8.05,,S\n",
        "1161,3,\"Pokrnic, Mr. Mate\",male,17,0,0,315095,8.6625,,S\n",
        "1162,1,\"McCaffry, Mr. Thomas Francis\",male,46,0,0,13050,75.2417,C6,C\n",
        "1163,3,\"Fox, Mr. Patrick\",male,,0,0,368573,7.75,,Q\n",
        "1164,1,\"Clark, Mrs. Walter Miller (Virginia McDowell)\",female,26,1,0,13508,136.7792,C89,C\n",
        "1165,3,\"Lennon, Miss. Mary\",female,,1,0,370371,15.5,,Q\n",
        "1166,3,\"Saade, Mr. Jean Nassr\",male,,0,0,2676,7.225,,C\n",
        "1167,2,\"Bryhl, Miss. Dagmar Jenny Ingeborg \",female,20,1,0,236853,26,,S\n",
        "1168,2,\"Parker, Mr. Clifford Richard\",male,28,0,0,SC 14888,10.5,,S\n",
        "1169,2,\"Faunthorpe, Mr. Harry\",male,40,1,0,2926,26,,S\n",
        "1170,2,\"Ware, Mr. John James\",male,30,1,0,CA 31352,21,,S\n",
        "1171,2,\"Oxenham, Mr. Percy Thomas\",male,22,0,0,W./C. 14260,10.5,,S\n",
        "1172,3,\"Oreskovic, Miss. Jelka\",female,23,0,0,315085,8.6625,,S\n",
        "1173,3,\"Peacock, Master. Alfred Edward\",male,0.75,1,1,SOTON/O.Q. 3101315,13.775,,S\n",
        "1174,3,\"Fleming, Miss. Honora\",female,,0,0,364859,7.75,,Q\n",
        "1175,3,\"Touma, Miss. Maria Youssef\",female,9,1,1,2650,15.2458,,C\n",
        "1176,3,\"Rosblom, Miss. Salli Helena\",female,2,1,1,370129,20.2125,,S\n",
        "1177,3,\"Dennis, Mr. William\",male,36,0,0,A/5 21175,7.25,,S\n",
        "1178,3,\"Franklin, Mr. Charles (Charles Fardon)\",male,,0,0,SOTON/O.Q. 3101314,7.25,,S\n",
        "1179,1,\"Snyder, Mr. John Pillsbury\",male,24,1,0,21228,82.2667,B45,S\n",
        "1180,3,\"Mardirosian, Mr. Sarkis\",male,,0,0,2655,7.2292,F E46,C\n",
        "1181,3,\"Ford, Mr. Arthur\",male,,0,0,A/5 1478,8.05,,S\n",
        "1182,1,\"Rheims, Mr. George Alexander Lucien\",male,,0,0,PC 17607,39.6,,S\n",
        "1183,3,\"Daly, Miss. Margaret Marcella Maggie\"\"\"\"\",female,30,0,0,382650,6.95,,Q\n",
        "1184,3,\"Nasr, Mr. Mustafa\",male,,0,0,2652,7.2292,,C\n",
        "1185,1,\"Dodge, Dr. Washington\",male,53,1,1,33638,81.8583,A34,S\n",
        "1186,3,\"Wittevrongel, Mr. Camille\",male,36,0,0,345771,9.5,,S\n",
        "1187,3,\"Angheloff, Mr. Minko\",male,26,0,0,349202,7.8958,,S\n",
        "1188,2,\"Laroche, Miss. Louise\",female,1,1,2,SC/Paris 2123,41.5792,,C\n",
        "1189,3,\"Samaan, Mr. Hanna\",male,,2,0,2662,21.6792,,C\n",
        "1190,1,\"Loring, Mr. Joseph Holland\",male,30,0,0,113801,45.5,,S\n",
        "1191,3,\"Johansson, Mr. Nils\",male,29,0,0,347467,7.8542,,S\n",
        "1192,3,\"Olsson, Mr. Oscar Wilhelm\",male,32,0,0,347079,7.775,,S\n",
        "1193,2,\"Malachard, Mr. Noel\",male,,0,0,237735,15.0458,D,C\n",
        "1194,2,\"Phillips, Mr. Escott Robert\",male,43,0,1,S.O./P.P. 2,21,,S\n",
        "1195,3,\"Pokrnic, Mr. Tome\",male,24,0,0,315092,8.6625,,S\n",
        "1196,3,\"McCarthy, Miss. Catherine Katie\"\"\"\"\",female,,0,0,383123,7.75,,Q\n",
        "1197,1,\"Crosby, Mrs. Edward Gifford (Catherine Elizabeth Halstead)\",female,64,1,1,112901,26.55,B26,S\n",
        "1198,1,\"Allison, Mr. Hudson Joshua Creighton\",male,30,1,2,113781,151.55,C22 C26,S\n",
        "1199,3,\"Aks, Master. Philip Frank\",male,0.83,0,1,392091,9.35,,S\n",
        "1200,1,\"Hays, Mr. Charles Melville\",male,55,1,1,12749,93.5,B69,S\n",
        "1201,3,\"Hansen, Mrs. Claus Peter (Jennie L Howard)\",female,45,1,0,350026,14.1083,,S\n",
        "1202,3,\"Cacic, Mr. Jego Grga\",male,18,0,0,315091,8.6625,,S\n",
        "1203,3,\"Vartanian, Mr. David\",male,22,0,0,2658,7.225,,C\n",
        "1204,3,\"Sadowitz, Mr. Harry\",male,,0,0,LP 1588,7.575,,S\n",
        "1205,3,\"Carr, Miss. Jeannie\",female,37,0,0,368364,7.75,,Q\n",
        "1206,1,\"White, Mrs. John Stuart (Ella Holmes)\",female,55,0,0,PC 17760,135.6333,C32,C\n",
        "1207,3,\"Hagardon, Miss. Kate\",female,17,0,0,AQ/3. 30631,7.7333,,Q\n",
        "1208,1,\"Spencer, Mr. William Augustus\",male,57,1,0,PC 17569,146.5208,B78,C\n",
        "1209,2,\"Rogers, Mr. Reginald Harry\",male,19,0,0,28004,10.5,,S\n",
        "1210,3,\"Jonsson, Mr. Nils Hilding\",male,27,0,0,350408,7.8542,,S\n",
        "1211,2,\"Jefferys, Mr. Ernest Wilfred\",male,22,2,0,C.A. 31029,31.5,,S\n",
        "1212,3,\"Andersson, Mr. Johan Samuel\",male,26,0,0,347075,7.775,,S\n",
        "1213,3,\"Krekorian, Mr. Neshan\",male,25,0,0,2654,7.2292,F E57,C\n",
        "1214,2,\"Nesson, Mr. Israel\",male,26,0,0,244368,13,F2,S\n",
        "1215,1,\"Rowe, Mr. Alfred G\",male,33,0,0,113790,26.55,,S\n",
        "1216,1,\"Kreuchen, Miss. Emilie\",female,39,0,0,24160,211.3375,,S\n",
        "1217,3,\"Assam, Mr. Ali\",male,23,0,0,SOTON/O.Q. 3101309,7.05,,S\n",
        "1218,2,\"Becker, Miss. Ruth Elizabeth\",female,12,2,1,230136,39,F4,S\n",
        "1219,1,\"Rosenshine, Mr. George (Mr George Thorne\"\")\"\"\",male,46,0,0,PC 17585,79.2,,C\n",
        "1220,2,\"Clarke, Mr. Charles Valentine\",male,29,1,0,2003,26,,S\n",
        "1221,2,\"Enander, Mr. Ingvar\",male,21,0,0,236854,13,,S\n",
        "1222,2,\"Davies, Mrs. John Morgan (Elizabeth Agnes Mary White) \",female,48,0,2,C.A. 33112,36.75,,S\n",
        "1223,1,\"Dulles, Mr. William Crothers\",male,39,0,0,PC 17580,29.7,A18,C\n",
        "1224,3,\"Thomas, Mr. Tannous\",male,,0,0,2684,7.225,,C\n",
        "1225,3,\"Nakid, Mrs. Said (Waika Mary\"\" Mowad)\"\"\",female,19,1,1,2653,15.7417,,C\n",
        "1226,3,\"Cor, Mr. Ivan\",male,27,0,0,349229,7.8958,,S\n",
        "1227,1,\"Maguire, Mr. John Edward\",male,30,0,0,110469,26,C106,S\n",
        "1228,2,\"de Brito, Mr. Jose Joaquim\",male,32,0,0,244360,13,,S\n",
        "1229,3,\"Elias, Mr. Joseph\",male,39,0,2,2675,7.2292,,C\n",
        "1230,2,\"Denbury, Mr. Herbert\",male,25,0,0,C.A. 31029,31.5,,S\n",
        "1231,3,\"Betros, Master. Seman\",male,,0,0,2622,7.2292,,C\n",
        "1232,2,\"Fillbrook, Mr. Joseph Charles\",male,18,0,0,C.A. 15185,10.5,,S\n",
        "1233,3,\"Lundstrom, Mr. Thure Edvin\",male,32,0,0,350403,7.5792,,S\n",
        "1234,3,\"Sage, Mr. John George\",male,,1,9,CA. 2343,69.55,,S\n",
        "1235,1,\"Cardeza, Mrs. James Warburton Martinez (Charlotte Wardle Drake)\",female,58,0,1,PC 17755,512.3292,B51 B53 B55,C\n",
        "1236,3,\"van Billiard, Master. James William\",male,,1,1,A/5. 851,14.5,,S\n",
        "1237,3,\"Abelseth, Miss. Karen Marie\",female,16,0,0,348125,7.65,,S\n",
        "1238,2,\"Botsford, Mr. William Hull\",male,26,0,0,237670,13,,S\n",
        "1239,3,\"Whabee, Mrs. George Joseph (Shawneene Abi-Saab)\",female,38,0,0,2688,7.2292,,C\n",
        "1240,2,\"Giles, Mr. Ralph\",male,24,0,0,248726,13.5,,S\n",
        "1241,2,\"Walcroft, Miss. Nellie\",female,31,0,0,F.C.C. 13528,21,,S\n",
        "1242,1,\"Greenfield, Mrs. Leo David (Blanche Strouse)\",female,45,0,1,PC 17759,63.3583,D10 D12,C\n",
        "1243,2,\"Stokes, Mr. Philip Joseph\",male,25,0,0,F.C.C. 13540,10.5,,S\n",
        "1244,2,\"Dibden, Mr. William\",male,18,0,0,S.O.C. 14879,73.5,,S\n",
        "1245,2,\"Herman, Mr. Samuel\",male,49,1,2,220845,65,,S\n",
        "1246,3,\"Dean, Miss. Elizabeth Gladys Millvina\"\"\"\"\",female,0.17,1,2,C.A. 2315,20.575,,S\n",
        "1247,1,\"Julian, Mr. Henry Forbes\",male,50,0,0,113044,26,E60,S\n",
        "1248,1,\"Brown, Mrs. John Murray (Caroline Lane Lamson)\",female,59,2,0,11769,51.4792,C101,S\n",
        "1249,3,\"Lockyer, Mr. Edward\",male,,0,0,1222,7.8792,,S\n",
        "1250,3,\"O'Keefe, Mr. Patrick\",male,,0,0,368402,7.75,,Q\n",
        "1251,3,\"Lindell, Mrs. Edvard Bengtsson (Elin Gerda Persson)\",female,30,1,0,349910,15.55,,S\n",
        "1252,3,\"Sage, Master. William Henry\",male,14.5,8,2,CA. 2343,69.55,,S\n",
        "1253,2,\"Mallet, Mrs. Albert (Antoinette Magnin)\",female,24,1,1,S.C./PARIS 2079,37.0042,,C\n",
        "1254,2,\"Ware, Mrs. John James (Florence Louise Long)\",female,31,0,0,CA 31352,21,,S\n",
        "1255,3,\"Strilic, Mr. Ivan\",male,27,0,0,315083,8.6625,,S\n",
        "1256,1,\"Harder, Mrs. George Achilles (Dorothy Annan)\",female,25,1,0,11765,55.4417,E50,C\n",
        "1257,3,\"Sage, Mrs. John (Annie Bullen)\",female,,1,9,CA. 2343,69.55,,S\n",
        "1258,3,\"Caram, Mr. Joseph\",male,,1,0,2689,14.4583,,C\n",
        "1259,3,\"Riihivouri, Miss. Susanna Juhantytar Sanni\"\"\"\"\",female,22,0,0,3101295,39.6875,,S\n",
        "1260,1,\"Gibson, Mrs. Leonard (Pauline C Boeson)\",female,45,0,1,112378,59.4,,C\n",
        "1261,2,\"Pallas y Castello, Mr. Emilio\",male,29,0,0,SC/PARIS 2147,13.8583,,C\n",
        "1262,2,\"Giles, Mr. Edgar\",male,21,1,0,28133,11.5,,S\n",
        "1263,1,\"Wilson, Miss. Helen Alice\",female,31,0,0,16966,134.5,E39 E41,C\n",
        "1264,1,\"Ismay, Mr. Joseph Bruce\",male,49,0,0,112058,0,B52 B54 B56,S\n",
        "1265,2,\"Harbeck, Mr. William H\",male,44,0,0,248746,13,,S\n",
        "1266,1,\"Dodge, Mrs. Washington (Ruth Vidaver)\",female,54,1,1,33638,81.8583,A34,S\n",
        "1267,1,\"Bowen, Miss. Grace Scott\",female,45,0,0,PC 17608,262.375,,C\n",
        "1268,3,\"Kink, Miss. Maria\",female,22,2,0,315152,8.6625,,S\n",
        "1269,2,\"Cotterill, Mr. Henry Harry\"\"\"\"\",male,21,0,0,29107,11.5,,S\n",
        "1270,1,\"Hipkins, Mr. William Edward\",male,55,0,0,680,50,C39,S\n",
        "1271,3,\"Asplund, Master. Carl Edgar\",male,5,4,2,347077,31.3875,,S\n",
        "1272,3,\"O'Connor, Mr. Patrick\",male,,0,0,366713,7.75,,Q\n",
        "1273,3,\"Foley, Mr. Joseph\",male,26,0,0,330910,7.8792,,Q\n",
        "1274,3,\"Risien, Mrs. Samuel (Emma)\",female,,0,0,364498,14.5,,S\n",
        "1275,3,\"McNamee, Mrs. Neal (Eileen O'Leary)\",female,19,1,0,376566,16.1,,S\n",
        "1276,2,\"Wheeler, Mr. Edwin Frederick\"\"\"\"\",male,,0,0,SC/PARIS 2159,12.875,,S\n",
        "1277,2,\"Herman, Miss. Kate\",female,24,1,2,220845,65,,S\n",
        "1278,3,\"Aronsson, Mr. Ernst Axel Algot\",male,24,0,0,349911,7.775,,S\n",
        "1279,2,\"Ashby, Mr. John\",male,57,0,0,244346,13,,S\n",
        "1280,3,\"Canavan, Mr. Patrick\",male,21,0,0,364858,7.75,,Q\n",
        "1281,3,\"Palsson, Master. Paul Folke\",male,6,3,1,349909,21.075,,S\n",
        "1282,1,\"Payne, Mr. Vivian Ponsonby\",male,23,0,0,12749,93.5,B24,S\n",
        "1283,1,\"Lines, Mrs. Ernest H (Elizabeth Lindsey James)\",female,51,0,1,PC 17592,39.4,D28,S\n",
        "1284,3,\"Abbott, Master. Eugene Joseph\",male,13,0,2,C.A. 2673,20.25,,S\n",
        "1285,2,\"Gilbert, Mr. William\",male,47,0,0,C.A. 30769,10.5,,S\n",
        "1286,3,\"Kink-Heilmann, Mr. Anton\",male,29,3,1,315153,22.025,,S\n",
        "1287,1,\"Smith, Mrs. Lucien Philip (Mary Eloise Hughes)\",female,18,1,0,13695,60,C31,S\n",
        "1288,3,\"Colbert, Mr. Patrick\",male,24,0,0,371109,7.25,,Q\n",
        "1289,1,\"Frolicher-Stehli, Mrs. Maxmillian (Margaretha Emerentia Stehli)\",female,48,1,1,13567,79.2,B41,C\n",
        "1290,3,\"Larsson-Rondberg, Mr. Edvard A\",male,22,0,0,347065,7.775,,S\n",
        "1291,3,\"Conlon, Mr. Thomas Henry\",male,31,0,0,21332,7.7333,,Q\n",
        "1292,1,\"Bonnell, Miss. Caroline\",female,30,0,0,36928,164.8667,C7,S\n",
        "1293,2,\"Gale, Mr. Harry\",male,38,1,0,28664,21,,S\n",
        "1294,1,\"Gibson, Miss. Dorothy Winifred\",female,22,0,1,112378,59.4,,C\n",
        "1295,1,\"Carrau, Mr. Jose Pedro\",male,17,0,0,113059,47.1,,S\n",
        "1296,1,\"Frauenthal, Mr. Isaac Gerald\",male,43,1,0,17765,27.7208,D40,C\n",
        "1297,2,\"Nourney, Mr. Alfred (Baron von Drachstedt\"\")\"\"\",male,20,0,0,SC/PARIS 2166,13.8625,D38,C\n",
        "1298,2,\"Ware, Mr. William Jeffery\",male,23,1,0,28666,10.5,,S\n",
        "1299,1,\"Widener, Mr. George Dunton\",male,50,1,1,113503,211.5,C80,C\n",
        "1300,3,\"Riordan, Miss. Johanna Hannah\"\"\"\"\",female,,0,0,334915,7.7208,,Q\n",
        "1301,3,\"Peacock, Miss. Treasteall\",female,3,1,1,SOTON/O.Q. 3101315,13.775,,S\n",
        "1302,3,\"Naughton, Miss. Hannah\",female,,0,0,365237,7.75,,Q\n",
        "1303,1,\"Minahan, Mrs. William Edward (Lillian E Thorpe)\",female,37,1,0,19928,90,C78,Q\n",
        "1304,3,\"Henriksson, Miss. Jenny Lovisa\",female,28,0,0,347086,7.775,,S\n",
        "1305,3,\"Spector, Mr. Woolf\",male,,0,0,A.5. 3236,8.05,,S\n",
        "1306,1,\"Oliva y Ocana, Dona. Fermina\",female,39,0,0,PC 17758,108.9,C105,C\n",
        "1307,3,\"Saether, Mr. Simon Sivertsen\",male,38.5,0,0,SOTON/O.Q. 3101262,7.25,,S\n",
        "1308,3,\"Ware, Mr. Frederick\",male,,0,0,359309,8.05,,S\n",
        "1309,3,\"Peter, Master. Michael J\",male,,1,1,2668,22.3583,,C"
      ],
      "execution_count": null,
      "outputs": [
        {
          "output_type": "stream",
          "text": [
            "Writing titanic_test.csv\n"
          ],
          "name": "stdout"
        }
      ]
    },
    {
      "cell_type": "code",
      "metadata": {
        "id": "hGfKgCuhQt7O",
        "cellView": "form",
        "colab": {
          "base_uri": "https://localhost:8080/",
          "height": 34
        },
        "outputId": "250f728e-dffc-4227-e2c0-7d5ee75a01f3"
      },
      "source": [
        "#@title Titanic Dataset: labels_for_titanic_test.csv\n",
        "%%writefile labels_for_titanic_test.csv\n",
        "PassengerId,Survived\n",
        "892,0\n",
        "893,1\n",
        "894,0\n",
        "895,0\n",
        "896,1\n",
        "897,0\n",
        "898,1\n",
        "899,0\n",
        "900,1\n",
        "901,0\n",
        "902,0\n",
        "903,0\n",
        "904,1\n",
        "905,0\n",
        "906,1\n",
        "907,1\n",
        "908,0\n",
        "909,0\n",
        "910,1\n",
        "911,1\n",
        "912,0\n",
        "913,0\n",
        "914,1\n",
        "915,0\n",
        "916,1\n",
        "917,0\n",
        "918,1\n",
        "919,0\n",
        "920,0\n",
        "921,0\n",
        "922,0\n",
        "923,0\n",
        "924,1\n",
        "925,1\n",
        "926,0\n",
        "927,0\n",
        "928,1\n",
        "929,1\n",
        "930,0\n",
        "931,0\n",
        "932,0\n",
        "933,0\n",
        "934,0\n",
        "935,1\n",
        "936,1\n",
        "937,0\n",
        "938,0\n",
        "939,0\n",
        "940,1\n",
        "941,1\n",
        "942,0\n",
        "943,0\n",
        "944,1\n",
        "945,1\n",
        "946,0\n",
        "947,0\n",
        "948,0\n",
        "949,0\n",
        "950,0\n",
        "951,1\n",
        "952,0\n",
        "953,0\n",
        "954,0\n",
        "955,1\n",
        "956,0\n",
        "957,1\n",
        "958,1\n",
        "959,0\n",
        "960,0\n",
        "961,1\n",
        "962,1\n",
        "963,0\n",
        "964,1\n",
        "965,0\n",
        "966,1\n",
        "967,0\n",
        "968,0\n",
        "969,1\n",
        "970,0\n",
        "971,1\n",
        "972,0\n",
        "973,0\n",
        "974,0\n",
        "975,0\n",
        "976,0\n",
        "977,0\n",
        "978,1\n",
        "979,1\n",
        "980,1\n",
        "981,0\n",
        "982,1\n",
        "983,0\n",
        "984,1\n",
        "985,0\n",
        "986,0\n",
        "987,0\n",
        "988,1\n",
        "989,0\n",
        "990,1\n",
        "991,0\n",
        "992,1\n",
        "993,0\n",
        "994,0\n",
        "995,0\n",
        "996,1\n",
        "997,0\n",
        "998,0\n",
        "999,0\n",
        "1000,0\n",
        "1001,0\n",
        "1002,0\n",
        "1003,1\n",
        "1004,1\n",
        "1005,1\n",
        "1006,1\n",
        "1007,0\n",
        "1008,0\n",
        "1009,1\n",
        "1010,0\n",
        "1011,1\n",
        "1012,1\n",
        "1013,0\n",
        "1014,1\n",
        "1015,0\n",
        "1016,0\n",
        "1017,1\n",
        "1018,0\n",
        "1019,1\n",
        "1020,0\n",
        "1021,0\n",
        "1022,0\n",
        "1023,0\n",
        "1024,1\n",
        "1025,0\n",
        "1026,0\n",
        "1027,0\n",
        "1028,0\n",
        "1029,0\n",
        "1030,1\n",
        "1031,0\n",
        "1032,1\n",
        "1033,1\n",
        "1034,0\n",
        "1035,0\n",
        "1036,0\n",
        "1037,0\n",
        "1038,0\n",
        "1039,0\n",
        "1040,0\n",
        "1041,0\n",
        "1042,1\n",
        "1043,0\n",
        "1044,0\n",
        "1045,1\n",
        "1046,0\n",
        "1047,0\n",
        "1048,1\n",
        "1049,1\n",
        "1050,0\n",
        "1051,1\n",
        "1052,1\n",
        "1053,0\n",
        "1054,1\n",
        "1055,0\n",
        "1056,0\n",
        "1057,1\n",
        "1058,0\n",
        "1059,0\n",
        "1060,1\n",
        "1061,1\n",
        "1062,0\n",
        "1063,0\n",
        "1064,0\n",
        "1065,0\n",
        "1066,0\n",
        "1067,1\n",
        "1068,1\n",
        "1069,0\n",
        "1070,1\n",
        "1071,1\n",
        "1072,0\n",
        "1073,0\n",
        "1074,1\n",
        "1075,0\n",
        "1076,1\n",
        "1077,0\n",
        "1078,1\n",
        "1079,0\n",
        "1080,1\n",
        "1081,0\n",
        "1082,0\n",
        "1083,0\n",
        "1084,0\n",
        "1085,0\n",
        "1086,0\n",
        "1087,0\n",
        "1088,0\n",
        "1089,1\n",
        "1090,0\n",
        "1091,1\n",
        "1092,1\n",
        "1093,0\n",
        "1094,0\n",
        "1095,1\n",
        "1096,0\n",
        "1097,0\n",
        "1098,1\n",
        "1099,0\n",
        "1100,1\n",
        "1101,0\n",
        "1102,0\n",
        "1103,0\n",
        "1104,0\n",
        "1105,1\n",
        "1106,1\n",
        "1107,0\n",
        "1108,1\n",
        "1109,0\n",
        "1110,1\n",
        "1111,0\n",
        "1112,1\n",
        "1113,0\n",
        "1114,1\n",
        "1115,0\n",
        "1116,1\n",
        "1117,1\n",
        "1118,0\n",
        "1119,1\n",
        "1120,0\n",
        "1121,0\n",
        "1122,0\n",
        "1123,1\n",
        "1124,0\n",
        "1125,0\n",
        "1126,0\n",
        "1127,0\n",
        "1128,0\n",
        "1129,0\n",
        "1130,1\n",
        "1131,1\n",
        "1132,1\n",
        "1133,1\n",
        "1134,0\n",
        "1135,0\n",
        "1136,0\n",
        "1137,0\n",
        "1138,1\n",
        "1139,0\n",
        "1140,1\n",
        "1141,1\n",
        "1142,1\n",
        "1143,0\n",
        "1144,0\n",
        "1145,0\n",
        "1146,0\n",
        "1147,0\n",
        "1148,0\n",
        "1149,0\n",
        "1150,1\n",
        "1151,0\n",
        "1152,0\n",
        "1153,0\n",
        "1154,1\n",
        "1155,1\n",
        "1156,0\n",
        "1157,0\n",
        "1158,0\n",
        "1159,0\n",
        "1160,1\n",
        "1161,0\n",
        "1162,0\n",
        "1163,0\n",
        "1164,1\n",
        "1165,1\n",
        "1166,0\n",
        "1167,1\n",
        "1168,0\n",
        "1169,0\n",
        "1170,0\n",
        "1171,0\n",
        "1172,1\n",
        "1173,0\n",
        "1174,1\n",
        "1175,1\n",
        "1176,1\n",
        "1177,0\n",
        "1178,0\n",
        "1179,0\n",
        "1180,0\n",
        "1181,0\n",
        "1182,0\n",
        "1183,1\n",
        "1184,0\n",
        "1185,0\n",
        "1186,0\n",
        "1187,0\n",
        "1188,1\n",
        "1189,0\n",
        "1190,0\n",
        "1191,0\n",
        "1192,0\n",
        "1193,0\n",
        "1194,0\n",
        "1195,0\n",
        "1196,1\n",
        "1197,1\n",
        "1198,0\n",
        "1199,0\n",
        "1200,0\n",
        "1201,1\n",
        "1202,0\n",
        "1203,0\n",
        "1204,0\n",
        "1205,1\n",
        "1206,1\n",
        "1207,1\n",
        "1208,0\n",
        "1209,0\n",
        "1210,0\n",
        "1211,0\n",
        "1212,0\n",
        "1213,0\n",
        "1214,0\n",
        "1215,0\n",
        "1216,1\n",
        "1217,0\n",
        "1218,1\n",
        "1219,0\n",
        "1220,0\n",
        "1221,0\n",
        "1222,1\n",
        "1223,0\n",
        "1224,0\n",
        "1225,1\n",
        "1226,0\n",
        "1227,0\n",
        "1228,0\n",
        "1229,0\n",
        "1230,0\n",
        "1231,0\n",
        "1232,0\n",
        "1233,0\n",
        "1234,0\n",
        "1235,1\n",
        "1236,0\n",
        "1237,1\n",
        "1238,0\n",
        "1239,1\n",
        "1240,0\n",
        "1241,1\n",
        "1242,1\n",
        "1243,0\n",
        "1244,0\n",
        "1245,0\n",
        "1246,1\n",
        "1247,0\n",
        "1248,1\n",
        "1249,0\n",
        "1250,0\n",
        "1251,1\n",
        "1252,0\n",
        "1253,1\n",
        "1254,1\n",
        "1255,0\n",
        "1256,1\n",
        "1257,1\n",
        "1258,0\n",
        "1259,1\n",
        "1260,1\n",
        "1261,0\n",
        "1262,0\n",
        "1263,1\n",
        "1264,0\n",
        "1265,0\n",
        "1266,1\n",
        "1267,1\n",
        "1268,1\n",
        "1269,0\n",
        "1270,0\n",
        "1271,0\n",
        "1272,0\n",
        "1273,0\n",
        "1274,1\n",
        "1275,1\n",
        "1276,0\n",
        "1277,1\n",
        "1278,0\n",
        "1279,0\n",
        "1280,0\n",
        "1281,0\n",
        "1282,0\n",
        "1283,1\n",
        "1284,0\n",
        "1285,0\n",
        "1286,0\n",
        "1287,1\n",
        "1288,0\n",
        "1289,1\n",
        "1290,0\n",
        "1291,0\n",
        "1292,1\n",
        "1293,0\n",
        "1294,1\n",
        "1295,0\n",
        "1296,0\n",
        "1297,0\n",
        "1298,0\n",
        "1299,0\n",
        "1300,1\n",
        "1301,1\n",
        "1302,1\n",
        "1303,1\n",
        "1304,1\n",
        "1305,0\n",
        "1306,1\n",
        "1307,0\n",
        "1308,0\n",
        "1309,0"
      ],
      "execution_count": null,
      "outputs": [
        {
          "output_type": "stream",
          "text": [
            "Writing labels_for_titanic_test.csv\n"
          ],
          "name": "stdout"
        }
      ]
    },
    {
      "cell_type": "code",
      "metadata": {
        "id": "8rrtO5TPA83B"
      },
      "source": [
        "titanic_train = pd.read_csv(\"train.csv\")\n",
        "titanic_test = pd.read_csv(\"test.csv\")"
      ],
      "execution_count": null,
      "outputs": []
    },
    {
      "cell_type": "code",
      "metadata": {
        "colab": {
          "base_uri": "https://localhost:8080/",
          "height": 204
        },
        "id": "i9oFIinEJqRM",
        "outputId": "73d88a17-de2f-4b92-c2aa-0071b5aa9a22"
      },
      "source": [
        "titanic_train.head()"
      ],
      "execution_count": null,
      "outputs": [
        {
          "output_type": "execute_result",
          "data": {
            "text/html": [
              "<div>\n",
              "<style scoped>\n",
              "    .dataframe tbody tr th:only-of-type {\n",
              "        vertical-align: middle;\n",
              "    }\n",
              "\n",
              "    .dataframe tbody tr th {\n",
              "        vertical-align: top;\n",
              "    }\n",
              "\n",
              "    .dataframe thead th {\n",
              "        text-align: right;\n",
              "    }\n",
              "</style>\n",
              "<table border=\"1\" class=\"dataframe\">\n",
              "  <thead>\n",
              "    <tr style=\"text-align: right;\">\n",
              "      <th></th>\n",
              "      <th>PassengerId</th>\n",
              "      <th>Survived</th>\n",
              "      <th>Pclass</th>\n",
              "      <th>Name</th>\n",
              "      <th>Sex</th>\n",
              "      <th>Age</th>\n",
              "      <th>SibSp</th>\n",
              "      <th>Parch</th>\n",
              "      <th>Ticket</th>\n",
              "      <th>Fare</th>\n",
              "      <th>Cabin</th>\n",
              "      <th>Embarked</th>\n",
              "    </tr>\n",
              "  </thead>\n",
              "  <tbody>\n",
              "    <tr>\n",
              "      <th>0</th>\n",
              "      <td>1</td>\n",
              "      <td>0</td>\n",
              "      <td>3</td>\n",
              "      <td>Braund, Mr. Owen Harris</td>\n",
              "      <td>male</td>\n",
              "      <td>22.0</td>\n",
              "      <td>1</td>\n",
              "      <td>0</td>\n",
              "      <td>A/5 21171</td>\n",
              "      <td>7.2500</td>\n",
              "      <td>NaN</td>\n",
              "      <td>S</td>\n",
              "    </tr>\n",
              "    <tr>\n",
              "      <th>1</th>\n",
              "      <td>2</td>\n",
              "      <td>1</td>\n",
              "      <td>1</td>\n",
              "      <td>Cumings, Mrs. John Bradley (Florence Briggs Th...</td>\n",
              "      <td>female</td>\n",
              "      <td>38.0</td>\n",
              "      <td>1</td>\n",
              "      <td>0</td>\n",
              "      <td>PC 17599</td>\n",
              "      <td>71.2833</td>\n",
              "      <td>C85</td>\n",
              "      <td>C</td>\n",
              "    </tr>\n",
              "    <tr>\n",
              "      <th>2</th>\n",
              "      <td>3</td>\n",
              "      <td>1</td>\n",
              "      <td>3</td>\n",
              "      <td>Heikkinen, Miss. Laina</td>\n",
              "      <td>female</td>\n",
              "      <td>26.0</td>\n",
              "      <td>0</td>\n",
              "      <td>0</td>\n",
              "      <td>STON/O2. 3101282</td>\n",
              "      <td>7.9250</td>\n",
              "      <td>NaN</td>\n",
              "      <td>S</td>\n",
              "    </tr>\n",
              "    <tr>\n",
              "      <th>3</th>\n",
              "      <td>4</td>\n",
              "      <td>1</td>\n",
              "      <td>1</td>\n",
              "      <td>Futrelle, Mrs. Jacques Heath (Lily May Peel)</td>\n",
              "      <td>female</td>\n",
              "      <td>35.0</td>\n",
              "      <td>1</td>\n",
              "      <td>0</td>\n",
              "      <td>113803</td>\n",
              "      <td>53.1000</td>\n",
              "      <td>C123</td>\n",
              "      <td>S</td>\n",
              "    </tr>\n",
              "    <tr>\n",
              "      <th>4</th>\n",
              "      <td>5</td>\n",
              "      <td>0</td>\n",
              "      <td>3</td>\n",
              "      <td>Allen, Mr. William Henry</td>\n",
              "      <td>male</td>\n",
              "      <td>35.0</td>\n",
              "      <td>0</td>\n",
              "      <td>0</td>\n",
              "      <td>373450</td>\n",
              "      <td>8.0500</td>\n",
              "      <td>NaN</td>\n",
              "      <td>S</td>\n",
              "    </tr>\n",
              "  </tbody>\n",
              "</table>\n",
              "</div>"
            ],
            "text/plain": [
              "   PassengerId  Survived  Pclass  ...     Fare Cabin  Embarked\n",
              "0            1         0       3  ...   7.2500   NaN         S\n",
              "1            2         1       1  ...  71.2833   C85         C\n",
              "2            3         1       3  ...   7.9250   NaN         S\n",
              "3            4         1       1  ...  53.1000  C123         S\n",
              "4            5         0       3  ...   8.0500   NaN         S\n",
              "\n",
              "[5 rows x 12 columns]"
            ]
          },
          "metadata": {},
          "execution_count": 25
        }
      ]
    },
    {
      "cell_type": "code",
      "metadata": {
        "id": "z-xXg31IA83H",
        "colab": {
          "base_uri": "https://localhost:8080/",
          "height": 204
        },
        "outputId": "f6fd2591-91a7-47d2-fc6f-46ca0acc8efb"
      },
      "source": [
        "titanic_test.head()"
      ],
      "execution_count": null,
      "outputs": [
        {
          "output_type": "execute_result",
          "data": {
            "text/html": [
              "<div>\n",
              "<style scoped>\n",
              "    .dataframe tbody tr th:only-of-type {\n",
              "        vertical-align: middle;\n",
              "    }\n",
              "\n",
              "    .dataframe tbody tr th {\n",
              "        vertical-align: top;\n",
              "    }\n",
              "\n",
              "    .dataframe thead th {\n",
              "        text-align: right;\n",
              "    }\n",
              "</style>\n",
              "<table border=\"1\" class=\"dataframe\">\n",
              "  <thead>\n",
              "    <tr style=\"text-align: right;\">\n",
              "      <th></th>\n",
              "      <th>PassengerId</th>\n",
              "      <th>Pclass</th>\n",
              "      <th>Name</th>\n",
              "      <th>Sex</th>\n",
              "      <th>Age</th>\n",
              "      <th>SibSp</th>\n",
              "      <th>Parch</th>\n",
              "      <th>Ticket</th>\n",
              "      <th>Fare</th>\n",
              "      <th>Cabin</th>\n",
              "      <th>Embarked</th>\n",
              "    </tr>\n",
              "  </thead>\n",
              "  <tbody>\n",
              "    <tr>\n",
              "      <th>0</th>\n",
              "      <td>892</td>\n",
              "      <td>3</td>\n",
              "      <td>Kelly, Mr. James</td>\n",
              "      <td>male</td>\n",
              "      <td>34.5</td>\n",
              "      <td>0</td>\n",
              "      <td>0</td>\n",
              "      <td>330911</td>\n",
              "      <td>7.8292</td>\n",
              "      <td>NaN</td>\n",
              "      <td>Q</td>\n",
              "    </tr>\n",
              "    <tr>\n",
              "      <th>1</th>\n",
              "      <td>893</td>\n",
              "      <td>3</td>\n",
              "      <td>Wilkes, Mrs. James (Ellen Needs)</td>\n",
              "      <td>female</td>\n",
              "      <td>47.0</td>\n",
              "      <td>1</td>\n",
              "      <td>0</td>\n",
              "      <td>363272</td>\n",
              "      <td>7.0000</td>\n",
              "      <td>NaN</td>\n",
              "      <td>S</td>\n",
              "    </tr>\n",
              "    <tr>\n",
              "      <th>2</th>\n",
              "      <td>894</td>\n",
              "      <td>2</td>\n",
              "      <td>Myles, Mr. Thomas Francis</td>\n",
              "      <td>male</td>\n",
              "      <td>62.0</td>\n",
              "      <td>0</td>\n",
              "      <td>0</td>\n",
              "      <td>240276</td>\n",
              "      <td>9.6875</td>\n",
              "      <td>NaN</td>\n",
              "      <td>Q</td>\n",
              "    </tr>\n",
              "    <tr>\n",
              "      <th>3</th>\n",
              "      <td>895</td>\n",
              "      <td>3</td>\n",
              "      <td>Wirz, Mr. Albert</td>\n",
              "      <td>male</td>\n",
              "      <td>27.0</td>\n",
              "      <td>0</td>\n",
              "      <td>0</td>\n",
              "      <td>315154</td>\n",
              "      <td>8.6625</td>\n",
              "      <td>NaN</td>\n",
              "      <td>S</td>\n",
              "    </tr>\n",
              "    <tr>\n",
              "      <th>4</th>\n",
              "      <td>896</td>\n",
              "      <td>3</td>\n",
              "      <td>Hirvonen, Mrs. Alexander (Helga E Lindqvist)</td>\n",
              "      <td>female</td>\n",
              "      <td>22.0</td>\n",
              "      <td>1</td>\n",
              "      <td>1</td>\n",
              "      <td>3101298</td>\n",
              "      <td>12.2875</td>\n",
              "      <td>NaN</td>\n",
              "      <td>S</td>\n",
              "    </tr>\n",
              "  </tbody>\n",
              "</table>\n",
              "</div>"
            ],
            "text/plain": [
              "   PassengerId  Pclass  ... Cabin Embarked\n",
              "0          892       3  ...   NaN        Q\n",
              "1          893       3  ...   NaN        S\n",
              "2          894       2  ...   NaN        Q\n",
              "3          895       3  ...   NaN        S\n",
              "4          896       3  ...   NaN        S\n",
              "\n",
              "[5 rows x 11 columns]"
            ]
          },
          "metadata": {},
          "execution_count": 26
        }
      ]
    },
    {
      "cell_type": "markdown",
      "metadata": {
        "id": "sYrZ5Ag0vAEl"
      },
      "source": [
        "## Algunas visualizaciones"
      ]
    },
    {
      "cell_type": "code",
      "metadata": {
        "id": "hECPfdlns2h9",
        "colab": {
          "base_uri": "https://localhost:8080/",
          "height": 369
        },
        "outputId": "8d2c3b8b-100f-430d-b29c-1a4608aa5015"
      },
      "source": [
        "# La altura de cada barra representa el valor medio de cada categoría\n",
        "# Cada barra esta mostrando el valor medio respecto de si sobrevivieron o no (1 o 0) para varones y mujeres por cada clase de pasajero (Pclass)\n",
        "sns.catplot(x=\"Sex\", y=\"Survived\", hue=\"Pclass\", kind=\"bar\", data=titanic_train);"
      ],
      "execution_count": null,
      "outputs": [
        {
          "output_type": "display_data",
          "data": {
            "image/png": "[encoded data removed]",
            "text/plain": [
              "<Figure size 402.375x360 with 1 Axes>"
            ]
          },
          "metadata": {
            "needs_background": "light"
          }
        }
      ]
    },
    {
      "cell_type": "code",
      "metadata": {
        "id": "XwFl8n43t5QA",
        "colab": {
          "base_uri": "https://localhost:8080/",
          "height": 1000
        },
        "outputId": "d30c57a3-1e09-4ecf-f5f4-e0a14f713c1c"
      },
      "source": [
        "sns.pairplot(titanic_train, hue=\"Survived\");"
      ],
      "execution_count": null,
      "outputs": [
        {
          "output_type": "display_data",
          "data": {
            "image/png": "[encoded data removed]",
            "text/plain": [
              "<Figure size 1131.88x1080 with 42 Axes>"
            ]
          },
          "metadata": {
            "needs_background": "light"
          }
        }
      ]
    },
    {
      "cell_type": "markdown",
      "metadata": {
        "id": "20LdBJTmA83P"
      },
      "source": [
        "## Preparación de los datos\n",
        "\n",
        "`Pandas` nos permite seleccionar una columna como índice. En nuestro caso el índice es conveniente hacerlo con la columna `PassengerId`."
      ]
    },
    {
      "cell_type": "code",
      "metadata": {
        "id": "6wqP-DnOUfRB"
      },
      "source": [
        "titanic_train.set_index('PassengerId', inplace=True)\n",
        "titanic_test.set_index('PassengerId', inplace=True)"
      ],
      "execution_count": null,
      "outputs": []
    },
    {
      "cell_type": "code",
      "metadata": {
        "id": "gEtIyBIOA83R",
        "colab": {
          "base_uri": "https://localhost:8080/",
          "height": 235
        },
        "outputId": "2224d359-4fef-45b9-b294-90ccf9c1b25f"
      },
      "source": [
        "titanic_train.head()"
      ],
      "execution_count": null,
      "outputs": [
        {
          "output_type": "execute_result",
          "data": {
            "text/html": [
              "<div>\n",
              "<style scoped>\n",
              "    .dataframe tbody tr th:only-of-type {\n",
              "        vertical-align: middle;\n",
              "    }\n",
              "\n",
              "    .dataframe tbody tr th {\n",
              "        vertical-align: top;\n",
              "    }\n",
              "\n",
              "    .dataframe thead th {\n",
              "        text-align: right;\n",
              "    }\n",
              "</style>\n",
              "<table border=\"1\" class=\"dataframe\">\n",
              "  <thead>\n",
              "    <tr style=\"text-align: right;\">\n",
              "      <th></th>\n",
              "      <th>Survived</th>\n",
              "      <th>Pclass</th>\n",
              "      <th>Name</th>\n",
              "      <th>Sex</th>\n",
              "      <th>Age</th>\n",
              "      <th>SibSp</th>\n",
              "      <th>Parch</th>\n",
              "      <th>Ticket</th>\n",
              "      <th>Fare</th>\n",
              "      <th>Cabin</th>\n",
              "      <th>Embarked</th>\n",
              "    </tr>\n",
              "    <tr>\n",
              "      <th>PassengerId</th>\n",
              "      <th></th>\n",
              "      <th></th>\n",
              "      <th></th>\n",
              "      <th></th>\n",
              "      <th></th>\n",
              "      <th></th>\n",
              "      <th></th>\n",
              "      <th></th>\n",
              "      <th></th>\n",
              "      <th></th>\n",
              "      <th></th>\n",
              "    </tr>\n",
              "  </thead>\n",
              "  <tbody>\n",
              "    <tr>\n",
              "      <th>1</th>\n",
              "      <td>0</td>\n",
              "      <td>3</td>\n",
              "      <td>Braund, Mr. Owen Harris</td>\n",
              "      <td>male</td>\n",
              "      <td>22.0</td>\n",
              "      <td>1</td>\n",
              "      <td>0</td>\n",
              "      <td>A/5 21171</td>\n",
              "      <td>7.2500</td>\n",
              "      <td>NaN</td>\n",
              "      <td>S</td>\n",
              "    </tr>\n",
              "    <tr>\n",
              "      <th>2</th>\n",
              "      <td>1</td>\n",
              "      <td>1</td>\n",
              "      <td>Cumings, Mrs. John Bradley (Florence Briggs Th...</td>\n",
              "      <td>female</td>\n",
              "      <td>38.0</td>\n",
              "      <td>1</td>\n",
              "      <td>0</td>\n",
              "      <td>PC 17599</td>\n",
              "      <td>71.2833</td>\n",
              "      <td>C85</td>\n",
              "      <td>C</td>\n",
              "    </tr>\n",
              "    <tr>\n",
              "      <th>3</th>\n",
              "      <td>1</td>\n",
              "      <td>3</td>\n",
              "      <td>Heikkinen, Miss. Laina</td>\n",
              "      <td>female</td>\n",
              "      <td>26.0</td>\n",
              "      <td>0</td>\n",
              "      <td>0</td>\n",
              "      <td>STON/O2. 3101282</td>\n",
              "      <td>7.9250</td>\n",
              "      <td>NaN</td>\n",
              "      <td>S</td>\n",
              "    </tr>\n",
              "    <tr>\n",
              "      <th>4</th>\n",
              "      <td>1</td>\n",
              "      <td>1</td>\n",
              "      <td>Futrelle, Mrs. Jacques Heath (Lily May Peel)</td>\n",
              "      <td>female</td>\n",
              "      <td>35.0</td>\n",
              "      <td>1</td>\n",
              "      <td>0</td>\n",
              "      <td>113803</td>\n",
              "      <td>53.1000</td>\n",
              "      <td>C123</td>\n",
              "      <td>S</td>\n",
              "    </tr>\n",
              "    <tr>\n",
              "      <th>5</th>\n",
              "      <td>0</td>\n",
              "      <td>3</td>\n",
              "      <td>Allen, Mr. William Henry</td>\n",
              "      <td>male</td>\n",
              "      <td>35.0</td>\n",
              "      <td>0</td>\n",
              "      <td>0</td>\n",
              "      <td>373450</td>\n",
              "      <td>8.0500</td>\n",
              "      <td>NaN</td>\n",
              "      <td>S</td>\n",
              "    </tr>\n",
              "  </tbody>\n",
              "</table>\n",
              "</div>"
            ],
            "text/plain": [
              "             Survived  Pclass  ... Cabin Embarked\n",
              "PassengerId                    ...               \n",
              "1                   0       3  ...   NaN        S\n",
              "2                   1       1  ...   C85        C\n",
              "3                   1       3  ...   NaN        S\n",
              "4                   1       1  ...  C123        S\n",
              "5                   0       3  ...   NaN        S\n",
              "\n",
              "[5 rows x 11 columns]"
            ]
          },
          "metadata": {},
          "execution_count": 30
        }
      ]
    },
    {
      "cell_type": "code",
      "metadata": {
        "colab": {
          "base_uri": "https://localhost:8080/",
          "height": 235
        },
        "id": "nreQ-T8SUhil",
        "outputId": "86c6ba74-618f-4690-a6fa-a31e9f7f3070"
      },
      "source": [
        "titanic_test.head()"
      ],
      "execution_count": null,
      "outputs": [
        {
          "output_type": "execute_result",
          "data": {
            "text/html": [
              "<div>\n",
              "<style scoped>\n",
              "    .dataframe tbody tr th:only-of-type {\n",
              "        vertical-align: middle;\n",
              "    }\n",
              "\n",
              "    .dataframe tbody tr th {\n",
              "        vertical-align: top;\n",
              "    }\n",
              "\n",
              "    .dataframe thead th {\n",
              "        text-align: right;\n",
              "    }\n",
              "</style>\n",
              "<table border=\"1\" class=\"dataframe\">\n",
              "  <thead>\n",
              "    <tr style=\"text-align: right;\">\n",
              "      <th></th>\n",
              "      <th>Pclass</th>\n",
              "      <th>Name</th>\n",
              "      <th>Sex</th>\n",
              "      <th>Age</th>\n",
              "      <th>SibSp</th>\n",
              "      <th>Parch</th>\n",
              "      <th>Ticket</th>\n",
              "      <th>Fare</th>\n",
              "      <th>Cabin</th>\n",
              "      <th>Embarked</th>\n",
              "    </tr>\n",
              "    <tr>\n",
              "      <th>PassengerId</th>\n",
              "      <th></th>\n",
              "      <th></th>\n",
              "      <th></th>\n",
              "      <th></th>\n",
              "      <th></th>\n",
              "      <th></th>\n",
              "      <th></th>\n",
              "      <th></th>\n",
              "      <th></th>\n",
              "      <th></th>\n",
              "    </tr>\n",
              "  </thead>\n",
              "  <tbody>\n",
              "    <tr>\n",
              "      <th>892</th>\n",
              "      <td>3</td>\n",
              "      <td>Kelly, Mr. James</td>\n",
              "      <td>male</td>\n",
              "      <td>34.5</td>\n",
              "      <td>0</td>\n",
              "      <td>0</td>\n",
              "      <td>330911</td>\n",
              "      <td>7.8292</td>\n",
              "      <td>NaN</td>\n",
              "      <td>Q</td>\n",
              "    </tr>\n",
              "    <tr>\n",
              "      <th>893</th>\n",
              "      <td>3</td>\n",
              "      <td>Wilkes, Mrs. James (Ellen Needs)</td>\n",
              "      <td>female</td>\n",
              "      <td>47.0</td>\n",
              "      <td>1</td>\n",
              "      <td>0</td>\n",
              "      <td>363272</td>\n",
              "      <td>7.0000</td>\n",
              "      <td>NaN</td>\n",
              "      <td>S</td>\n",
              "    </tr>\n",
              "    <tr>\n",
              "      <th>894</th>\n",
              "      <td>2</td>\n",
              "      <td>Myles, Mr. Thomas Francis</td>\n",
              "      <td>male</td>\n",
              "      <td>62.0</td>\n",
              "      <td>0</td>\n",
              "      <td>0</td>\n",
              "      <td>240276</td>\n",
              "      <td>9.6875</td>\n",
              "      <td>NaN</td>\n",
              "      <td>Q</td>\n",
              "    </tr>\n",
              "    <tr>\n",
              "      <th>895</th>\n",
              "      <td>3</td>\n",
              "      <td>Wirz, Mr. Albert</td>\n",
              "      <td>male</td>\n",
              "      <td>27.0</td>\n",
              "      <td>0</td>\n",
              "      <td>0</td>\n",
              "      <td>315154</td>\n",
              "      <td>8.6625</td>\n",
              "      <td>NaN</td>\n",
              "      <td>S</td>\n",
              "    </tr>\n",
              "    <tr>\n",
              "      <th>896</th>\n",
              "      <td>3</td>\n",
              "      <td>Hirvonen, Mrs. Alexander (Helga E Lindqvist)</td>\n",
              "      <td>female</td>\n",
              "      <td>22.0</td>\n",
              "      <td>1</td>\n",
              "      <td>1</td>\n",
              "      <td>3101298</td>\n",
              "      <td>12.2875</td>\n",
              "      <td>NaN</td>\n",
              "      <td>S</td>\n",
              "    </tr>\n",
              "  </tbody>\n",
              "</table>\n",
              "</div>"
            ],
            "text/plain": [
              "             Pclass  ... Embarked\n",
              "PassengerId          ...         \n",
              "892               3  ...        Q\n",
              "893               3  ...        S\n",
              "894               2  ...        Q\n",
              "895               3  ...        S\n",
              "896               3  ...        S\n",
              "\n",
              "[5 rows x 10 columns]"
            ]
          },
          "metadata": {},
          "execution_count": 31
        }
      ]
    },
    {
      "cell_type": "code",
      "metadata": {
        "colab": {
          "base_uri": "https://localhost:8080/"
        },
        "id": "U3Lnpv4yUrjc",
        "outputId": "9b050cd6-ff9e-4208-8b99-dec536ccbc81"
      },
      "source": [
        "titanic_train.shape, titanic_test.shape"
      ],
      "execution_count": null,
      "outputs": [
        {
          "output_type": "execute_result",
          "data": {
            "text/plain": [
              "((891, 11), (418, 10))"
            ]
          },
          "metadata": {},
          "execution_count": 32
        }
      ]
    },
    {
      "cell_type": "markdown",
      "metadata": {
        "id": "_VWVcmN_A83X"
      },
      "source": [
        "### Lidiando con los valores faltantes\n",
        "\n",
        "Usando un simple conteo en el conjunto de entrenamiento, podemos verificar que falta algunos valores para `Embarked`, `Age` y sobre todo `Cabin`."
      ]
    },
    {
      "cell_type": "code",
      "metadata": {
        "id": "POhqbBMLA83Y",
        "colab": {
          "base_uri": "https://localhost:8080/"
        },
        "outputId": "53be7821-f88a-4b08-c74e-64d04b965895"
      },
      "source": [
        "titanic_train.count()"
      ],
      "execution_count": null,
      "outputs": [
        {
          "output_type": "execute_result",
          "data": {
            "text/plain": [
              "Survived    891\n",
              "Pclass      891\n",
              "Name        891\n",
              "Sex         891\n",
              "Age         714\n",
              "SibSp       891\n",
              "Parch       891\n",
              "Ticket      891\n",
              "Fare        891\n",
              "Cabin       204\n",
              "Embarked    889\n",
              "dtype: int64"
            ]
          },
          "metadata": {},
          "execution_count": 33
        }
      ]
    },
    {
      "cell_type": "markdown",
      "metadata": {
        "id": "QrE3yLURA83g"
      },
      "source": [
        "En el conjunto de prueba, vemos que falta también un dato en `Fare`:"
      ]
    },
    {
      "cell_type": "code",
      "metadata": {
        "id": "8tyAMcZOA83h",
        "colab": {
          "base_uri": "https://localhost:8080/"
        },
        "outputId": "490cc3fe-56fc-4703-9d15-fa2a253959bd"
      },
      "source": [
        "titanic_test.count()"
      ],
      "execution_count": null,
      "outputs": [
        {
          "output_type": "execute_result",
          "data": {
            "text/plain": [
              "Pclass      418\n",
              "Name        418\n",
              "Sex         418\n",
              "Age         332\n",
              "SibSp       418\n",
              "Parch       418\n",
              "Ticket      418\n",
              "Fare        417\n",
              "Cabin        91\n",
              "Embarked    418\n",
              "dtype: int64"
            ]
          },
          "metadata": {},
          "execution_count": 34
        }
      ]
    },
    {
      "cell_type": "markdown",
      "metadata": {
        "id": "SZR3gdqRA83m"
      },
      "source": [
        "Hay diversas maneras de lidiar con valores faltantes. En este ejercicio haremos las siguientes opciones:\n",
        "\n",
        "* `Embarked`: Sólo falta dos valores en el conjunto de entrenamiento. Imputaremos la moda (valor más frecuente)."
      ]
    },
    {
      "cell_type": "code",
      "metadata": {
        "id": "ECBh0NseA83o",
        "colab": {
          "base_uri": "https://localhost:8080/"
        },
        "outputId": "55af885c-58a2-4bb9-8c50-86b5ef09afdb"
      },
      "source": [
        "# Sólo hay dos valores faltantes NaN. La moda (valor más frecuente) es 'S'\n",
        "titanic_train['Embarked'].value_counts(dropna=False)"
      ],
      "execution_count": null,
      "outputs": [
        {
          "output_type": "execute_result",
          "data": {
            "text/plain": [
              "S      644\n",
              "C      168\n",
              "Q       77\n",
              "NaN      2\n",
              "Name: Embarked, dtype: int64"
            ]
          },
          "metadata": {},
          "execution_count": 35
        }
      ]
    },
    {
      "cell_type": "code",
      "metadata": {
        "id": "7MvjWxJfA83s",
        "colab": {
          "base_uri": "https://localhost:8080/"
        },
        "outputId": "78677ef7-0e45-4cf0-9080-e9bec3baf028"
      },
      "source": [
        "# Registramos el índice (PassengerId) de los dos casos, y luego mostramos ambos registros\n",
        "embarked_NaN = titanic_train[titanic_train['Embarked'].isnull()].index\n",
        "\n",
        "print('Los PassengerId en los que falta Embarked son: ', embarked_NaN.values)"
      ],
      "execution_count": null,
      "outputs": [
        {
          "output_type": "stream",
          "name": "stdout",
          "text": [
            "Los PassengerId en los que falta Embarked son:  [ 62 830]\n"
          ]
        }
      ]
    },
    {
      "cell_type": "code",
      "metadata": {
        "colab": {
          "base_uri": "https://localhost:8080/",
          "height": 142
        },
        "id": "NAgkITUsUyRN",
        "outputId": "6d906081-f122-45d3-c812-cb349138d11d"
      },
      "source": [
        "titanic_train.loc[embarked_NaN]"
      ],
      "execution_count": null,
      "outputs": [
        {
          "output_type": "execute_result",
          "data": {
            "text/html": [
              "<div>\n",
              "<style scoped>\n",
              "    .dataframe tbody tr th:only-of-type {\n",
              "        vertical-align: middle;\n",
              "    }\n",
              "\n",
              "    .dataframe tbody tr th {\n",
              "        vertical-align: top;\n",
              "    }\n",
              "\n",
              "    .dataframe thead th {\n",
              "        text-align: right;\n",
              "    }\n",
              "</style>\n",
              "<table border=\"1\" class=\"dataframe\">\n",
              "  <thead>\n",
              "    <tr style=\"text-align: right;\">\n",
              "      <th></th>\n",
              "      <th>Survived</th>\n",
              "      <th>Pclass</th>\n",
              "      <th>Name</th>\n",
              "      <th>Sex</th>\n",
              "      <th>Age</th>\n",
              "      <th>SibSp</th>\n",
              "      <th>Parch</th>\n",
              "      <th>Ticket</th>\n",
              "      <th>Fare</th>\n",
              "      <th>Cabin</th>\n",
              "      <th>Embarked</th>\n",
              "    </tr>\n",
              "    <tr>\n",
              "      <th>PassengerId</th>\n",
              "      <th></th>\n",
              "      <th></th>\n",
              "      <th></th>\n",
              "      <th></th>\n",
              "      <th></th>\n",
              "      <th></th>\n",
              "      <th></th>\n",
              "      <th></th>\n",
              "      <th></th>\n",
              "      <th></th>\n",
              "      <th></th>\n",
              "    </tr>\n",
              "  </thead>\n",
              "  <tbody>\n",
              "    <tr>\n",
              "      <th>62</th>\n",
              "      <td>1</td>\n",
              "      <td>1</td>\n",
              "      <td>Icard, Miss. Amelie</td>\n",
              "      <td>female</td>\n",
              "      <td>38.0</td>\n",
              "      <td>0</td>\n",
              "      <td>0</td>\n",
              "      <td>113572</td>\n",
              "      <td>80.0</td>\n",
              "      <td>B28</td>\n",
              "      <td>NaN</td>\n",
              "    </tr>\n",
              "    <tr>\n",
              "      <th>830</th>\n",
              "      <td>1</td>\n",
              "      <td>1</td>\n",
              "      <td>Stone, Mrs. George Nelson (Martha Evelyn)</td>\n",
              "      <td>female</td>\n",
              "      <td>62.0</td>\n",
              "      <td>0</td>\n",
              "      <td>0</td>\n",
              "      <td>113572</td>\n",
              "      <td>80.0</td>\n",
              "      <td>B28</td>\n",
              "      <td>NaN</td>\n",
              "    </tr>\n",
              "  </tbody>\n",
              "</table>\n",
              "</div>"
            ],
            "text/plain": [
              "             Survived  Pclass  ... Cabin Embarked\n",
              "PassengerId                    ...               \n",
              "62                  1       1  ...   B28      NaN\n",
              "830                 1       1  ...   B28      NaN\n",
              "\n",
              "[2 rows x 11 columns]"
            ]
          },
          "metadata": {},
          "execution_count": 37
        }
      ]
    },
    {
      "cell_type": "code",
      "metadata": {
        "id": "VU7IFRJjA83w",
        "colab": {
          "base_uri": "https://localhost:8080/"
        },
        "outputId": "625f7486-d64f-4be1-ade4-f94d7d9ddc05"
      },
      "source": [
        "# Calculamos la moda\n",
        "embarked_moda = titanic_train['Embarked'].mode()[0]\n",
        "\n",
        "print(\"La moda (valor más frecuente) de Embarked en el conjunto de entrenamiento es: \", embarked_moda)"
      ],
      "execution_count": null,
      "outputs": [
        {
          "output_type": "stream",
          "name": "stdout",
          "text": [
            "La moda (valor más frecuente) de Embarked en el conjunto de entrenamiento es:  S\n"
          ]
        }
      ]
    },
    {
      "cell_type": "code",
      "metadata": {
        "id": "VjHYLbVzA83z",
        "colab": {
          "base_uri": "https://localhost:8080/",
          "height": 142
        },
        "outputId": "a3740b25-de81-44d4-a919-0a9288998b1e"
      },
      "source": [
        "# Imputamos la moda en los valores faltantes\n",
        "titanic_train.loc[embarked_NaN, 'Embarked'] = embarked_moda\n",
        "\n",
        "titanic_train.loc[embarked_NaN]"
      ],
      "execution_count": null,
      "outputs": [
        {
          "output_type": "execute_result",
          "data": {
            "text/html": [
              "<div>\n",
              "<style scoped>\n",
              "    .dataframe tbody tr th:only-of-type {\n",
              "        vertical-align: middle;\n",
              "    }\n",
              "\n",
              "    .dataframe tbody tr th {\n",
              "        vertical-align: top;\n",
              "    }\n",
              "\n",
              "    .dataframe thead th {\n",
              "        text-align: right;\n",
              "    }\n",
              "</style>\n",
              "<table border=\"1\" class=\"dataframe\">\n",
              "  <thead>\n",
              "    <tr style=\"text-align: right;\">\n",
              "      <th></th>\n",
              "      <th>Survived</th>\n",
              "      <th>Pclass</th>\n",
              "      <th>Name</th>\n",
              "      <th>Sex</th>\n",
              "      <th>Age</th>\n",
              "      <th>SibSp</th>\n",
              "      <th>Parch</th>\n",
              "      <th>Ticket</th>\n",
              "      <th>Fare</th>\n",
              "      <th>Cabin</th>\n",
              "      <th>Embarked</th>\n",
              "    </tr>\n",
              "    <tr>\n",
              "      <th>PassengerId</th>\n",
              "      <th></th>\n",
              "      <th></th>\n",
              "      <th></th>\n",
              "      <th></th>\n",
              "      <th></th>\n",
              "      <th></th>\n",
              "      <th></th>\n",
              "      <th></th>\n",
              "      <th></th>\n",
              "      <th></th>\n",
              "      <th></th>\n",
              "    </tr>\n",
              "  </thead>\n",
              "  <tbody>\n",
              "    <tr>\n",
              "      <th>62</th>\n",
              "      <td>1</td>\n",
              "      <td>1</td>\n",
              "      <td>Icard, Miss. Amelie</td>\n",
              "      <td>female</td>\n",
              "      <td>38.0</td>\n",
              "      <td>0</td>\n",
              "      <td>0</td>\n",
              "      <td>113572</td>\n",
              "      <td>80.0</td>\n",
              "      <td>B28</td>\n",
              "      <td>S</td>\n",
              "    </tr>\n",
              "    <tr>\n",
              "      <th>830</th>\n",
              "      <td>1</td>\n",
              "      <td>1</td>\n",
              "      <td>Stone, Mrs. George Nelson (Martha Evelyn)</td>\n",
              "      <td>female</td>\n",
              "      <td>62.0</td>\n",
              "      <td>0</td>\n",
              "      <td>0</td>\n",
              "      <td>113572</td>\n",
              "      <td>80.0</td>\n",
              "      <td>B28</td>\n",
              "      <td>S</td>\n",
              "    </tr>\n",
              "  </tbody>\n",
              "</table>\n",
              "</div>"
            ],
            "text/plain": [
              "             Survived  Pclass  ... Cabin Embarked\n",
              "PassengerId                    ...               \n",
              "62                  1       1  ...   B28        S\n",
              "830                 1       1  ...   B28        S\n",
              "\n",
              "[2 rows x 11 columns]"
            ]
          },
          "metadata": {},
          "execution_count": 39
        }
      ]
    },
    {
      "cell_type": "markdown",
      "metadata": {
        "collapsed": true,
        "id": "o8LcOteGA834"
      },
      "source": [
        "* `Age`: Incluiremos un campo booleano de `EdadDesconocida` y adicionalmente completaremos el valor con la mediana."
      ]
    },
    {
      "cell_type": "code",
      "metadata": {
        "id": "Y07GQ0_9U_Fw"
      },
      "source": [
        "# Creamos una columna para caracterizar los casos con edad desconocida\n",
        "titanic_train['EdadDesconocida'] = titanic_train['Age'].isnull()\n",
        "titanic_test['EdadDesconocida'] = titanic_test['Age'].isnull()"
      ],
      "execution_count": null,
      "outputs": []
    },
    {
      "cell_type": "code",
      "metadata": {
        "colab": {
          "base_uri": "https://localhost:8080/"
        },
        "id": "N1n-XTSbVA9H",
        "outputId": "42695ca3-7885-47a3-831b-7122a68f8771"
      },
      "source": [
        "# Calculamos la mediana de Age y la imputamos en los valores faltantes de ambos conjuntos\n",
        "age_mediana = titanic_train['Age'].median()\n",
        "\n",
        "print(\"La mediana del campo Age en el conjunto de entrenamiento es: \", age_mediana)"
      ],
      "execution_count": null,
      "outputs": [
        {
          "output_type": "stream",
          "name": "stdout",
          "text": [
            "La mediana del campo Age en el conjunto de entrenamiento es:  28.0\n"
          ]
        }
      ]
    },
    {
      "cell_type": "code",
      "metadata": {
        "id": "XjcyLEGfA835"
      },
      "source": [
        "# Mostramos cómo hacerlo con DataFrame.fillna()\n",
        "titanic_train['Age'].fillna(age_mediana, inplace=True)\n",
        "titanic_test['Age'].fillna(age_mediana, inplace=True)"
      ],
      "execution_count": null,
      "outputs": []
    },
    {
      "cell_type": "markdown",
      "metadata": {
        "id": "cOwVHjplA83_"
      },
      "source": [
        "* `Fare`: Un solo caso, en el conjunto de prueba. Imputaremos la mediana del conjunto de entrenamiento."
      ]
    },
    {
      "cell_type": "code",
      "metadata": {
        "id": "aeJXgVX_A83_",
        "colab": {
          "base_uri": "https://localhost:8080/"
        },
        "outputId": "04a67ce2-dbd1-4ad5-af91-fd23b0d66114"
      },
      "source": [
        "fare_mediana = titanic_train['Fare'].median()\n",
        "\n",
        "print(\"La mediana del campo Fare en el conjunto de entrenamiento es: \", fare_mediana)"
      ],
      "execution_count": null,
      "outputs": [
        {
          "output_type": "stream",
          "name": "stdout",
          "text": [
            "La mediana del campo Fare en el conjunto de entrenamiento es:  14.4542\n"
          ]
        }
      ]
    },
    {
      "cell_type": "code",
      "metadata": {
        "id": "TUsgpo2kVGkz"
      },
      "source": [
        "titanic_test['Fare'].fillna(fare_mediana, inplace=True)"
      ],
      "execution_count": null,
      "outputs": []
    },
    {
      "cell_type": "markdown",
      "metadata": {
        "id": "66Ztpe4KA84C"
      },
      "source": [
        "* `Cabin`: No usaremos la clase `Cabin`, severamente incompleta."
      ]
    },
    {
      "cell_type": "code",
      "metadata": {
        "id": "Okd7TNVFA84E"
      },
      "source": [
        "titanic_train.drop(['Cabin'], axis=1, inplace=True)\n",
        "titanic_test.drop(['Cabin'], axis=1, inplace=True)"
      ],
      "execution_count": null,
      "outputs": []
    },
    {
      "cell_type": "markdown",
      "metadata": {
        "id": "hegXQ7dQA84H"
      },
      "source": [
        "### Selección de características\n",
        "\n",
        "Ya hemos retirado la columna `Cabin`, severamente incompleta. Retiraremos también `Name` y `Ticket`, por ser campos irrelevantes para efectos de la predicción."
      ]
    },
    {
      "cell_type": "code",
      "metadata": {
        "id": "KMkYpaTnA84H"
      },
      "source": [
        "titanic_train.drop(['Name','Ticket'], axis=1, inplace=True)\n",
        "titanic_test.drop(['Name','Ticket'], axis=1, inplace=True)"
      ],
      "execution_count": null,
      "outputs": []
    },
    {
      "cell_type": "markdown",
      "metadata": {
        "id": "mMFZoes9A84K"
      },
      "source": [
        "Podemos añadir otras meta-características. Por ejemplo, podríamos crear una columna `ViajaSolo` cuando no el pasajero no viajó  con ningún familiar: 0 `SibSp` (viaja con hermanos o cónyuge) y 0 `Parch` (viaja con padres o hijos)."
      ]
    },
    {
      "cell_type": "code",
      "metadata": {
        "id": "32JnFL6YA84L"
      },
      "source": [
        "titanic_train['ViajaSolo'] = ((titanic_train['SibSp'] + titanic_train['Parch']) == 0)\n",
        "titanic_test['ViajaSolo'] = ((titanic_test['SibSp'] + titanic_test['Parch']) == 0)"
      ],
      "execution_count": null,
      "outputs": []
    },
    {
      "cell_type": "code",
      "metadata": {
        "colab": {
          "base_uri": "https://localhost:8080/",
          "height": 235
        },
        "id": "wKUEUE0JVLWt",
        "outputId": "b7063d03-8fcf-4e7b-bb67-95aaa6c10f67"
      },
      "source": [
        "titanic_train.head()"
      ],
      "execution_count": null,
      "outputs": [
        {
          "output_type": "execute_result",
          "data": {
            "text/html": [
              "<div>\n",
              "<style scoped>\n",
              "    .dataframe tbody tr th:only-of-type {\n",
              "        vertical-align: middle;\n",
              "    }\n",
              "\n",
              "    .dataframe tbody tr th {\n",
              "        vertical-align: top;\n",
              "    }\n",
              "\n",
              "    .dataframe thead th {\n",
              "        text-align: right;\n",
              "    }\n",
              "</style>\n",
              "<table border=\"1\" class=\"dataframe\">\n",
              "  <thead>\n",
              "    <tr style=\"text-align: right;\">\n",
              "      <th></th>\n",
              "      <th>Survived</th>\n",
              "      <th>Pclass</th>\n",
              "      <th>Sex</th>\n",
              "      <th>Age</th>\n",
              "      <th>SibSp</th>\n",
              "      <th>Parch</th>\n",
              "      <th>Fare</th>\n",
              "      <th>Embarked</th>\n",
              "      <th>EdadDesconocida</th>\n",
              "      <th>ViajaSolo</th>\n",
              "    </tr>\n",
              "    <tr>\n",
              "      <th>PassengerId</th>\n",
              "      <th></th>\n",
              "      <th></th>\n",
              "      <th></th>\n",
              "      <th></th>\n",
              "      <th></th>\n",
              "      <th></th>\n",
              "      <th></th>\n",
              "      <th></th>\n",
              "      <th></th>\n",
              "      <th></th>\n",
              "    </tr>\n",
              "  </thead>\n",
              "  <tbody>\n",
              "    <tr>\n",
              "      <th>1</th>\n",
              "      <td>0</td>\n",
              "      <td>3</td>\n",
              "      <td>male</td>\n",
              "      <td>22.0</td>\n",
              "      <td>1</td>\n",
              "      <td>0</td>\n",
              "      <td>7.2500</td>\n",
              "      <td>S</td>\n",
              "      <td>False</td>\n",
              "      <td>False</td>\n",
              "    </tr>\n",
              "    <tr>\n",
              "      <th>2</th>\n",
              "      <td>1</td>\n",
              "      <td>1</td>\n",
              "      <td>female</td>\n",
              "      <td>38.0</td>\n",
              "      <td>1</td>\n",
              "      <td>0</td>\n",
              "      <td>71.2833</td>\n",
              "      <td>C</td>\n",
              "      <td>False</td>\n",
              "      <td>False</td>\n",
              "    </tr>\n",
              "    <tr>\n",
              "      <th>3</th>\n",
              "      <td>1</td>\n",
              "      <td>3</td>\n",
              "      <td>female</td>\n",
              "      <td>26.0</td>\n",
              "      <td>0</td>\n",
              "      <td>0</td>\n",
              "      <td>7.9250</td>\n",
              "      <td>S</td>\n",
              "      <td>False</td>\n",
              "      <td>True</td>\n",
              "    </tr>\n",
              "    <tr>\n",
              "      <th>4</th>\n",
              "      <td>1</td>\n",
              "      <td>1</td>\n",
              "      <td>female</td>\n",
              "      <td>35.0</td>\n",
              "      <td>1</td>\n",
              "      <td>0</td>\n",
              "      <td>53.1000</td>\n",
              "      <td>S</td>\n",
              "      <td>False</td>\n",
              "      <td>False</td>\n",
              "    </tr>\n",
              "    <tr>\n",
              "      <th>5</th>\n",
              "      <td>0</td>\n",
              "      <td>3</td>\n",
              "      <td>male</td>\n",
              "      <td>35.0</td>\n",
              "      <td>0</td>\n",
              "      <td>0</td>\n",
              "      <td>8.0500</td>\n",
              "      <td>S</td>\n",
              "      <td>False</td>\n",
              "      <td>True</td>\n",
              "    </tr>\n",
              "  </tbody>\n",
              "</table>\n",
              "</div>"
            ],
            "text/plain": [
              "             Survived  Pclass     Sex  ...  Embarked  EdadDesconocida  ViajaSolo\n",
              "PassengerId                            ...                                      \n",
              "1                   0       3    male  ...         S            False      False\n",
              "2                   1       1  female  ...         C            False      False\n",
              "3                   1       3  female  ...         S            False       True\n",
              "4                   1       1  female  ...         S            False      False\n",
              "5                   0       3    male  ...         S            False       True\n",
              "\n",
              "[5 rows x 10 columns]"
            ]
          },
          "metadata": {},
          "execution_count": 48
        }
      ]
    },
    {
      "cell_type": "code",
      "metadata": {
        "id": "I2rbukEpA84O",
        "colab": {
          "base_uri": "https://localhost:8080/",
          "height": 235
        },
        "outputId": "35c8344f-b539-4826-d821-794b38872744"
      },
      "source": [
        "titanic_test.head()"
      ],
      "execution_count": null,
      "outputs": [
        {
          "output_type": "execute_result",
          "data": {
            "text/html": [
              "<div>\n",
              "<style scoped>\n",
              "    .dataframe tbody tr th:only-of-type {\n",
              "        vertical-align: middle;\n",
              "    }\n",
              "\n",
              "    .dataframe tbody tr th {\n",
              "        vertical-align: top;\n",
              "    }\n",
              "\n",
              "    .dataframe thead th {\n",
              "        text-align: right;\n",
              "    }\n",
              "</style>\n",
              "<table border=\"1\" class=\"dataframe\">\n",
              "  <thead>\n",
              "    <tr style=\"text-align: right;\">\n",
              "      <th></th>\n",
              "      <th>Pclass</th>\n",
              "      <th>Sex</th>\n",
              "      <th>Age</th>\n",
              "      <th>SibSp</th>\n",
              "      <th>Parch</th>\n",
              "      <th>Fare</th>\n",
              "      <th>Embarked</th>\n",
              "      <th>EdadDesconocida</th>\n",
              "      <th>ViajaSolo</th>\n",
              "    </tr>\n",
              "    <tr>\n",
              "      <th>PassengerId</th>\n",
              "      <th></th>\n",
              "      <th></th>\n",
              "      <th></th>\n",
              "      <th></th>\n",
              "      <th></th>\n",
              "      <th></th>\n",
              "      <th></th>\n",
              "      <th></th>\n",
              "      <th></th>\n",
              "    </tr>\n",
              "  </thead>\n",
              "  <tbody>\n",
              "    <tr>\n",
              "      <th>892</th>\n",
              "      <td>3</td>\n",
              "      <td>male</td>\n",
              "      <td>34.5</td>\n",
              "      <td>0</td>\n",
              "      <td>0</td>\n",
              "      <td>7.8292</td>\n",
              "      <td>Q</td>\n",
              "      <td>False</td>\n",
              "      <td>True</td>\n",
              "    </tr>\n",
              "    <tr>\n",
              "      <th>893</th>\n",
              "      <td>3</td>\n",
              "      <td>female</td>\n",
              "      <td>47.0</td>\n",
              "      <td>1</td>\n",
              "      <td>0</td>\n",
              "      <td>7.0000</td>\n",
              "      <td>S</td>\n",
              "      <td>False</td>\n",
              "      <td>False</td>\n",
              "    </tr>\n",
              "    <tr>\n",
              "      <th>894</th>\n",
              "      <td>2</td>\n",
              "      <td>male</td>\n",
              "      <td>62.0</td>\n",
              "      <td>0</td>\n",
              "      <td>0</td>\n",
              "      <td>9.6875</td>\n",
              "      <td>Q</td>\n",
              "      <td>False</td>\n",
              "      <td>True</td>\n",
              "    </tr>\n",
              "    <tr>\n",
              "      <th>895</th>\n",
              "      <td>3</td>\n",
              "      <td>male</td>\n",
              "      <td>27.0</td>\n",
              "      <td>0</td>\n",
              "      <td>0</td>\n",
              "      <td>8.6625</td>\n",
              "      <td>S</td>\n",
              "      <td>False</td>\n",
              "      <td>True</td>\n",
              "    </tr>\n",
              "    <tr>\n",
              "      <th>896</th>\n",
              "      <td>3</td>\n",
              "      <td>female</td>\n",
              "      <td>22.0</td>\n",
              "      <td>1</td>\n",
              "      <td>1</td>\n",
              "      <td>12.2875</td>\n",
              "      <td>S</td>\n",
              "      <td>False</td>\n",
              "      <td>False</td>\n",
              "    </tr>\n",
              "  </tbody>\n",
              "</table>\n",
              "</div>"
            ],
            "text/plain": [
              "             Pclass     Sex   Age  ...  Embarked  EdadDesconocida  ViajaSolo\n",
              "PassengerId                        ...                                      \n",
              "892               3    male  34.5  ...         Q            False       True\n",
              "893               3  female  47.0  ...         S            False      False\n",
              "894               2    male  62.0  ...         Q            False       True\n",
              "895               3    male  27.0  ...         S            False       True\n",
              "896               3  female  22.0  ...         S            False      False\n",
              "\n",
              "[5 rows x 9 columns]"
            ]
          },
          "metadata": {},
          "execution_count": 49
        }
      ]
    },
    {
      "cell_type": "markdown",
      "metadata": {
        "id": "sZRizcFeA84R"
      },
      "source": [
        "Añade las columnas `MenorDeEdad` y `AdultoMayor`. Considera como menor de edad a todos aquellos menores de 18.0 años. Considera Adulto Mayor a los mayores de 55.0 años. Hazlo tanto en el conjunto de entrenamiento como en el de pruebas."
      ]
    },
    {
      "cell_type": "code",
      "metadata": {
        "id": "TI_5APpCA84R"
      },
      "source": [
        "titanic_train['MenorDeEdad'] = (titanic_train['Age'] < 18.0)\n",
        "titanic_test['MenorDeEdad'] = (titanic_test['Age'] < 18.0)\n",
        "\n",
        "titanic_train['AdultoMayor'] = (titanic_train['Age'] > 55.0)\n",
        "titanic_test['AdultoMayor'] = (titanic_test['Age'] > 55.0)"
      ],
      "execution_count": null,
      "outputs": []
    },
    {
      "cell_type": "markdown",
      "metadata": {
        "id": "FuGTJUX3A84V"
      },
      "source": [
        "**Pregunta 3:** ¿Cuántos menores de edad hay en el conjunto de entrenamiento?"
      ]
    },
    {
      "cell_type": "code",
      "metadata": {
        "id": "kG3_VXhBd7G5"
      },
      "source": [],
      "execution_count": null,
      "outputs": []
    },
    {
      "cell_type": "markdown",
      "metadata": {
        "id": "Zq0rDPBPVoE-"
      },
      "source": [
        "**Pregunta 3:** ..."
      ]
    },
    {
      "cell_type": "markdown",
      "metadata": {
        "id": "rsxqMy3pA84e"
      },
      "source": [
        "**Pregunta 4:** ¿Cuántos adultos mayores hay en el conjunto de pruebas?"
      ]
    },
    {
      "cell_type": "code",
      "metadata": {
        "id": "OgQPGS9hd9c7"
      },
      "source": [],
      "execution_count": null,
      "outputs": []
    },
    {
      "cell_type": "markdown",
      "metadata": {
        "id": "-6x5xeWrVr0O"
      },
      "source": [
        "**Pregunta 4:** ..."
      ]
    },
    {
      "cell_type": "markdown",
      "metadata": {
        "id": "R_oSzPrsA84f"
      },
      "source": [
        "### Codificación de variables categóricas\n",
        "\n",
        "Tenemos también tres variables categóricas (`Sex`, `Pclass` y `Embarked`). Las convertiremos en datos numéricos para que facilitar su entrenamiento por cualquier modelo.\n",
        "\n",
        "* `Sex`: la podemos reemplazar por un valor binario `EsMujer` (0 = hombre; 1 = mujer)."
      ]
    },
    {
      "cell_type": "code",
      "metadata": {
        "id": "Ox7iH8gFA84g"
      },
      "source": [
        "titanic_train['EsMujer'] = (titanic_train['Sex'] == 'female')\n",
        "titanic_test['EsMujer'] = (titanic_test['Sex'] == 'female')\n",
        "\n",
        "titanic_train.drop(['Sex'], axis=1, inplace=True)\n",
        "titanic_test.drop(['Sex'], axis=1, inplace=True)"
      ],
      "execution_count": null,
      "outputs": []
    },
    {
      "cell_type": "markdown",
      "metadata": {
        "id": "Y2jJeqK8A84j"
      },
      "source": [
        "* `Pclass` y `Embarked`: Usaremos *one-hot encoding* con la función `DataFrame.get_dummies` de `pandas`.\n",
        "\n",
        "  `Pclass` es la clase en la que viajó el pasajero (1 = primera clase; 2 = segunda clase; 3 = tercera clase).\n",
        "\n",
        "  `Embarked` es el puerto de embarque (C = Cherbourg; Q = Queenstown; S = Southampton).\n",
        "\n",
        "  Observa que `Pclass` es categórica no obstante haya sido representada con una codificación numérica."
      ]
    },
    {
      "cell_type": "code",
      "metadata": {
        "id": "HYeeFYPoA84m"
      },
      "source": [
        "cols_categoricas = ['Pclass','Embarked']\n",
        "\n",
        "titanic_train = pd.get_dummies(titanic_train, columns=cols_categoricas)\n",
        "titanic_test = pd.get_dummies(titanic_test, columns=cols_categoricas)"
      ],
      "execution_count": null,
      "outputs": []
    },
    {
      "cell_type": "code",
      "metadata": {
        "colab": {
          "base_uri": "https://localhost:8080/",
          "height": 235
        },
        "id": "bKnRUBoIV0Fj",
        "outputId": "837d957c-fccd-472c-cb65-f1abd09b4054"
      },
      "source": [
        "titanic_train.head()"
      ],
      "execution_count": null,
      "outputs": [
        {
          "output_type": "execute_result",
          "data": {
            "text/html": [
              "<div>\n",
              "<style scoped>\n",
              "    .dataframe tbody tr th:only-of-type {\n",
              "        vertical-align: middle;\n",
              "    }\n",
              "\n",
              "    .dataframe tbody tr th {\n",
              "        vertical-align: top;\n",
              "    }\n",
              "\n",
              "    .dataframe thead th {\n",
              "        text-align: right;\n",
              "    }\n",
              "</style>\n",
              "<table border=\"1\" class=\"dataframe\">\n",
              "  <thead>\n",
              "    <tr style=\"text-align: right;\">\n",
              "      <th></th>\n",
              "      <th>Survived</th>\n",
              "      <th>Age</th>\n",
              "      <th>SibSp</th>\n",
              "      <th>Parch</th>\n",
              "      <th>Fare</th>\n",
              "      <th>EdadDesconocida</th>\n",
              "      <th>ViajaSolo</th>\n",
              "      <th>MenorDeEdad</th>\n",
              "      <th>AdultoMayor</th>\n",
              "      <th>EsMujer</th>\n",
              "      <th>Pclass_1</th>\n",
              "      <th>Pclass_2</th>\n",
              "      <th>Pclass_3</th>\n",
              "      <th>Embarked_C</th>\n",
              "      <th>Embarked_Q</th>\n",
              "      <th>Embarked_S</th>\n",
              "    </tr>\n",
              "    <tr>\n",
              "      <th>PassengerId</th>\n",
              "      <th></th>\n",
              "      <th></th>\n",
              "      <th></th>\n",
              "      <th></th>\n",
              "      <th></th>\n",
              "      <th></th>\n",
              "      <th></th>\n",
              "      <th></th>\n",
              "      <th></th>\n",
              "      <th></th>\n",
              "      <th></th>\n",
              "      <th></th>\n",
              "      <th></th>\n",
              "      <th></th>\n",
              "      <th></th>\n",
              "      <th></th>\n",
              "    </tr>\n",
              "  </thead>\n",
              "  <tbody>\n",
              "    <tr>\n",
              "      <th>1</th>\n",
              "      <td>0</td>\n",
              "      <td>22.0</td>\n",
              "      <td>1</td>\n",
              "      <td>0</td>\n",
              "      <td>7.2500</td>\n",
              "      <td>False</td>\n",
              "      <td>False</td>\n",
              "      <td>False</td>\n",
              "      <td>False</td>\n",
              "      <td>False</td>\n",
              "      <td>0</td>\n",
              "      <td>0</td>\n",
              "      <td>1</td>\n",
              "      <td>0</td>\n",
              "      <td>0</td>\n",
              "      <td>1</td>\n",
              "    </tr>\n",
              "    <tr>\n",
              "      <th>2</th>\n",
              "      <td>1</td>\n",
              "      <td>38.0</td>\n",
              "      <td>1</td>\n",
              "      <td>0</td>\n",
              "      <td>71.2833</td>\n",
              "      <td>False</td>\n",
              "      <td>False</td>\n",
              "      <td>False</td>\n",
              "      <td>False</td>\n",
              "      <td>True</td>\n",
              "      <td>1</td>\n",
              "      <td>0</td>\n",
              "      <td>0</td>\n",
              "      <td>1</td>\n",
              "      <td>0</td>\n",
              "      <td>0</td>\n",
              "    </tr>\n",
              "    <tr>\n",
              "      <th>3</th>\n",
              "      <td>1</td>\n",
              "      <td>26.0</td>\n",
              "      <td>0</td>\n",
              "      <td>0</td>\n",
              "      <td>7.9250</td>\n",
              "      <td>False</td>\n",
              "      <td>True</td>\n",
              "      <td>False</td>\n",
              "      <td>False</td>\n",
              "      <td>True</td>\n",
              "      <td>0</td>\n",
              "      <td>0</td>\n",
              "      <td>1</td>\n",
              "      <td>0</td>\n",
              "      <td>0</td>\n",
              "      <td>1</td>\n",
              "    </tr>\n",
              "    <tr>\n",
              "      <th>4</th>\n",
              "      <td>1</td>\n",
              "      <td>35.0</td>\n",
              "      <td>1</td>\n",
              "      <td>0</td>\n",
              "      <td>53.1000</td>\n",
              "      <td>False</td>\n",
              "      <td>False</td>\n",
              "      <td>False</td>\n",
              "      <td>False</td>\n",
              "      <td>True</td>\n",
              "      <td>1</td>\n",
              "      <td>0</td>\n",
              "      <td>0</td>\n",
              "      <td>0</td>\n",
              "      <td>0</td>\n",
              "      <td>1</td>\n",
              "    </tr>\n",
              "    <tr>\n",
              "      <th>5</th>\n",
              "      <td>0</td>\n",
              "      <td>35.0</td>\n",
              "      <td>0</td>\n",
              "      <td>0</td>\n",
              "      <td>8.0500</td>\n",
              "      <td>False</td>\n",
              "      <td>True</td>\n",
              "      <td>False</td>\n",
              "      <td>False</td>\n",
              "      <td>False</td>\n",
              "      <td>0</td>\n",
              "      <td>0</td>\n",
              "      <td>1</td>\n",
              "      <td>0</td>\n",
              "      <td>0</td>\n",
              "      <td>1</td>\n",
              "    </tr>\n",
              "  </tbody>\n",
              "</table>\n",
              "</div>"
            ],
            "text/plain": [
              "             Survived   Age  SibSp  ...  Embarked_C  Embarked_Q  Embarked_S\n",
              "PassengerId                         ...                                    \n",
              "1                   0  22.0      1  ...           0           0           1\n",
              "2                   1  38.0      1  ...           1           0           0\n",
              "3                   1  26.0      0  ...           0           0           1\n",
              "4                   1  35.0      1  ...           0           0           1\n",
              "5                   0  35.0      0  ...           0           0           1\n",
              "\n",
              "[5 rows x 16 columns]"
            ]
          },
          "metadata": {},
          "execution_count": 53
        }
      ]
    },
    {
      "cell_type": "code",
      "metadata": {
        "id": "ndIYcm2sA84r",
        "colab": {
          "base_uri": "https://localhost:8080/",
          "height": 235
        },
        "outputId": "e62f869e-6b27-46e8-c9b0-02a612573cd3"
      },
      "source": [
        "titanic_test.head()"
      ],
      "execution_count": null,
      "outputs": [
        {
          "output_type": "execute_result",
          "data": {
            "text/html": [
              "<div>\n",
              "<style scoped>\n",
              "    .dataframe tbody tr th:only-of-type {\n",
              "        vertical-align: middle;\n",
              "    }\n",
              "\n",
              "    .dataframe tbody tr th {\n",
              "        vertical-align: top;\n",
              "    }\n",
              "\n",
              "    .dataframe thead th {\n",
              "        text-align: right;\n",
              "    }\n",
              "</style>\n",
              "<table border=\"1\" class=\"dataframe\">\n",
              "  <thead>\n",
              "    <tr style=\"text-align: right;\">\n",
              "      <th></th>\n",
              "      <th>Age</th>\n",
              "      <th>SibSp</th>\n",
              "      <th>Parch</th>\n",
              "      <th>Fare</th>\n",
              "      <th>EdadDesconocida</th>\n",
              "      <th>ViajaSolo</th>\n",
              "      <th>MenorDeEdad</th>\n",
              "      <th>AdultoMayor</th>\n",
              "      <th>EsMujer</th>\n",
              "      <th>Pclass_1</th>\n",
              "      <th>Pclass_2</th>\n",
              "      <th>Pclass_3</th>\n",
              "      <th>Embarked_C</th>\n",
              "      <th>Embarked_Q</th>\n",
              "      <th>Embarked_S</th>\n",
              "    </tr>\n",
              "    <tr>\n",
              "      <th>PassengerId</th>\n",
              "      <th></th>\n",
              "      <th></th>\n",
              "      <th></th>\n",
              "      <th></th>\n",
              "      <th></th>\n",
              "      <th></th>\n",
              "      <th></th>\n",
              "      <th></th>\n",
              "      <th></th>\n",
              "      <th></th>\n",
              "      <th></th>\n",
              "      <th></th>\n",
              "      <th></th>\n",
              "      <th></th>\n",
              "      <th></th>\n",
              "    </tr>\n",
              "  </thead>\n",
              "  <tbody>\n",
              "    <tr>\n",
              "      <th>892</th>\n",
              "      <td>34.5</td>\n",
              "      <td>0</td>\n",
              "      <td>0</td>\n",
              "      <td>7.8292</td>\n",
              "      <td>False</td>\n",
              "      <td>True</td>\n",
              "      <td>False</td>\n",
              "      <td>False</td>\n",
              "      <td>False</td>\n",
              "      <td>0</td>\n",
              "      <td>0</td>\n",
              "      <td>1</td>\n",
              "      <td>0</td>\n",
              "      <td>1</td>\n",
              "      <td>0</td>\n",
              "    </tr>\n",
              "    <tr>\n",
              "      <th>893</th>\n",
              "      <td>47.0</td>\n",
              "      <td>1</td>\n",
              "      <td>0</td>\n",
              "      <td>7.0000</td>\n",
              "      <td>False</td>\n",
              "      <td>False</td>\n",
              "      <td>False</td>\n",
              "      <td>False</td>\n",
              "      <td>True</td>\n",
              "      <td>0</td>\n",
              "      <td>0</td>\n",
              "      <td>1</td>\n",
              "      <td>0</td>\n",
              "      <td>0</td>\n",
              "      <td>1</td>\n",
              "    </tr>\n",
              "    <tr>\n",
              "      <th>894</th>\n",
              "      <td>62.0</td>\n",
              "      <td>0</td>\n",
              "      <td>0</td>\n",
              "      <td>9.6875</td>\n",
              "      <td>False</td>\n",
              "      <td>True</td>\n",
              "      <td>False</td>\n",
              "      <td>True</td>\n",
              "      <td>False</td>\n",
              "      <td>0</td>\n",
              "      <td>1</td>\n",
              "      <td>0</td>\n",
              "      <td>0</td>\n",
              "      <td>1</td>\n",
              "      <td>0</td>\n",
              "    </tr>\n",
              "    <tr>\n",
              "      <th>895</th>\n",
              "      <td>27.0</td>\n",
              "      <td>0</td>\n",
              "      <td>0</td>\n",
              "      <td>8.6625</td>\n",
              "      <td>False</td>\n",
              "      <td>True</td>\n",
              "      <td>False</td>\n",
              "      <td>False</td>\n",
              "      <td>False</td>\n",
              "      <td>0</td>\n",
              "      <td>0</td>\n",
              "      <td>1</td>\n",
              "      <td>0</td>\n",
              "      <td>0</td>\n",
              "      <td>1</td>\n",
              "    </tr>\n",
              "    <tr>\n",
              "      <th>896</th>\n",
              "      <td>22.0</td>\n",
              "      <td>1</td>\n",
              "      <td>1</td>\n",
              "      <td>12.2875</td>\n",
              "      <td>False</td>\n",
              "      <td>False</td>\n",
              "      <td>False</td>\n",
              "      <td>False</td>\n",
              "      <td>True</td>\n",
              "      <td>0</td>\n",
              "      <td>0</td>\n",
              "      <td>1</td>\n",
              "      <td>0</td>\n",
              "      <td>0</td>\n",
              "      <td>1</td>\n",
              "    </tr>\n",
              "  </tbody>\n",
              "</table>\n",
              "</div>"
            ],
            "text/plain": [
              "              Age  SibSp  Parch  ...  Embarked_C  Embarked_Q  Embarked_S\n",
              "PassengerId                      ...                                    \n",
              "892          34.5      0      0  ...           0           1           0\n",
              "893          47.0      1      0  ...           0           0           1\n",
              "894          62.0      0      0  ...           0           1           0\n",
              "895          27.0      0      0  ...           0           0           1\n",
              "896          22.0      1      1  ...           0           0           1\n",
              "\n",
              "[5 rows x 15 columns]"
            ]
          },
          "metadata": {},
          "execution_count": 54
        }
      ]
    },
    {
      "cell_type": "markdown",
      "metadata": {
        "id": "s7A_jdE4A85D"
      },
      "source": [
        "## Separación de conjunto para validación"
      ]
    },
    {
      "cell_type": "code",
      "metadata": {
        "id": "onl3JF3PV4mK"
      },
      "source": [
        "X_train_val = titanic_train.drop('Survived', axis=1)\n",
        "y_train_val = titanic_train['Survived']"
      ],
      "execution_count": null,
      "outputs": []
    },
    {
      "cell_type": "code",
      "metadata": {
        "id": "Lrs1FKfbA85D"
      },
      "source": [
        "from sklearn.model_selection import train_test_split\n",
        "\n",
        "X_train, X_val, y_train, y_val = train_test_split(X_train_val, y_train_val, test_size=0.2, random_state=0)"
      ],
      "execution_count": null,
      "outputs": []
    },
    {
      "cell_type": "markdown",
      "metadata": {
        "id": "FLu9V87DA85L"
      },
      "source": [
        "## Entrenamiento de Random Forests\n",
        "\n",
        "Probemos primero entrenando un modelo Random Forest con los parámetros que trae por defecto."
      ]
    },
    {
      "cell_type": "code",
      "metadata": {
        "colab": {
          "base_uri": "https://localhost:8080/"
        },
        "id": "c9EcsdUaWL5w",
        "outputId": "2ab5d81e-0c59-4c1b-a37f-cc9f7473e1aa"
      },
      "source": [
        "from sklearn.ensemble import RandomForestClassifier\n",
        "\n",
        "model = RandomForestClassifier(oob_score=True)\n",
        "model.fit(X_train, y_train)"
      ],
      "execution_count": null,
      "outputs": [
        {
          "output_type": "execute_result",
          "data": {
            "text/plain": [
              "RandomForestClassifier(bootstrap=True, ccp_alpha=0.0, class_weight=None,\n",
              "                       criterion='gini', max_depth=None, max_features='auto',\n",
              "                       max_leaf_nodes=None, max_samples=None,\n",
              "                       min_impurity_decrease=0.0, min_impurity_split=None,\n",
              "                       min_samples_leaf=1, min_samples_split=2,\n",
              "                       min_weight_fraction_leaf=0.0, n_estimators=100,\n",
              "                       n_jobs=None, oob_score=True, random_state=None,\n",
              "                       verbose=0, warm_start=False)"
            ]
          },
          "metadata": {},
          "execution_count": 57
        }
      ]
    },
    {
      "cell_type": "code",
      "metadata": {
        "id": "034hFBWsjToD",
        "colab": {
          "base_uri": "https://localhost:8080/"
        },
        "outputId": "b5890196-86e3-4561-bbcc-01d385ff89e0"
      },
      "source": [
        "print('Exactitud del modelo inicial en entrenamiento:', model.score(X_train, y_train))\n",
        "print('Exactitud del modelo inicial en validación:', model.score(X_val, y_val))\n",
        "print('Exactitud del modelo inicial en entrenamiento (Out of Bag):', model.oob_score_)"
      ],
      "execution_count": null,
      "outputs": [
        {
          "output_type": "stream",
          "name": "stdout",
          "text": [
            "Exactitud del modelo inicial en entrenamiento: 0.9817415730337079\n",
            "Exactitud del modelo inicial en validación: 0.8156424581005587\n",
            "Exactitud del modelo inicial en entrenamiento (Out of Bag): 0.7963483146067416\n"
          ]
        }
      ]
    },
    {
      "cell_type": "markdown",
      "metadata": {
        "id": "48AV8CSXjTzf"
      },
      "source": [
        "### Búsqueda aleatoria de hiperparámetros\n",
        "\n",
        "El clasificador de Random Forest tiene diversos parámetros que pueden ser optimizados. Se puede ver la documentación de [sklearn.ensemble.RandomForestClassifier](http://scikit-learn.org/stable/modules/generated/sklearn.ensemble.RandomForestClassifier.html)\n",
        "\n",
        "Los principales hiperparámetros de Random Forest son:\n",
        "- `n_estimators` -- el número de modelos base (árboles) a entrenar\n",
        "- `max_features` -- el número de características a considerar en cada partición de los árboles\n",
        "- `max_depth` -- la profundidad máxima de los árboles\n",
        "- `min_samples_leaf` -- el numero mínimo de muestras que deben quedar en cada hoja del árbol\n",
        "\n",
        "Para identificar los mejores valores de los hiperparámetros usaremos primero búsqueda aleatoria y luego búsqueda en grilla."
      ]
    },
    {
      "cell_type": "code",
      "metadata": {
        "id": "dQ2fmEHnYq2l"
      },
      "source": [
        "n_estimators = [int(x) for x in np.linspace(start=200, stop=2000, num=10)]\n",
        "max_features = ['auto', 8, 10, 12, None]  # 'auto' equivale a 'sqrt'; None equivale a todas las 15\n",
        "max_depth = [int(x) for x in np.linspace(10, 110, num=11)] + [None]\n",
        "min_samples_leaf = [1, 2, 4]\n",
        "\n",
        "random_grid = {'n_estimators': n_estimators,\n",
        "               'max_features': max_features,\n",
        "               'max_depth': max_depth,\n",
        "               'min_samples_leaf': min_samples_leaf}"
      ],
      "execution_count": null,
      "outputs": []
    },
    {
      "cell_type": "code",
      "metadata": {
        "colab": {
          "base_uri": "https://localhost:8080/"
        },
        "id": "irIaJHkiYutw",
        "outputId": "a30a9bc2-fed3-4d14-e1a3-616d641881af"
      },
      "source": [
        "from pprint import pprint\n",
        "\n",
        "print('Los valores a probar en la búsqueda aleatoria son:')\n",
        "pprint(random_grid)"
      ],
      "execution_count": null,
      "outputs": [
        {
          "output_type": "stream",
          "name": "stdout",
          "text": [
            "Los valores a probar en la búsqueda aleatoria son:\n",
            "{'max_depth': [10, 20, 30, 40, 50, 60, 70, 80, 90, 100, 110, None],\n",
            " 'max_features': ['auto', 8, 10, 12, None],\n",
            " 'min_samples_leaf': [1, 2, 4],\n",
            " 'n_estimators': [200, 400, 600, 800, 1000, 1200, 1400, 1600, 1800, 2000]}\n"
          ]
        }
      ]
    },
    {
      "cell_type": "code",
      "metadata": {
        "id": "AezAx6zud3P7",
        "colab": {
          "base_uri": "https://localhost:8080/"
        },
        "outputId": "a5d2f9c2-8cdf-4a46-f74b-dfc3f402b189"
      },
      "source": [
        "print('Si se probara todas las combinaciones se requeriría entrenar {} modelos'.format(len(random_grid['n_estimators']) *\n",
        "                                                                                       len(random_grid['max_features']) *\n",
        "                                                                                       len(random_grid['max_depth']) *\n",
        "                                                                                       len(random_grid['min_samples_leaf'])))"
      ],
      "execution_count": null,
      "outputs": [
        {
          "output_type": "stream",
          "name": "stdout",
          "text": [
            "Si se probara todas las combinaciones se requeriría entrenar 1800 modelos\n"
          ]
        }
      ]
    },
    {
      "cell_type": "markdown",
      "metadata": {
        "id": "J0Mk5YP_fNRo"
      },
      "source": [
        "Probaremos entrenando sólo un 2% de las combinaciones posibles, es decir, 36. (Se recomienda probar al menos un 10%)"
      ]
    },
    {
      "cell_type": "code",
      "metadata": {
        "id": "HONH5jaNhjuk",
        "colab": {
          "base_uri": "https://localhost:8080/"
        },
        "outputId": "ac1d934f-158b-4deb-b3d5-5df8f6254086"
      },
      "source": [
        "from sklearn.model_selection import RandomizedSearchCV\n",
        "\n",
        "model = RandomForestClassifier(oob_score=True)\n",
        "\n",
        "model_random = RandomizedSearchCV(estimator=model,\n",
        "                                  param_distributions=random_grid,\n",
        "                                  n_iter=36,     # Cada iteración representa un nuevo modelo entrenado en una nueva combinación del diccionario de hiperparámetros.\n",
        "                                  cv=3,          # Validación cruzada 3-fold\n",
        "                                  verbose=2,\n",
        "                                  random_state=0,\n",
        "                                  n_jobs=-1      # Paralelizar en todos los cores disponibles\n",
        "                                )\n",
        "\n",
        "model_random.fit(X_train, y_train)"
      ],
      "execution_count": null,
      "outputs": [
        {
          "output_type": "stream",
          "name": "stdout",
          "text": [
            "Fitting 3 folds for each of 36 candidates, totalling 108 fits\n"
          ]
        },
        {
          "output_type": "stream",
          "name": "stderr",
          "text": [
            "[Parallel(n_jobs=-1)]: Using backend LokyBackend with 2 concurrent workers.\n",
            "[Parallel(n_jobs=-1)]: Done  37 tasks      | elapsed:  1.0min\n",
            "[Parallel(n_jobs=-1)]: Done 108 out of 108 | elapsed:  2.7min finished\n"
          ]
        },
        {
          "output_type": "execute_result",
          "data": {
            "text/plain": [
              "RandomizedSearchCV(cv=3, error_score=nan,\n",
              "                   estimator=RandomForestClassifier(bootstrap=True,\n",
              "                                                    ccp_alpha=0.0,\n",
              "                                                    class_weight=None,\n",
              "                                                    criterion='gini',\n",
              "                                                    max_depth=None,\n",
              "                                                    max_features='auto',\n",
              "                                                    max_leaf_nodes=None,\n",
              "                                                    max_samples=None,\n",
              "                                                    min_impurity_decrease=0.0,\n",
              "                                                    min_impurity_split=None,\n",
              "                                                    min_samples_leaf=1,\n",
              "                                                    min_samples_split=2,\n",
              "                                                    min_weight_fraction_leaf=0.0,\n",
              "                                                    n_estimators=100,\n",
              "                                                    n_jobs...\n",
              "                                                    warm_start=False),\n",
              "                   iid='deprecated', n_iter=36, n_jobs=-1,\n",
              "                   param_distributions={'max_depth': [10, 20, 30, 40, 50, 60,\n",
              "                                                      70, 80, 90, 100, 110,\n",
              "                                                      None],\n",
              "                                        'max_features': ['auto', 8, 10, 12,\n",
              "                                                         None],\n",
              "                                        'min_samples_leaf': [1, 2, 4],\n",
              "                                        'n_estimators': [200, 400, 600, 800,\n",
              "                                                         1000, 1200, 1400, 1600,\n",
              "                                                         1800, 2000]},\n",
              "                   pre_dispatch='2*n_jobs', random_state=0, refit=True,\n",
              "                   return_train_score=False, scoring=None, verbose=2)"
            ]
          },
          "metadata": {},
          "execution_count": 62
        }
      ]
    },
    {
      "cell_type": "code",
      "metadata": {
        "colab": {
          "base_uri": "https://localhost:8080/"
        },
        "id": "WBiMNXWYaZ2h",
        "outputId": "84b73974-6947-450e-a1bf-0aa86f4274d4"
      },
      "source": [
        "model_random_best = model_random.best_estimator_\n",
        "\n",
        "print('Los hiperparámetros del mejor modelo son:')\n",
        "pprint(model_random.best_params_)"
      ],
      "execution_count": null,
      "outputs": [
        {
          "output_type": "stream",
          "name": "stdout",
          "text": [
            "Los hiperparámetros del mejor modelo son:\n",
            "{'max_depth': 70,\n",
            " 'max_features': 10,\n",
            " 'min_samples_leaf': 4,\n",
            " 'n_estimators': 400}\n"
          ]
        }
      ]
    },
    {
      "cell_type": "code",
      "metadata": {
        "id": "V0XVjNfojJjQ",
        "colab": {
          "base_uri": "https://localhost:8080/"
        },
        "outputId": "28b9c099-f780-464c-da67-ed175107f4d5"
      },
      "source": [
        "print('Exactitud luego de búsqueda aleatoria en entrenamiento:', model_random_best.score(X_train, y_train))\n",
        "print('Exactitud luego de búsqueda aleatoria en validación:', model_random_best.score(X_val, y_val))\n",
        "print('Exactitud luego de búsqueda aleatoria en entrenamiento (Out of Bag):', model_random_best.oob_score_)"
      ],
      "execution_count": null,
      "outputs": [
        {
          "output_type": "stream",
          "name": "stdout",
          "text": [
            "Exactitud luego de búsqueda aleatoria en entrenamiento: 0.8862359550561798\n",
            "Exactitud luego de búsqueda aleatoria en validación: 0.8379888268156425\n",
            "Exactitud luego de búsqueda aleatoria en entrenamiento (Out of Bag): 0.8286516853932584\n"
          ]
        }
      ]
    },
    {
      "cell_type": "code",
      "metadata": {
        "id": "YN9h7N_-kqM_"
      },
      "source": [
        "max_features = [9, 10, 11]\n",
        "max_depth = [57, 60, 63]\n",
        "min_samples_leaf = [4]\n",
        "n_estimators = [1200]\n",
        "\n",
        "second_grid = {'n_estimators': n_estimators,\n",
        "               'max_features': max_features,\n",
        "               'max_depth': max_depth,\n",
        "               'min_samples_leaf': min_samples_leaf}"
      ],
      "execution_count": null,
      "outputs": []
    },
    {
      "cell_type": "code",
      "metadata": {
        "colab": {
          "base_uri": "https://localhost:8080/"
        },
        "id": "nOvVM1luaqeM",
        "outputId": "fc30e56b-a8d8-4c7a-f86a-a53f0b9ac18f"
      },
      "source": [
        "print('Los valores a probar en la búsqueda por grilla son:')\n",
        "pprint(second_grid)"
      ],
      "execution_count": null,
      "outputs": [
        {
          "output_type": "stream",
          "name": "stdout",
          "text": [
            "Los valores a probar en la búsqueda por grilla son:\n",
            "{'max_depth': [57, 60, 63],\n",
            " 'max_features': [9, 10, 11],\n",
            " 'min_samples_leaf': [4],\n",
            " 'n_estimators': [1200]}\n"
          ]
        }
      ]
    },
    {
      "cell_type": "code",
      "metadata": {
        "id": "9521F-Crl3Qf",
        "colab": {
          "base_uri": "https://localhost:8080/"
        },
        "outputId": "dcf27740-ce15-47da-c687-23ca28189e50"
      },
      "source": [
        "from sklearn.model_selection import GridSearchCV\n",
        "\n",
        "model = RandomForestClassifier(oob_score=True)\n",
        "model_grid = GridSearchCV(estimator=model,\n",
        "                          param_grid=second_grid,\n",
        "                          cv=3,          # Validación cruzada 3-fold\n",
        "                          verbose=2,\n",
        "                          n_jobs=-1      # Paralelizar en todos los cores disponibles\n",
        "                        )\n",
        "\n",
        "model_grid.fit(X_train, y_train)"
      ],
      "execution_count": null,
      "outputs": [
        {
          "output_type": "stream",
          "name": "stdout",
          "text": [
            "Fitting 3 folds for each of 9 candidates, totalling 27 fits\n"
          ]
        },
        {
          "output_type": "stream",
          "name": "stderr",
          "text": [
            "[Parallel(n_jobs=-1)]: Using backend LokyBackend with 2 concurrent workers.\n",
            "[Parallel(n_jobs=-1)]: Done  27 out of  27 | elapsed:   50.1s finished\n"
          ]
        },
        {
          "output_type": "execute_result",
          "data": {
            "text/plain": [
              "GridSearchCV(cv=3, error_score=nan,\n",
              "             estimator=RandomForestClassifier(bootstrap=True, ccp_alpha=0.0,\n",
              "                                              class_weight=None,\n",
              "                                              criterion='gini', max_depth=None,\n",
              "                                              max_features='auto',\n",
              "                                              max_leaf_nodes=None,\n",
              "                                              max_samples=None,\n",
              "                                              min_impurity_decrease=0.0,\n",
              "                                              min_impurity_split=None,\n",
              "                                              min_samples_leaf=1,\n",
              "                                              min_samples_split=2,\n",
              "                                              min_weight_fraction_leaf=0.0,\n",
              "                                              n_estimators=100, n_jobs=None,\n",
              "                                              oob_score=True, random_state=None,\n",
              "                                              verbose=0, warm_start=False),\n",
              "             iid='deprecated', n_jobs=-1,\n",
              "             param_grid={'max_depth': [57, 60, 63], 'max_features': [9, 10, 11],\n",
              "                         'min_samples_leaf': [4], 'n_estimators': [1200]},\n",
              "             pre_dispatch='2*n_jobs', refit=True, return_train_score=False,\n",
              "             scoring=None, verbose=2)"
            ]
          },
          "metadata": {},
          "execution_count": 67
        }
      ]
    },
    {
      "cell_type": "code",
      "metadata": {
        "colab": {
          "base_uri": "https://localhost:8080/"
        },
        "id": "z5X8t8IPbHld",
        "outputId": "e49f9698-81d6-460a-b0e1-65b125b79d7e"
      },
      "source": [
        "model_grid_best = model_grid.best_estimator_\n",
        "\n",
        "print('Los hiperparámetros del mejor modelo son:')\n",
        "pprint(model_grid.best_params_)"
      ],
      "execution_count": null,
      "outputs": [
        {
          "output_type": "stream",
          "name": "stdout",
          "text": [
            "Los hiperparámetros del mejor modelo son:\n",
            "{'max_depth': 57,\n",
            " 'max_features': 10,\n",
            " 'min_samples_leaf': 4,\n",
            " 'n_estimators': 1200}\n"
          ]
        }
      ]
    },
    {
      "cell_type": "code",
      "metadata": {
        "id": "v_JHtPWImpZR",
        "colab": {
          "base_uri": "https://localhost:8080/"
        },
        "outputId": "fed42ed7-9314-4753-b24c-e1a6a473ee2f"
      },
      "source": [
        "print('Exactitud luego de búsqueda en grilla en entrenamiento:', model_grid_best.score(X_train, y_train))\n",
        "print('Exactitud luego de búsqueda en grilla en validación:', model_grid_best.score(X_val, y_val))\n",
        "print('Exactitud luego de búsqueda en grilla en entrenamiento (Out of Bag):', model_grid_best.oob_score_)"
      ],
      "execution_count": null,
      "outputs": [
        {
          "output_type": "stream",
          "name": "stdout",
          "text": [
            "Exactitud luego de búsqueda en grilla en entrenamiento: 0.8904494382022472\n",
            "Exactitud luego de búsqueda en grilla en validación: 0.8435754189944135\n",
            "Exactitud luego de búsqueda en grilla en entrenamiento (Out of Bag): 0.8188202247191011\n"
          ]
        }
      ]
    },
    {
      "cell_type": "markdown",
      "metadata": {
        "id": "F6CLJy0tA85V"
      },
      "source": [
        "### Curva ROC"
      ]
    },
    {
      "cell_type": "code",
      "metadata": {
        "id": "r_GO37pTcOqB"
      },
      "source": [
        "y_pred_val = model_grid_best.predict_proba(X_val)[:,1]"
      ],
      "execution_count": null,
      "outputs": []
    },
    {
      "cell_type": "code",
      "metadata": {
        "id": "l2k5oQjroOpX",
        "colab": {
          "base_uri": "https://localhost:8080/"
        },
        "outputId": "89e18175-6e4d-44e8-e560-c6cc7a86cdea"
      },
      "source": [
        "from sklearn import metrics\n",
        "\n",
        "auc_roc = metrics.roc_auc_score(y_val, y_pred_val)\n",
        "\n",
        "print('AUC =', auc_roc)"
      ],
      "execution_count": null,
      "outputs": [
        {
          "output_type": "stream",
          "name": "stdout",
          "text": [
            "AUC = 0.8971014492753625\n"
          ]
        }
      ]
    },
    {
      "cell_type": "code",
      "metadata": {
        "colab": {
          "base_uri": "https://localhost:8080/",
          "height": 312
        },
        "id": "y45xj8csbttE",
        "outputId": "52b2d23f-36c6-444c-8c29-104dbc8b5822"
      },
      "source": [
        "plt.figure(figsize=(6,4))\n",
        "\n",
        "metrics.plot_roc_curve(model_grid_best, X_val, y_val)\n",
        "plt.plot([0,1], [0,1], 'k--' )\n",
        "\n",
        "plt.title(\"Curva ROC\")\n",
        "\n",
        "plt.show()"
      ],
      "execution_count": null,
      "outputs": [
        {
          "output_type": "display_data",
          "data": {
            "text/plain": [
              "<Figure size 432x288 with 0 Axes>"
            ]
          },
          "metadata": {}
        },
        {
          "output_type": "display_data",
          "data": {
            "image/png": "[encoded data removed]",
            "text/plain": [
              "<Figure size 432x288 with 1 Axes>"
            ]
          },
          "metadata": {
            "needs_background": "light"
          }
        }
      ]
    },
    {
      "cell_type": "markdown",
      "metadata": {
        "id": "Ts_NzKFKfG_T"
      },
      "source": [
        "## Visualización de las características más importantes\n",
        "\n"
      ]
    },
    {
      "cell_type": "code",
      "metadata": {
        "id": "rKCz7oqqdSUq"
      },
      "source": [
        "feature_names = X_train.columns.values\n",
        "tree_feature_importances = model_grid_best.feature_importances_\n",
        "sorted_idx = tree_feature_importances.argsort()\n",
        "y_ticks = np.arange(0, len(feature_names))"
      ],
      "execution_count": null,
      "outputs": []
    },
    {
      "cell_type": "code",
      "metadata": {
        "id": "Ci-rSk03fHfp",
        "colab": {
          "base_uri": "https://localhost:8080/",
          "height": 441
        },
        "outputId": "f2616275-9ddf-4433-b815-326250c52ac4"
      },
      "source": [
        "fig, ax = plt.subplots(figsize=(8,6))\n",
        "\n",
        "ax.barh(y_ticks, tree_feature_importances[sorted_idx])\n",
        "\n",
        "ax.set_yticklabels(feature_names[sorted_idx])\n",
        "ax.set_yticks(y_ticks)\n",
        "\n",
        "ax.set_title(\"Random Forest Feature Importances\")\n",
        "\n",
        "fig.tight_layout()\n",
        "\n",
        "plt.show()"
      ],
      "execution_count": null,
      "outputs": [
        {
          "output_type": "display_data",
          "data": {
            "image/png": "[encoded data removed]",
            "text/plain": [
              "<Figure size 576x432 with 1 Axes>"
            ]
          },
          "metadata": {
            "needs_background": "light"
          }
        }
      ]
    },
    {
      "cell_type": "markdown",
      "metadata": {
        "id": "a8AzbTQiccWc"
      },
      "source": [
        "# [XGBoost](https://xgboost.readthedocs.io/en/latest/python/python_api.html#xgboost.XGBClassifier) ([ejemplos](https://github.com/dmlc/xgboost/blob/master/demo/guide-python/sklearn_examples.py)\\)"
      ]
    },
    {
      "cell_type": "code",
      "metadata": {
        "id": "cUagx7z7ZA0X"
      },
      "source": [
        "max_depth = range(50, 60)\n",
        "learning_rate = [0.4, 0.45, 0.5, 0.55, 0.6]\n",
        "n_estimators = range(100, 150, 10)\n",
        "\n",
        "xgboost_grid = {'n_estimators': n_estimators,\n",
        "                'learning_rate': learning_rate,\n",
        "                'max_depth': max_depth}"
      ],
      "execution_count": null,
      "outputs": []
    },
    {
      "cell_type": "code",
      "metadata": {
        "colab": {
          "base_uri": "https://localhost:8080/"
        },
        "id": "mTBzrO9iZA0X",
        "outputId": "3c6ffa6c-a4f1-48df-b893-688503cfec4a"
      },
      "source": [
        "print('Los valores a probar en la búsqueda por grilla son:')\n",
        "pprint(xgboost_grid)"
      ],
      "execution_count": null,
      "outputs": [
        {
          "output_type": "stream",
          "name": "stdout",
          "text": [
            "Los valores a probar en la búsqueda por grilla son:\n",
            "{'learning_rate': [0.4, 0.45, 0.5, 0.55, 0.6],\n",
            " 'max_depth': range(50, 60),\n",
            " 'n_estimators': range(100, 150, 10)}\n"
          ]
        }
      ]
    },
    {
      "cell_type": "code",
      "metadata": {
        "colab": {
          "base_uri": "https://localhost:8080/"
        },
        "id": "07uwSh_cZA0Y",
        "outputId": "7a7255b6-8230-4494-f3fe-646b6ca73797"
      },
      "source": [
        "from xgboost.sklearn import XGBClassifier\n",
        "\n",
        "model = XGBClassifier()\n",
        "model_grid = GridSearchCV(estimator=model,\n",
        "                          param_grid=second_grid,\n",
        "                          cv=3,          # Validación cruzada 3-fold\n",
        "                          verbose=2,\n",
        "                          n_jobs=-1      # Paralelizar en todos los cores disponibles\n",
        "                        )\n",
        "\n",
        "model_grid.fit(X_train, y_train)"
      ],
      "execution_count": null,
      "outputs": [
        {
          "output_type": "stream",
          "name": "stdout",
          "text": [
            "Fitting 3 folds for each of 9 candidates, totalling 27 fits\n"
          ]
        },
        {
          "output_type": "stream",
          "name": "stderr",
          "text": [
            "[Parallel(n_jobs=-1)]: Using backend LokyBackend with 2 concurrent workers.\n",
            "[Parallel(n_jobs=-1)]: Done  27 out of  27 | elapsed:   16.5s finished\n"
          ]
        },
        {
          "output_type": "execute_result",
          "data": {
            "text/plain": [
              "GridSearchCV(cv=3, error_score=nan,\n",
              "             estimator=XGBClassifier(base_score=0.5, booster='gbtree',\n",
              "                                     colsample_bylevel=1, colsample_bynode=1,\n",
              "                                     colsample_bytree=1, gamma=0,\n",
              "                                     learning_rate=0.1, max_delta_step=0,\n",
              "                                     max_depth=3, min_child_weight=1,\n",
              "                                     missing=None, n_estimators=100, n_jobs=1,\n",
              "                                     nthread=None, objective='binary:logistic',\n",
              "                                     random_state=0, reg_alpha=0, reg_lambda=1,\n",
              "                                     scale_pos_weight=1, seed=None, silent=None,\n",
              "                                     subsample=1, verbosity=1),\n",
              "             iid='deprecated', n_jobs=-1,\n",
              "             param_grid={'max_depth': [57, 60, 63], 'max_features': [9, 10, 11],\n",
              "                         'min_samples_leaf': [4], 'n_estimators': [1200]},\n",
              "             pre_dispatch='2*n_jobs', refit=True, return_train_score=False,\n",
              "             scoring=None, verbose=2)"
            ]
          },
          "metadata": {},
          "execution_count": 85
        }
      ]
    },
    {
      "cell_type": "code",
      "metadata": {
        "colab": {
          "base_uri": "https://localhost:8080/"
        },
        "id": "3oLom5EKZA0Z",
        "outputId": "e01253a6-c233-4812-aa3d-e7a871d9d3c6"
      },
      "source": [
        "model_grid_best = model_grid.best_estimator_\n",
        "\n",
        "print('Los hiperparámetros del mejor modelo son:')\n",
        "pprint(model_grid.best_params_)"
      ],
      "execution_count": null,
      "outputs": [
        {
          "output_type": "stream",
          "name": "stdout",
          "text": [
            "Los hiperparámetros del mejor modelo son:\n",
            "{'max_depth': 57,\n",
            " 'max_features': 9,\n",
            " 'min_samples_leaf': 4,\n",
            " 'n_estimators': 1200}\n"
          ]
        }
      ]
    },
    {
      "cell_type": "code",
      "metadata": {
        "colab": {
          "base_uri": "https://localhost:8080/"
        },
        "id": "6UX-F8_pZA0a",
        "outputId": "fc185409-9821-42f5-fc2b-017a7b1ccf61"
      },
      "source": [
        "print('Exactitud luego de búsqueda en grilla en entrenamiento:', model_grid_best.score(X_train, y_train))\n",
        "print('Exactitud luego de búsqueda en grilla en validación:', model_grid_best.score(X_val, y_val))"
      ],
      "execution_count": null,
      "outputs": [
        {
          "output_type": "stream",
          "name": "stdout",
          "text": [
            "Exactitud luego de búsqueda en grilla en entrenamiento: 0.9817415730337079\n",
            "Exactitud luego de búsqueda en grilla en validación: 0.8324022346368715\n"
          ]
        }
      ]
    },
    {
      "cell_type": "markdown",
      "metadata": {
        "id": "WZG67N2qFQc2"
      },
      "source": [
        "# Otros modelos de ensamble\n",
        "\n",
        "Prueba a entrenar ensambles con por lo menos otras dos [estrategias](https://scikit-learn.org/stable/modules/ensemble.html#). Puedes intentar, por ejemplo, con [AdaBoost](https://scikit-learn.org/stable/modules/ensemble.html#adaboost), [Gradient Boosting](https://scikit-learn.org/stable/modules/ensemble.html#gradient-tree-boosting) o [Stacked](https://scikit-learn.org/stable/modules/ensemble.html#stacked-generalization). Tal como se muestra a continuación con XGBoost."
      ]
    },
    {
      "cell_type": "code",
      "metadata": {
        "id": "44cEkZWtcuvV"
      },
      "source": [],
      "execution_count": null,
      "outputs": []
    },
    {
      "cell_type": "code",
      "metadata": {
        "id": "wJa4fLU9cux6"
      },
      "source": [],
      "execution_count": null,
      "outputs": []
    },
    {
      "cell_type": "code",
      "metadata": {
        "id": "QGnkV5QAcu9B"
      },
      "source": [],
      "execution_count": null,
      "outputs": []
    },
    {
      "cell_type": "code",
      "metadata": {
        "id": "lTx8274wcvDn"
      },
      "source": [],
      "execution_count": null,
      "outputs": []
    }
  ]
}